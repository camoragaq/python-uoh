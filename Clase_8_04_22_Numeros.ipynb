{
  "nbformat": 4,
  "nbformat_minor": 0,
  "metadata": {
    "colab": {
      "name": "Clase-8-04-22-Numeros.ipynb",
      "provenance": [],
      "authorship_tag": "ABX9TyP/H0ShVx9zpNz6HseXApeB",
      "include_colab_link": true
    },
    "kernelspec": {
      "name": "python3",
      "display_name": "Python 3"
    },
    "language_info": {
      "name": "python"
    }
  },
  "cells": [
    {
      "cell_type": "markdown",
      "metadata": {
        "id": "view-in-github",
        "colab_type": "text"
      },
      "source": [
        "<a href=\"https://colab.research.google.com/github/camoragaq/python-uoh/blob/main/Clase_8_04_22_Numeros.ipynb\" target=\"_parent\"><img src=\"https://colab.research.google.com/assets/colab-badge.svg\" alt=\"Open In Colab\"/></a>"
      ]
    },
    {
      "cell_type": "code",
      "execution_count": null,
      "metadata": {
        "id": "cEnaOJPsv4pp"
      },
      "outputs": [],
      "source": [
        ""
      ]
    },
    {
      "cell_type": "markdown",
      "source": [
        "Operaciones básicas en Python\n",
        "\n",
        "Varibles numéricas"
      ],
      "metadata": {
        "id": "l4FqPnTrv75P"
      }
    },
    {
      "cell_type": "code",
      "source": [
        "#suma\n",
        "123+222"
      ],
      "metadata": {
        "colab": {
          "base_uri": "https://localhost:8080/"
        },
        "id": "L1x2MlFgv_BD",
        "outputId": "7905e75c-9720-4680-c82b-3dae18a226a4"
      },
      "execution_count": 1,
      "outputs": [
        {
          "output_type": "execute_result",
          "data": {
            "text/plain": [
              "345"
            ]
          },
          "metadata": {},
          "execution_count": 1
        }
      ]
    },
    {
      "cell_type": "code",
      "source": [
        "#multiplicación\n",
        "1.5*4"
      ],
      "metadata": {
        "colab": {
          "base_uri": "https://localhost:8080/"
        },
        "id": "geJCMJ06wDNW",
        "outputId": "5eaf3b3a-2b7c-4b8c-e289-657ae4e9a85a"
      },
      "execution_count": 2,
      "outputs": [
        {
          "output_type": "execute_result",
          "data": {
            "text/plain": [
              "6.0"
            ]
          },
          "metadata": {},
          "execution_count": 2
        }
      ]
    },
    {
      "cell_type": "code",
      "source": [
        "#exponencial\n",
        "2**100"
      ],
      "metadata": {
        "colab": {
          "base_uri": "https://localhost:8080/"
        },
        "id": "ngNCfLCiwGsw",
        "outputId": "877a0aca-dd71-4b8b-86d9-f42fe6a39d33"
      },
      "execution_count": 3,
      "outputs": [
        {
          "output_type": "execute_result",
          "data": {
            "text/plain": [
              "1267650600228229401496703205376"
            ]
          },
          "metadata": {},
          "execution_count": 3
        }
      ]
    },
    {
      "cell_type": "code",
      "source": [
        "#definir variables de tipo entero en otros lenguajes\n",
        "int x=10\n",
        "float y=1.5"
      ],
      "metadata": {
        "id": "RiEgckjIwKqi"
      },
      "execution_count": null,
      "outputs": []
    },
    {
      "cell_type": "code",
      "source": [
        "#python\n",
        "x=100\n",
        "print(x)"
      ],
      "metadata": {
        "id": "6Cv9FqNVwMao"
      },
      "execution_count": null,
      "outputs": []
    },
    {
      "cell_type": "code",
      "source": [
        "#definicion de variables y uso de parentesis para ecuaciones complejas\n",
        "a=10\n",
        "b=20\n",
        "\n",
        "(a*(a+b))/2"
      ],
      "metadata": {
        "colab": {
          "base_uri": "https://localhost:8080/"
        },
        "id": "cxqXJH0zwOXd",
        "outputId": "84afc6d7-29d8-4779-a42f-b6b8b89c0fc3"
      },
      "execution_count": 4,
      "outputs": [
        {
          "output_type": "execute_result",
          "data": {
            "text/plain": [
              "150.0"
            ]
          },
          "metadata": {},
          "execution_count": 4
        }
      ]
    },
    {
      "cell_type": "code",
      "source": [
        "#cambio de parentesis\n",
        "a=10\n",
        "b=20\n",
        "\n",
        "(a*a +(a+b))/2"
      ],
      "metadata": {
        "colab": {
          "base_uri": "https://localhost:8080/"
        },
        "id": "F1FH7aRWwcCD",
        "outputId": "885bb414-2bbe-473c-f4d6-540a4e156b8b"
      },
      "execution_count": 5,
      "outputs": [
        {
          "output_type": "execute_result",
          "data": {
            "text/plain": [
              "65.0"
            ]
          },
          "metadata": {},
          "execution_count": 5
        }
      ]
    },
    {
      "cell_type": "code",
      "source": [
        "#combinando operaciones\n",
        "a+1, a/2, b**2"
      ],
      "metadata": {
        "colab": {
          "base_uri": "https://localhost:8080/"
        },
        "id": "7Xa2gcTIweZ-",
        "outputId": "deabf06e-9bed-409a-9338-e5ad1dee7ef8"
      },
      "execution_count": 6,
      "outputs": [
        {
          "output_type": "execute_result",
          "data": {
            "text/plain": [
              "(11, 5.0, 400)"
            ]
          },
          "metadata": {},
          "execution_count": 6
        }
      ]
    },
    {
      "cell_type": "code",
      "source": [
        "#funcion int() para pasar variable numerica a entero\n",
        "s = 12.3\n",
        "print(int(s))"
      ],
      "metadata": {
        "colab": {
          "base_uri": "https://localhost:8080/"
        },
        "id": "PD4ThHcWwhGK",
        "outputId": "bb40ff3b-1dff-4cd3-f528-d703f27edf1e"
      },
      "execution_count": 7,
      "outputs": [
        {
          "output_type": "stream",
          "name": "stdout",
          "text": [
            "12\n"
          ]
        }
      ]
    },
    {
      "cell_type": "code",
      "source": [
        "#no es posible aplicar desde una variable de otro tipo\n",
        "s = \"Python\"\n",
        "int(s)"
      ],
      "metadata": {
        "id": "2VXTfnriwj8e"
      },
      "execution_count": null,
      "outputs": []
    },
    {
      "cell_type": "code",
      "source": [
        "#pero si es posible pasar una variable de tipo numerica a string\n",
        "s = 123\n",
        "print(str(s))"
      ],
      "metadata": {
        "id": "vNZvCHYZwmF9"
      },
      "execution_count": null,
      "outputs": []
    },
    {
      "cell_type": "code",
      "source": [
        "a = a + b\n",
        "print(a)      \n",
        "print(type(a))"
      ],
      "metadata": {
        "id": "kaVryh4QwoLk"
      },
      "execution_count": null,
      "outputs": []
    },
    {
      "cell_type": "code",
      "source": [
        "#Comparaciones usando >, <, >= , !=, ==\n",
        "print (1>2)\n",
        "print (2.0>=1)\n",
        "a = 5\n",
        "b = 5\n",
        "print (a==b)\n",
        "print (a!=b)\n",
        "\n",
        "#combinaciones usando comparaciones true o false\n",
        "print (1 == 2<3)\n",
        "print (1==2 and 2<3)"
      ],
      "metadata": {
        "colab": {
          "base_uri": "https://localhost:8080/"
        },
        "id": "oUyVIPF_wqdu",
        "outputId": "a3ac75ec-5779-499b-e13b-24d093664c94"
      },
      "execution_count": 8,
      "outputs": [
        {
          "output_type": "stream",
          "name": "stdout",
          "text": [
            "False\n",
            "True\n",
            "True\n",
            "False\n",
            "False\n",
            "False\n"
          ]
        }
      ]
    }
  ]
}