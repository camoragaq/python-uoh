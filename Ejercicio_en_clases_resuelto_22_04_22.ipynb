{
  "nbformat": 4,
  "nbformat_minor": 0,
  "metadata": {
    "colab": {
      "name": "Ejercicio-en-clases-resuelto-22-04-22.ipynb",
      "provenance": [],
      "collapsed_sections": [],
      "authorship_tag": "ABX9TyMhFzsvjkclLOvy8drxQpGX",
      "include_colab_link": true
    },
    "kernelspec": {
      "name": "python3",
      "display_name": "Python 3"
    },
    "language_info": {
      "name": "python"
    }
  },
  "cells": [
    {
      "cell_type": "markdown",
      "metadata": {
        "id": "view-in-github",
        "colab_type": "text"
      },
      "source": [
        "<a href=\"https://colab.research.google.com/github/camoragaq/python-uoh/blob/main/Ejercicio_en_clases_resuelto_22_04_22.ipynb\" target=\"_parent\"><img src=\"https://colab.research.google.com/assets/colab-badge.svg\" alt=\"Open In Colab\"/></a>"
      ]
    },
    {
      "cell_type": "markdown",
      "source": [
        "#Ejercicio control resuelto\n",
        "1.Usando listas y diccionarios,crea una estructura para almacenar la ficha médica de X pacientes (mínimo 4). En cada ficha va el nombre, edad, patología, temperatura, fecha de ultimo control. "
      ],
      "metadata": {
        "id": "AgTqYxuMQ8dD"
      }
    },
    {
      "cell_type": "code",
      "source": [
        "#paciente 1: Juan Castro, 44, covid, 36.7, 4-04-22\n",
        "#paciente 2: Ana Gomez, 24, diabetes, 38.5, 15-04-22\n",
        "#paciente 3: Carol Moraga, 35, esguince, 37.5, 20-04-22\n",
        "\n",
        "#usamos un diccionario, en donde la llave será algo único como el nombre del paciente (podría ser el rut)\n",
        "#cada llave llevará una lista con los datos del paciente en orden: edad,patologīa, temperatura, fecha de control.\n",
        "pacientes={'juan castro':['44','covid','36.7','4-04-22'],'ana gomez':['24','diabetes','38.5','15-04-22'],'carol moraga':['35', 'esguince','37.5','20-04-22']}\n",
        "\n",
        "lista=['juan castro', 'ana gomez', 'carol moraga']\n",
        "\n",
        "print(lugares)\n",
        "print(lista)"
      ],
      "metadata": {
        "colab": {
          "base_uri": "https://localhost:8080/"
        },
        "id": "tGt8FFFGRTIk",
        "outputId": "576b83f8-3c1c-40ba-df30-afae55bbd596"
      },
      "execution_count": 51,
      "outputs": [
        {
          "output_type": "stream",
          "name": "stdout",
          "text": [
            "{'juan catro': ('44', 'covid', '36.7', '4-04-22'), 'ana gomez': ('24', 'diabetes', '38.5', '15-04-22'), 'carol moraga': ('35', 'esguince', '37.5', '20-04-22')}\n",
            "['juan castro', 'ana gomez', 'carol moraga']\n"
          ]
        }
      ]
    },
    {
      "cell_type": "markdown",
      "source": [
        "2. Con esta estructura deberás hacer las siguientes operaciones:\n",
        "-Imprimir el mensaje de un paciente su temperatura, patología y fecha de último control."
      ],
      "metadata": {
        "id": "0Kt8SVaeS4gz"
      }
    },
    {
      "cell_type": "code",
      "source": [
        "print('El paciente '+ lista[2] + ',' + ' tiene ' + pacientes[lista[2]][1] + ', su temperatura es:' + pacientes[lista[2]][2] + ', su último control fue: ' +pacientes[lista[2]][3]  )\n"
      ],
      "metadata": {
        "colab": {
          "base_uri": "https://localhost:8080/"
        },
        "id": "8MXWs35GTQoS",
        "outputId": "0194ce80-7e8e-4a43-cf11-6d7a30af9b5c"
      },
      "execution_count": 24,
      "outputs": [
        {
          "output_type": "stream",
          "name": "stdout",
          "text": [
            "El paciente carol moraga, tiene esguince, su temperatura es:37.5, su último control fue: 20-04-22\n"
          ]
        }
      ]
    },
    {
      "cell_type": "markdown",
      "source": [
        "-Actualizar la temperatura y fecha del último control, del segundo paciente."
      ],
      "metadata": {
        "id": "Xbap3pCBVY3_"
      }
    },
    {
      "cell_type": "code",
      "source": [
        "print(pacientes[lista[1]])\n",
        "pacientes[lista[1]][2]='37.8'\n",
        "pacientes[lista[1]][3]='21-04-22'\n",
        "print(pacientes[lista[1]])"
      ],
      "metadata": {
        "colab": {
          "base_uri": "https://localhost:8080/"
        },
        "id": "usKcqWWRVcfS",
        "outputId": "0e5b4fb2-4d2a-461d-e97e-75916d894d30"
      },
      "execution_count": 54,
      "outputs": [
        {
          "output_type": "stream",
          "name": "stdout",
          "text": [
            "['24', 'diabetes', '38.5', '15-04-22']\n",
            "['24', 'diabetes', '37.8', '21-04-22']\n"
          ]
        }
      ]
    },
    {
      "cell_type": "markdown",
      "source": [
        "-Eliminar el tercer paciente por estar «dado de alta», y guardar su información en una estructura no modificable para tener de respaldo."
      ],
      "metadata": {
        "id": "V75llREhWr-U"
      }
    },
    {
      "cell_type": "code",
      "source": [
        "print(pacientes[lista[2]])\n",
        "respaldo=(lista[2], pacientes[lista[2]])\n",
        "del pacientes[lista[2]]\n",
        "del lista[2]\n",
        "print(respaldo)\n",
        "print(pacientes)\n",
        "print(lista)\n"
      ],
      "metadata": {
        "colab": {
          "base_uri": "https://localhost:8080/"
        },
        "id": "SGvTNYDQWwGM",
        "outputId": "6b6c433c-beb9-423e-d011-4260eb5db497"
      },
      "execution_count": 52,
      "outputs": [
        {
          "output_type": "stream",
          "name": "stdout",
          "text": [
            "['35', 'esguince', '37.5', '20-04-22']\n",
            "('carol moraga', ['35', 'esguince', '37.5', '20-04-22'])\n",
            "{'juan castro': ['44', 'covid', '36.7', '4-04-22'], 'ana gomez': ['24', 'diabetes', '38.5', '15-04-22']}\n",
            "['juan castro', 'ana gomez']\n"
          ]
        }
      ]
    },
    {
      "cell_type": "markdown",
      "source": [
        "-Agregar un nuevo paciente con fecha de control de hoy."
      ],
      "metadata": {
        "id": "MhtuF1AkbhTX"
      }
    },
    {
      "cell_type": "code",
      "source": [
        "lista.append('alex bravo')\n",
        "pacientes[lista[-1]]=['37','fractura','36.4','22-04-22']\n",
        "print(pacientes)"
      ],
      "metadata": {
        "colab": {
          "base_uri": "https://localhost:8080/"
        },
        "id": "SbNCX1ICblC2",
        "outputId": "c8efcd6a-c63f-4f06-816f-cc25ee312744"
      },
      "execution_count": 53,
      "outputs": [
        {
          "output_type": "stream",
          "name": "stdout",
          "text": [
            "{'juan castro': ['44', 'covid', '36.7', '4-04-22'], 'ana gomez': ['24', 'diabetes', '38.5', '15-04-22'], 'alex bravo': ['37', 'fractura', '36.4', '22-04-22']}\n"
          ]
        }
      ]
    }
  ]
}