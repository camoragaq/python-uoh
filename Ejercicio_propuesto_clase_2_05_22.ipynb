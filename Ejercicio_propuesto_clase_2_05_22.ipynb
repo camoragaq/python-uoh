{
  "nbformat": 4,
  "nbformat_minor": 0,
  "metadata": {
    "colab": {
      "name": "Ejercicio-propuesto-clase-2-05-22.ipynb",
      "provenance": [],
      "collapsed_sections": [],
      "authorship_tag": "ABX9TyPu2oB5Ya84O5HsOLVAjIOH",
      "include_colab_link": true
    },
    "kernelspec": {
      "name": "python3",
      "display_name": "Python 3"
    },
    "language_info": {
      "name": "python"
    }
  },
  "cells": [
    {
      "cell_type": "markdown",
      "metadata": {
        "id": "view-in-github",
        "colab_type": "text"
      },
      "source": [
        "<a href=\"https://colab.research.google.com/github/camoragaq/python-uoh/blob/main/Ejercicio_propuesto_clase_2_05_22.ipynb\" target=\"_parent\"><img src=\"https://colab.research.google.com/assets/colab-badge.svg\" alt=\"Open In Colab\"/></a>"
      ]
    },
    {
      "cell_type": "markdown",
      "source": [
        "#Ejercicios propuestos clase 2 de mayo Funciones y Recursividad\n",
        "\n",
        "Podemos formular recursivamente la suma de los n primeros números naturales:\n",
        "\n",
        "suma()\n",
        "\n",
        "         Suma(de 1 a n)= 1                     , si n=1\n",
        "                       = n + Suma(de 1 a n-1)  , si n>1\n",
        "\n",
        "Diseña una función en Python recursiva que calcule la sumatorio de los n primeros números naturales."
      ],
      "metadata": {
        "id": "MysOtgEZ-_fC"
      }
    },
    {
      "cell_type": "code",
      "source": [
        "#nuestra funcion recibe numeros enteros mayores a 0\n",
        "def suma(n):\n",
        "   if n==1:\n",
        "     resultado = 1\n",
        "   else:\n",
        "     resultado = n + suma(n-1)\n",
        "  \n",
        "   return resultado\n",
        "    \n",
        "suma(10)"
      ],
      "metadata": {
        "colab": {
          "base_uri": "https://localhost:8080/"
        },
        "id": "nlfqZKIwdFFB",
        "outputId": "5e719659-8e51-4249-cdcc-bf82fac76367"
      },
      "execution_count": 3,
      "outputs": [
        {
          "output_type": "execute_result",
          "data": {
            "text/plain": [
              "55"
            ]
          },
          "metadata": {},
          "execution_count": 3
        }
      ]
    }
  ]
}