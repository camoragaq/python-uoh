{
  "nbformat": 4,
  "nbformat_minor": 0,
  "metadata": {
    "colab": {
      "name": "Ejercicios-propuestos-clase-18-04-22.ipynb",
      "provenance": [],
      "collapsed_sections": [],
      "authorship_tag": "ABX9TyMMH8Y0EEJrPN1LYxPigH7c",
      "include_colab_link": true
    },
    "kernelspec": {
      "name": "python3",
      "display_name": "Python 3"
    },
    "language_info": {
      "name": "python"
    }
  },
  "cells": [
    {
      "cell_type": "markdown",
      "metadata": {
        "id": "view-in-github",
        "colab_type": "text"
      },
      "source": [
        "<a href=\"https://colab.research.google.com/github/camoragaq/python-uoh/blob/main/Ejercicios_propuestos_clase_18_04_22.ipynb\" target=\"_parent\"><img src=\"https://colab.research.google.com/assets/colab-badge.svg\" alt=\"Open In Colab\"/></a>"
      ]
    },
    {
      "cell_type": "code",
      "execution_count": null,
      "metadata": {
        "id": "u4dEAjQywZc1"
      },
      "outputs": [],
      "source": [
        ""
      ]
    },
    {
      "cell_type": "markdown",
      "source": [
        "#Ejercicios propuestos clase de Diccionarios y Tuplas\n",
        "##Diccionarios -> Ciudades favoritas: Piensa en la lista de lugares que te gustaría visitar.\n",
        "\n",
        "1. Haz un diccionario con cada lugar agregando valores como: país, idioma, tipo de moneda, etc.\n",
        "2. Mezclando listas y diccionarios (o diccionarios y listas)crea una estructura en donde almacenes los lugares favoritos de varias personas.\n",
        "3. Luego imprime alguno de ellos con el nombre de la persona y alguna característica del lugar a remarcar.\n",
        "\n",
        "\n",
        "## Tuplas -> Buffet: Un restaurante tipo buffet ofrece sólo cinco alimentos básicos.\n",
        "    \n",
        "1. Piensa en cinco alimentos sencillos, y guárdalos en una tupla.\n",
        "2. Utiliza un bucle ‘for’ para imprimir cada comida que ofrece el restaurante (mirando los ejercicios visto en clases del 18 de abril).\n",
        "3. Intenta modificar uno de los alimentos, y asegúrate de que Python rechaza el cambio.\n",
        "4. El restaurante cambia su menú, sustituyendo dos de los alimentos por otros diferentes. Sobreescribir la tupla, y luego utiliza un bucle ‘for’ para imprimir cada uno de los elementos del menú revisado. \n",
        "\n",
        "\n",
        " "
      ],
      "metadata": {
        "id": "QRmvRAWcy2QZ"
      }
    }
  ]
}