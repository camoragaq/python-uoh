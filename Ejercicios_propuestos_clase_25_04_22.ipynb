{
  "nbformat": 4,
  "nbformat_minor": 0,
  "metadata": {
    "colab": {
      "name": "Ejercicios-propuestos-clase-25-04-22.ipynb",
      "provenance": [],
      "collapsed_sections": [],
      "authorship_tag": "ABX9TyNDu0uohIgThBZ6KR5YSxW1",
      "include_colab_link": true
    },
    "kernelspec": {
      "name": "python3",
      "display_name": "Python 3"
    },
    "language_info": {
      "name": "python"
    }
  },
  "cells": [
    {
      "cell_type": "markdown",
      "metadata": {
        "id": "view-in-github",
        "colab_type": "text"
      },
      "source": [
        "<a href=\"https://colab.research.google.com/github/camoragaq/python-uoh/blob/main/Ejercicios_propuestos_clase_25_04_22.ipynb\" target=\"_parent\"><img src=\"https://colab.research.google.com/assets/colab-badge.svg\" alt=\"Open In Colab\"/></a>"
      ]
    },
    {
      "cell_type": "markdown",
      "source": [
        "#Ejercicios propuestos clase 25 de abril\n",
        "##Manejo de archivos\n",
        "1. Usando función open(), y el respectivo modo, crear un archivo.\n",
        "2. Escribir dentro del archivo una cita de su escritor, poeta, filósofo favorito usando la función write().\n",
        "3. Cerrar el archivo usando la función close().\n",
        "\n",
        "##Estructuras de control\n",
        "1. Leer un archivo preexistente con los nombres del curso (incluyendo el suyo).\n",
        "2. Usando estructuras de control como for, if-elif-else, while, consultar cada línea del código y detenerse hasta que aparezca su nombre en el archivo e imprimirlo."
      ],
      "metadata": {
        "id": "uUqwHgD9xa1I"
      }
    }
  ]
}