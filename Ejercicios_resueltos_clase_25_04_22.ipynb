{
  "nbformat": 4,
  "nbformat_minor": 0,
  "metadata": {
    "colab": {
      "name": "Ejercicios-resueltos-clase-25-04-22.ipynb",
      "provenance": [],
      "collapsed_sections": [],
      "authorship_tag": "ABX9TyN5S3PSFyQKYjTTOThYpzJI",
      "include_colab_link": true
    },
    "kernelspec": {
      "name": "python3",
      "display_name": "Python 3"
    },
    "language_info": {
      "name": "python"
    }
  },
  "cells": [
    {
      "cell_type": "markdown",
      "metadata": {
        "id": "view-in-github",
        "colab_type": "text"
      },
      "source": [
        "<a href=\"https://colab.research.google.com/github/camoragaq/python-uoh/blob/main/Ejercicios_resueltos_clase_25_04_22.ipynb\" target=\"_parent\"><img src=\"https://colab.research.google.com/assets/colab-badge.svg\" alt=\"Open In Colab\"/></a>"
      ]
    },
    {
      "cell_type": "markdown",
      "source": [
        "#Ejercicios propuestos clase 25 de abril\n",
        "##Manejo de archivos\n",
        "1. Usando función open(), y el respectivo modo, crear un archivo.\n",
        "2. Escribir dentro del archivo una cita de su escritor, poeta, filósofo favorito usando la función write().\n",
        "3. Cerrar el archivo usando la función close().\n",
        "\n",
        "##Estructuras de control\n",
        "1. Leer un archivo preexistente con los nombres del curso (incluyendo el suyo).\n",
        "2. Usando estructuras de control como for, if-elif-else, while, consultar cada línea del archivo y detenerse hasta que aparezca su nombre en el archivo e imprimirlo."
      ],
      "metadata": {
        "id": "uUqwHgD9xa1I"
      }
    },
    {
      "cell_type": "markdown",
      "source": [
        "Solución Ejercicio Manejo de archivos"
      ],
      "metadata": {
        "id": "2jXp3gJKD2MT"
      }
    },
    {
      "cell_type": "code",
      "source": [
        "filename = 'cita.txt'\n",
        "with open(filename,'w') as archivo:\n",
        "   archivo.write(\"Ser feliz no significa que todo sea perfecto, significa que has decidido ver más allá de las imperfecciones.\\n\")\n",
        "archivo.close()"
      ],
      "metadata": {
        "id": "mezL0iUjD0Db"
      },
      "execution_count": 1,
      "outputs": []
    },
    {
      "cell_type": "markdown",
      "source": [
        "Solución Ejercicio Estructuras de control"
      ],
      "metadata": {
        "id": "t2KplRf1HcEf"
      }
    },
    {
      "cell_type": "code",
      "source": [
        "#abrir el archivo\n",
        "filename = 'nombres.txt'\n",
        "file = open(filename)\n",
        "name = 'carol'\n",
        "#leer linea por linea\n",
        "for line in file:\n",
        "   line=line.rstrip()\n",
        "   if line == name :\n",
        "      print(line.upper())\n",
        "      break\n",
        "\n",
        "#cerramos el archivo \n",
        "file.close()"
      ],
      "metadata": {
        "colab": {
          "base_uri": "https://localhost:8080/"
        },
        "id": "67f76cT2HPID",
        "outputId": "b7ac6f26-6092-4a0d-d0b0-841842f78cfb"
      },
      "execution_count": 6,
      "outputs": [
        {
          "output_type": "stream",
          "name": "stdout",
          "text": [
            "CAROL\n"
          ]
        }
      ]
    }
  ]
}