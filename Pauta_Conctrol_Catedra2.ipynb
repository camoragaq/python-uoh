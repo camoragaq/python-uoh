{
  "nbformat": 4,
  "nbformat_minor": 0,
  "metadata": {
    "colab": {
      "name": "Pauta-Conctrol-Catedra2.ipynb",
      "provenance": [],
      "collapsed_sections": [],
      "authorship_tag": "ABX9TyO03OONDfzMQkyKwi4WT9LQ",
      "include_colab_link": true
    },
    "kernelspec": {
      "name": "python3",
      "display_name": "Python 3"
    },
    "language_info": {
      "name": "python"
    }
  },
  "cells": [
    {
      "cell_type": "markdown",
      "metadata": {
        "id": "view-in-github",
        "colab_type": "text"
      },
      "source": [
        "<a href=\"https://colab.research.google.com/github/camoragaq/python-uoh/blob/main/Pauta_Conctrol_Catedra2.ipynb\" target=\"_parent\"><img src=\"https://colab.research.google.com/assets/colab-badge.svg\" alt=\"Open In Colab\"/></a>"
      ]
    },
    {
      "cell_type": "markdown",
      "source": [
        "#Pauta Control Cátedra 2"
      ],
      "metadata": {
        "id": "Nn-7Odquv9RL"
      }
    },
    {
      "cell_type": "markdown",
      "source": [
        "6. Defina una classe Paciente() que tenga los atributos nombre, edad, y enfermedades; luego cree un objeto paciente con dichos atributos. Además, defina un método para agregar nuevas enfermedades y agregue enfermedad \"covid\":"
      ],
      "metadata": {
        "id": "pNXWByfUwJWN"
      }
    },
    {
      "cell_type": "code",
      "source": [
        "class Paciente():\n",
        "  def __init__(self, nombre, edad, enfermedades):\n",
        "    self.nombre=nombre\n",
        "    self.edad=edad\n",
        "    self.enfermedades=enfermedades\n",
        "\n",
        "  def agregarnuevaenf(self, nuevaenf):\n",
        "    self.enfermedades.append(nuevaenf)\n",
        "\n",
        "\n",
        "enfermedades=[\"migraña\",\"bronquitis\"]\n",
        "juan=Paciente(\"Juan Perez\",\"25\",enfermedades)\n",
        "juan.agregarnuevaenf(\"covid\")\n",
        "print(juan.enfermedades)"
      ],
      "metadata": {
        "colab": {
          "base_uri": "https://localhost:8080/"
        },
        "id": "S0Qmn3npwjyK",
        "outputId": "b36d23b1-99a3-4cc1-cfb8-916ba2e590cd"
      },
      "execution_count": 8,
      "outputs": [
        {
          "output_type": "stream",
          "name": "stdout",
          "text": [
            "['migraña', 'bronquitis', 'covid']\n"
          ]
        }
      ]
    },
    {
      "cell_type": "markdown",
      "source": [
        "7. Con el siguiente código aplicando concepto de Herencia, cree una instancia usando las clases para cambiar el password de su email:"
      ],
      "metadata": {
        "id": "OlzvaBsKxw6T"
      }
    },
    {
      "cell_type": "code",
      "source": [
        "class Mail():\n",
        "  def __init__(self, email, clave):\n",
        "    self.email=email\n",
        "    self.clave=clave\n",
        "\n",
        "  def checkemail(self):\n",
        "    caracterBuscado=\"@\"\n",
        "    for c in self.email:\n",
        "      if c==caracterBuscado:\n",
        "        return True\n",
        "      return False\n",
        "    \n",
        "  def resetemail(self, new):\n",
        "    self.email=new \n",
        "\n",
        "class ResetCuenta(Mail):\n",
        "    def cambiapassword(self, nuevopass):\n",
        "      #if super().checkemail():\n",
        "        self.clave=nuevopass\n",
        "\n",
        "mail=ResetCuenta(\"carol@gmail\",\"1234\")\n",
        "print(mail.clave)\n",
        "mail.cambiapassword(\"hola34\")\n",
        "print(mail.clave)"
      ],
      "metadata": {
        "colab": {
          "base_uri": "https://localhost:8080/"
        },
        "id": "EMDGmLSh06Yw",
        "outputId": "3a316a21-7a94-45de-921d-f13eea4925dd"
      },
      "execution_count": 11,
      "outputs": [
        {
          "output_type": "stream",
          "name": "stdout",
          "text": [
            "1234\n",
            "hola34\n"
          ]
        }
      ]
    },
    {
      "cell_type": "markdown",
      "source": [
        "8. Dado el siguiente código:"
      ],
      "metadata": {
        "id": "7c7FSJ0OybfC"
      }
    },
    {
      "cell_type": "code",
      "source": [
        "class Auto():\n",
        "    def bozina(self):\n",
        "        print(\"Peep Peep!\")\n",
        "\n",
        "class Barco():\n",
        "    def bozina(self):\n",
        "        print(\"BMMMM BMMMM!\")\n",
        "\n",
        "class VehiculoAmfibio(Auto, Barco):\n",
        "    def __init__(self):\n",
        "        pass\n",
        "\n",
        "Rayito = VehiculoAmfibio()\n",
        "Rayito.bozina()"
      ],
      "metadata": {
        "id": "-cFGidGmyfGV"
      },
      "execution_count": 13,
      "outputs": []
    },
    {
      "cell_type": "markdown",
      "source": [
        "9. Identifique el o los errores en el siguiente código:"
      ],
      "metadata": {
        "id": "VvYnuzUuytLU"
      }
    },
    {
      "cell_type": "code",
      "source": [
        "class Dog: \n",
        "    def __init__(my, name, yearBirth):\n",
        "        my.name = name\n",
        "        my.lenName = len(name)\n",
        "        my.age = 2022-yearBirth \n",
        "\n",
        "a = Dog(\"Spike\", \"2016\")"
      ],
      "metadata": {
        "id": "3rB1iRTHzODy"
      },
      "execution_count": 19,
      "outputs": []
    },
    {
      "cell_type": "markdown",
      "source": [
        "10. Dado el siguiente código, explique con palabras:"
      ],
      "metadata": {
        "id": "VMuKnOzSz8_N"
      }
    },
    {
      "cell_type": "code",
      "source": [
        "import csv\n",
        "\n",
        "filename='data.csv'\n",
        "\n",
        "f=open(filename)\n",
        "reader=csv.reader(f)\n",
        "header_row=next(reader)\n",
        "print(header_row)\n",
        "f.close()"
      ],
      "metadata": {
        "id": "tFuojY3G0CZg"
      },
      "execution_count": 21,
      "outputs": []
    },
    {
      "cell_type": "markdown",
      "source": [
        "11. Escriba un programa en Python"
      ],
      "metadata": {
        "id": "qy5GLiEi1MOS"
      }
    },
    {
      "cell_type": "code",
      "source": [
        "file=open(\"medicamentos.txt\",\"r\")\n",
        "header=next(file)\n",
        "\n",
        "for i in file:\n",
        "  line=i.split(\"--\")\n",
        "  total=int(line[1])*int(line[2])\n",
        "  print(line[0]+\" \"+str(total))"
      ],
      "metadata": {
        "id": "yj4aEImP1QEx"
      },
      "execution_count": 32,
      "outputs": []
    },
    {
      "cell_type": "markdown",
      "source": [
        "12. Dado el siguiente código usando la librería Matplotlib, dibuje el gráfico generado:"
      ],
      "metadata": {
        "id": "twO30Gpi26vx"
      }
    },
    {
      "cell_type": "code",
      "execution_count": 3,
      "metadata": {
        "id": "XuXAfrZPsEfp"
      },
      "outputs": [],
      "source": [
        "import matplotlib.pyplot as plt\n",
        "\n",
        "x1=[10,20,30]\n",
        "y1=[20,40,10]\n",
        "x2=[10,20,30]\n",
        "y2=[40,10,30]\n",
        "\n",
        "plt.plot(x1,y1, color='blue')\n",
        "plt.plot(x2,y2, color='red')\n",
        "\n",
        "plt.show()"
      ]
    },
    {
      "cell_type": "markdown",
      "source": [
        "13. Cuál sería la suma acumulativa usando la función cumsum() de NumPy en el siguiente código?"
      ],
      "metadata": {
        "id": "Jp2KYCoHSSiL"
      }
    },
    {
      "cell_type": "code",
      "source": [
        "a = np.array([1,2,3])\n",
        "print(np.cumsum(a))"
      ],
      "metadata": {
        "colab": {
          "base_uri": "https://localhost:8080/"
        },
        "id": "O36byUQoSdMf",
        "outputId": "1004ac3a-abc6-4588-d61c-acf7c98a2657"
      },
      "execution_count": 15,
      "outputs": [
        {
          "output_type": "stream",
          "name": "stdout",
          "text": [
            "[1 3 6]\n"
          ]
        }
      ]
    },
    {
      "cell_type": "markdown",
      "source": [
        "14. Cuál es la forma correcta para crear un arreglo NumPy?"
      ],
      "metadata": {
        "id": "57U7YVtaVVOs"
      }
    },
    {
      "cell_type": "code",
      "source": [
        "a=np.array([1,2,3,4,5])\n",
        "print(a)"
      ],
      "metadata": {
        "colab": {
          "base_uri": "https://localhost:8080/"
        },
        "id": "BEuhL9UQVcWH",
        "outputId": "9c39a9f9-d705-418f-fe43-9901f7a08f63"
      },
      "execution_count": 18,
      "outputs": [
        {
          "output_type": "stream",
          "name": "stdout",
          "text": [
            "[1 2 3 4 5]\n"
          ]
        }
      ]
    },
    {
      "cell_type": "markdown",
      "source": [
        "15. Usando la función arange() escriba la instrucción para crear el siguiente arreglo:"
      ],
      "metadata": {
        "id": "xn0vYlbCVuZq"
      }
    },
    {
      "cell_type": "code",
      "source": [
        "a=np.arange(1,6)\n",
        "print(a)"
      ],
      "metadata": {
        "colab": {
          "base_uri": "https://localhost:8080/"
        },
        "id": "u_CMUmsfV-Xj",
        "outputId": "87295021-7f30-4b26-94f5-74a72c50c699"
      },
      "execution_count": 19,
      "outputs": [
        {
          "output_type": "stream",
          "name": "stdout",
          "text": [
            "[1 2 3 4 5]\n"
          ]
        }
      ]
    },
    {
      "cell_type": "markdown",
      "source": [
        "16. Cómo sumaría los arreglos a y b para generar la salida de abajo?"
      ],
      "metadata": {
        "id": "ogWv0QgSWfnS"
      }
    },
    {
      "cell_type": "code",
      "source": [
        "import numpy as np \n",
        "a=np.array([14,23,32,41])\n",
        "b=np.array([5,4,3,2])\n",
        "c=np.array([a+b])\n",
        "#c=a+b\n",
        "print(c)"
      ],
      "metadata": {
        "colab": {
          "base_uri": "https://localhost:8080/"
        },
        "id": "apCewoLfx7Jj",
        "outputId": "0694340a-ecfd-41d1-cd63-739f5f4372be"
      },
      "execution_count": 24,
      "outputs": [
        {
          "output_type": "stream",
          "name": "stdout",
          "text": [
            "[[19 27 35 43]]\n"
          ]
        }
      ]
    }
  ]
}