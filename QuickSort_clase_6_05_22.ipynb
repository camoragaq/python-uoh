{
  "nbformat": 4,
  "nbformat_minor": 0,
  "metadata": {
    "colab": {
      "name": "QuickSort-clase-6-05-22.ipynb",
      "provenance": [],
      "collapsed_sections": [],
      "authorship_tag": "ABX9TyPoIzMCkxW63Oi0t3Hu3b3X",
      "include_colab_link": true
    },
    "kernelspec": {
      "name": "python3",
      "display_name": "Python 3"
    },
    "language_info": {
      "name": "python"
    }
  },
  "cells": [
    {
      "cell_type": "markdown",
      "metadata": {
        "id": "view-in-github",
        "colab_type": "text"
      },
      "source": [
        "<a href=\"https://colab.research.google.com/github/camoragaq/python-uoh/blob/main/QuickSort_clase_6_05_22.ipynb\" target=\"_parent\"><img src=\"https://colab.research.google.com/assets/colab-badge.svg\" alt=\"Open In Colab\"/></a>"
      ]
    },
    {
      "cell_type": "code",
      "source": [
        "def quicksort(arreglo, izquierda, derecha, iter):\n",
        "    print(iter)\n",
        "    if izquierda < derecha:\n",
        "        pivot = particion(arreglo, izquierda, derecha)\n",
        "        #luego de la funcion particion, dividimos el arreglo y llamamos la función para cada particion, izq-pivot, pivot-der\n",
        "        quicksort(arreglo, izquierda, pivot,iter+1)\n",
        "        quicksort(arreglo, pivot + 1, derecha,iter+1)\n",
        "\n",
        "\n",
        "\n",
        "def particion(arreglo, izquierda, derecha):\n",
        "    pivote = arreglo[izquierda]\n",
        "    while True:#sera True siempre y cuando izquierda sea menor a derecha\n",
        "\n",
        "        # Mientras cada elemento desde la izquierda esté en orden (sea menor que el pivote) continúa avanzando el índice\n",
        "        while arreglo[izquierda] < pivote:\n",
        "            izquierda += 1\n",
        "\n",
        "        # Mientras cada elemento desde la derecha esté en orden (sea mayor que el pivote) continúa disminuyendo el índice\n",
        "        while arreglo[derecha] > pivote:\n",
        "            derecha -= 1\n",
        "        if izquierda >= derecha:\n",
        "            # Indicar \"en dónde nos quedamos\" para poder dividir el arreglo de nuevo y ordenar los demás elementos\n",
        "            return derecha\n",
        "        else:\n",
        "            arreglo[izquierda], arreglo[derecha] = arreglo[derecha], arreglo[izquierda]\n",
        "            izquierda += 1\n",
        "            derecha -= 1\n",
        "            print(arreglo,izquierda,derecha)\n",
        "\n",
        "#fin funciones\n",
        "#código\n",
        "\n",
        "arreglo = [8, 3, 5, 4, 99 ]\n",
        "print(\"Antes de ordenarlo: \")\n",
        "print(arreglo)\n",
        "quicksort(arreglo, 0, len(arreglo) - 1,0)\n",
        "#le pasamos el arreglo la posicion 0 que sera nuestro pivote y el largo del arreglo, y numero de iteracion\n",
        "print(\"Después de ordenarlo: \")\n",
        "print(arreglo)"
      ],
      "metadata": {
        "colab": {
          "base_uri": "https://localhost:8080/"
        },
        "id": "yD58w-NOMTfH",
        "outputId": "2bee1296-9636-4d69-9d0c-236f978a614d"
      },
      "execution_count": null,
      "outputs": [
        {
          "output_type": "stream",
          "name": "stdout",
          "text": [
            "Antes de ordenarlo: \n",
            "[8, 3, 5, 4, 99]\n",
            "0\n",
            "[4, 3, 5, 8, 99] 1 2\n",
            "1\n",
            "[3, 4, 5, 8, 99] 1 0\n",
            "2\n",
            "2\n",
            "3\n",
            "3\n",
            "1\n",
            "2\n",
            "2\n",
            "Después de ordenarlo: \n",
            "[3, 4, 5, 8, 99]\n"
          ]
        }
      ]
    }
  ]
}