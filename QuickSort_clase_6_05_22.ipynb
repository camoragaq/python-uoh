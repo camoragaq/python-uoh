{
  "nbformat": 4,
  "nbformat_minor": 0,
  "metadata": {
    "colab": {
      "name": "QuickSort-clase-6-05-22.ipynb",
      "provenance": [],
      "collapsed_sections": [],
      "authorship_tag": "ABX9TyNk+t0z9rslSizMz5Frwn86",
      "include_colab_link": true
    },
    "kernelspec": {
      "name": "python3",
      "display_name": "Python 3"
    },
    "language_info": {
      "name": "python"
    }
  },
  "cells": [
    {
      "cell_type": "markdown",
      "metadata": {
        "id": "view-in-github",
        "colab_type": "text"
      },
      "source": [
        "<a href=\"https://colab.research.google.com/github/camoragaq/python-uoh/blob/main/QuickSort_clase_6_05_22.ipynb\" target=\"_parent\"><img src=\"https://colab.research.google.com/assets/colab-badge.svg\" alt=\"Open In Colab\"/></a>"
      ]
    },
    {
      "cell_type": "code",
      "execution_count": 1,
      "metadata": {
        "colab": {
          "base_uri": "https://localhost:8080/"
        },
        "id": "sJKdNJi906FY",
        "outputId": "61684a01-3213-42f4-ea5c-f0bf410b3227"
      },
      "outputs": [
        {
          "output_type": "stream",
          "name": "stdout",
          "text": [
            "Antes de ordenarlo: \n",
            "[5, 1, 2, 1, 1, 3, 5, 1, 5, 1, 99, 231, 234, 12, 121, 312, 123, 123, 12, 312, 321, 312, 31, 23, 12, 3123, 123]\n",
            "Después de ordenarlo: \n",
            "[1, 1, 1, 1, 1, 2, 3, 5, 5, 5, 12, 12, 12, 23, 31, 99, 121, 123, 123, 123, 231, 234, 312, 312, 312, 321, 3123]\n"
          ]
        }
      ],
      "source": [
        "def quicksort(arreglo, izquierda, derecha):\n",
        "    if izquierda < derecha:\n",
        "        indiceParticion = particion(arreglo, izquierda, derecha)\n",
        "        quicksort(arreglo, izquierda, indiceParticion)\n",
        "        quicksort(arreglo, indiceParticion + 1, derecha)\n",
        "\n",
        "\n",
        "def particion(arreglo, izquierda, derecha):\n",
        "    pivote = arreglo[izquierda]\n",
        "    while True:\n",
        "        # Mientras cada elemento desde la izquierda esté en orden (sea menor que el pivote) continúa avanzando el índice\n",
        "        while arreglo[izquierda] < pivote:\n",
        "            izquierda += 1\n",
        "\n",
        "        # Mientras cada elemento desde la derecha esté en orden (sea mayor que el pivote) continúa disminuyendo el índice\n",
        "        while arreglo[derecha] > pivote:\n",
        "            derecha -= 1\n",
        "        if izquierda >= derecha:\n",
        "            # Indicar \"en dónde nos quedamos\" para poder dividir el arreglo de nuevo y ordenar los demás elementos\n",
        "            return derecha\n",
        "        else:\n",
        "            arreglo[izquierda], arreglo[derecha] = arreglo[derecha], arreglo[izquierda]\n",
        "            izquierda += 1\n",
        "            derecha -= 1\n",
        "\n",
        "#fin funciones\n",
        "#código\n",
        "\n",
        "arreglo = [8, 1, 2, 1, 1, 3, 5, 1, 5, 1, 99, 231, 234, 12, 121,\n",
        "           312, 123, 123, 12, 312, 321, 312, 31, 23, 12, 3123, 123, ]\n",
        "print(\"Antes de ordenarlo: \")\n",
        "print(arreglo)\n",
        "quicksort(arreglo, 0, len(arreglo) - 1)#le pasamos el arreglo la posicion 0 que sera nuestro pivote y el largo d\n",
        "print(\"Después de ordenarlo: \")\n",
        "print(arreglo)"
      ]
    }
  ]
}