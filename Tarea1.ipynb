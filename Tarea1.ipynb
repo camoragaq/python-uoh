{
  "nbformat": 4,
  "nbformat_minor": 0,
  "metadata": {
    "colab": {
      "name": "Tarea1.ipynb",
      "provenance": [],
      "collapsed_sections": [],
      "authorship_tag": "ABX9TyNwbcMMBiFGuXAMDPVvCYQn",
      "include_colab_link": true
    },
    "kernelspec": {
      "name": "python3",
      "display_name": "Python 3"
    },
    "language_info": {
      "name": "python"
    }
  },
  "cells": [
    {
      "cell_type": "markdown",
      "metadata": {
        "id": "view-in-github",
        "colab_type": "text"
      },
      "source": [
        "<a href=\"https://colab.research.google.com/github/camoragaq/python-uoh/blob/main/Tarea1.ipynb\" target=\"_parent\"><img src=\"https://colab.research.google.com/assets/colab-badge.svg\" alt=\"Open In Colab\"/></a>"
      ]
    },
    {
      "cell_type": "markdown",
      "source": [
        "#Solución Tarea 1"
      ],
      "metadata": {
        "id": "gdH4KbD8vPCp"
      }
    },
    {
      "cell_type": "markdown",
      "source": [
        "Pauta de evaluación: 45 puntos\n",
        "\n",
        "1. La tarea compila sin errores: 15 puntos\n",
        "2. Se envía un archivo *.py o *.ipynb: 5 puntos\n",
        "3. La información es leída directamente desde el archivo: 5 puntos\n",
        "4. Se genera un archivo *.txt de salida con los cambios pedidos: 5 puntos.\n",
        "5. Calcula el promedio correcto: 5 puntos\n",
        "6. Asigna el estado del estudiante: 5 puntos\n",
        "7. Usa funciones y estructuras complejas: 5 puntos\n"
      ],
      "metadata": {
        "id": "qqnmKvO3UfCv"
      }
    },
    {
      "cell_type": "code",
      "execution_count": 7,
      "metadata": {
        "id": "xg6YT6SRvNOp"
      },
      "outputs": [],
      "source": [
        "#funcion que calcula el promedio\n",
        "def promedio(nota1, nota2, nota3):\n",
        "   final=(nota1+nota2+nota3)/3\n",
        "   return final\n",
        "\n",
        "#funcion que define el estado del alumno\n",
        "def estado(nota1, nota2, nota3, nota4):\n",
        "  if nota4 >= 4.0:\n",
        "    alumno='APROBADO'\n",
        "  if nota4 >= 3.7 and nota4 < 4.0:\n",
        "    alumno='EXAMEN'\n",
        "  if nota1 == 0 or nota2 == 0 or nota3==0:\n",
        "    alumno='EXAMEN'\n",
        "  if nota4 < 3.7:\n",
        "    alumno='REPROBADO'\n",
        "  return alumno\n",
        "\n",
        "\n",
        "\n",
        "#abrir el archivo de entrada\n",
        "filename = 'alumnos.txt'\n",
        "file = open(filename)\n",
        "\n",
        "#abrir archivo de salida\n",
        "filename2 = 'alumnos-final.txt'\n",
        "with open(filename2,'a') as archivo:\n",
        "   archivo.write('Nombre--Nota1--Nota2--Nota3--Promedio--Estado\\n')\n",
        "\n",
        "#leer linea por linea\n",
        "for line in file:\n",
        "  #sacamos salto de linea y separamos por doble \"-\"\n",
        "   line=line.rstrip()\n",
        "   a=line.split('--')\n",
        "   if a[1] == 'Nota1':\n",
        "       continue\n",
        "   else:\n",
        "       n1 = float(a[1])\n",
        "       n2 = float(a[2])\n",
        "       n3 = float(a[3])\n",
        "       a[4] = promedio(n1, n2, n3)\n",
        "       n4 = float(a[4])\n",
        "       final= estado(n1, n2, n3, n4)\n",
        "       add_text = a[0]+'--'+a[1]+'--'+a[2]+'--'+a[3]+'--'+str(a[4])+'--'+final+'\\n'\n",
        "       #print(add_text)\n",
        "       with open(filename2,'a') as archivo:\n",
        "          archivo.write(add_text)\n",
        "  \n"
      ]
    }
  ]
}