{
  "nbformat": 4,
  "nbformat_minor": 0,
  "metadata": {
    "colab": {
      "name": "Tarea2.ipynb",
      "provenance": [],
      "collapsed_sections": [],
      "authorship_tag": "ABX9TyPN1H7qMH24M51KnTKibF7D",
      "include_colab_link": true
    },
    "kernelspec": {
      "name": "python3",
      "display_name": "Python 3"
    },
    "language_info": {
      "name": "python"
    }
  },
  "cells": [
    {
      "cell_type": "markdown",
      "metadata": {
        "id": "view-in-github",
        "colab_type": "text"
      },
      "source": [
        "<a href=\"https://colab.research.google.com/github/camoragaq/python-uoh/blob/main/Tarea2.ipynb\" target=\"_parent\"><img src=\"https://colab.research.google.com/assets/colab-badge.svg\" alt=\"Open In Colab\"/></a>"
      ]
    },
    {
      "cell_type": "markdown",
      "source": [
        "#Solución Tarea 2"
      ],
      "metadata": {
        "id": "gdH4KbD8vPCp"
      }
    },
    {
      "cell_type": "markdown",
      "source": [
        "Pauta de evaluación: 50 puntos\n",
        "\n",
        "1. La tarea compila sin errores: 15 puntos\n",
        "2. Se envía un archivo *.py o *.ipynb: 5 puntos\n",
        "3. La información es ingresada de manera correcta, con los atributos nombre, rut y cursos inscritos, con sus respectivas notas: 5 puntos\n",
        "4. Se genera una clase Alumno() que inicialice dichos atributos: 10 puntos\n",
        "5. El rut se encuentra protegido por encapsulamiento: 5 puntos\n",
        "6. Se implementa método para inscribir cursos: 5 puntos\n",
        "7. Implementa clase ramo() que contiene atributos de cursos y sus notas por alumno: 10 puntos\n",
        "8. Se implementan métodos para agregar nota, promedio del curso y estado del alumno: 5 puntos.\n",
        "9. Escribe la información en un archivo por cada alumno: 15 puntos\n"
      ],
      "metadata": {
        "id": "qqnmKvO3UfCv"
      }
    }
  ]
}