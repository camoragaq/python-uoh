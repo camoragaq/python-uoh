{
  "nbformat": 4,
  "nbformat_minor": 0,
  "metadata": {
    "colab": {
      "name": "clase-11-04-22.ipynb",
      "provenance": [],
      "collapsed_sections": [],
      "authorship_tag": "ABX9TyP1Jxi97JnLokdX5NULuaer",
      "include_colab_link": true
    },
    "kernelspec": {
      "name": "python3",
      "display_name": "Python 3"
    },
    "language_info": {
      "name": "python"
    }
  },
  "cells": [
    {
      "cell_type": "markdown",
      "metadata": {
        "id": "view-in-github",
        "colab_type": "text"
      },
      "source": [
        "<a href=\"https://colab.research.google.com/github/camoragaq/python-uoh/blob/main/clase_11_04_22.ipynb\" target=\"_parent\"><img src=\"https://colab.research.google.com/assets/colab-badge.svg\" alt=\"Open In Colab\"/></a>"
      ]
    },
    {
      "cell_type": "markdown",
      "source": [
        "# Listas en python"
      ],
      "metadata": {
        "id": "oxJxWF7rFe-F"
      }
    },
    {
      "cell_type": "code",
      "source": [
        "#En Python, los corchetes ([]) indican una lista, y los elementos individuales de la lista están separados por comas. \n",
        "\n",
        "frutas = ['manzanas', 'sandía','peras', 'platanos', 'frutillas']\n",
        "print(frutas)"
      ],
      "metadata": {
        "colab": {
          "base_uri": "https://localhost:8080/"
        },
        "id": "9eWjS7vYFg0L",
        "outputId": "fb8a4e20-e9c7-4908-e236-98ccf094fe83"
      },
      "execution_count": 1,
      "outputs": [
        {
          "output_type": "stream",
          "name": "stdout",
          "text": [
            "['manzanas', 'sandía', 'peras', 'platanos', 'frutillas']\n"
          ]
        }
      ]
    },
    {
      "cell_type": "code",
      "source": [
        "# acceso a los elementos en una lista \n",
        "frutas = ['manzanas', 'peras', 'platanos', 'frutillas']\n",
        "mensaje = \"Mi fruta favorita son las/los \" + frutas[-1].title() + \".\"\n",
        "print(mensaje)"
      ],
      "metadata": {
        "colab": {
          "base_uri": "https://localhost:8080/"
        },
        "id": "7bipgxnxIHnq",
        "outputId": "0dae500d-f331-4ebd-cd9f-36b5a4420b9b"
      },
      "execution_count": 2,
      "outputs": [
        {
          "output_type": "stream",
          "name": "stdout",
          "text": [
            "Mi fruta favorita son las/los Frutillas.\n"
          ]
        }
      ]
    },
    {
      "cell_type": "code",
      "source": [
        "# modificar elementos en una lista \n",
        "frutas = ['manzanas', 'peras', 'platanos', 'frutillas']\n",
        "print(frutas)\n",
        "frutas[3] = \"naranjas\"\n",
        "print(frutas)"
      ],
      "metadata": {
        "colab": {
          "base_uri": "https://localhost:8080/"
        },
        "id": "5FDjV4xVI_0u",
        "outputId": "1451f1da-8f10-44f0-a976-51908237c57c"
      },
      "execution_count": 5,
      "outputs": [
        {
          "output_type": "stream",
          "name": "stdout",
          "text": [
            "['manzanas', 'peras', 'platanos', 'frutillas']\n",
            "['manzanas', 'peras', 'platanos', 'naranjas']\n"
          ]
        }
      ]
    },
    {
      "cell_type": "code",
      "source": [
        "# añadir elementos en una lista \n",
        "frutas = ['manzanas', 'peras', 'platanos', 'frutillas']\n",
        "print(frutas)\n",
        "frutas.append('melon')\n",
        "print(frutas)"
      ],
      "metadata": {
        "colab": {
          "base_uri": "https://localhost:8080/"
        },
        "id": "opeo0qvlKJZm",
        "outputId": "9684709e-d296-4315-d1b8-f5c92b488318"
      },
      "execution_count": 3,
      "outputs": [
        {
          "output_type": "stream",
          "name": "stdout",
          "text": [
            "['manzanas', 'peras', 'platanos', 'frutillas']\n",
            "['manzanas', 'peras', 'platanos', 'frutillas', 'melon']\n"
          ]
        }
      ]
    },
    {
      "cell_type": "code",
      "source": [
        "# añadir elementos en una posición específica a una lista \n",
        "frutas = ['manzanas', 'peras', 'platanos', 'frutillas']\n",
        "print(frutas)\n",
        "frutas.insert(4, 'naranjas')\n",
        "print(frutas)"
      ],
      "metadata": {
        "colab": {
          "base_uri": "https://localhost:8080/"
        },
        "id": "nk2kuQZEMLZ4",
        "outputId": "9fa770c3-ef7d-47c9-87d3-637734f84aa3"
      },
      "execution_count": 4,
      "outputs": [
        {
          "output_type": "stream",
          "name": "stdout",
          "text": [
            "['manzanas', 'peras', 'platanos', 'frutillas']\n",
            "['manzanas', 'peras', 'platanos', 'frutillas', 'naranjas']\n"
          ]
        }
      ]
    },
    {
      "cell_type": "code",
      "source": [
        "# eliminar elementos en una posición específica a una lista \n",
        "frutas = ['manzanas', 'naranjas', 'peras', 'platanos', 'frutillas']\n",
        "print(frutas)\n",
        "del frutas[3]\n",
        "print(frutas)"
      ],
      "metadata": {
        "colab": {
          "base_uri": "https://localhost:8080/"
        },
        "id": "x0IyJXMIMk2I",
        "outputId": "4538ce34-034d-466c-c36a-d300d5fd4f78"
      },
      "execution_count": 5,
      "outputs": [
        {
          "output_type": "stream",
          "name": "stdout",
          "text": [
            "['manzanas', 'naranjas', 'peras', 'platanos', 'frutillas']\n",
            "['manzanas', 'naranjas', 'peras', 'frutillas']\n"
          ]
        }
      ]
    },
    {
      "cell_type": "code",
      "source": [
        "# eliminar elementos con función pop\n",
        "frutas = ['manzanas', 'naranjas', 'peras', 'platanos', 'frutillas']\n",
        "print(frutas)\n",
        "fruta_eliminada= frutas.pop()\n",
        "print(frutas)\n",
        "frutas.remove('peras')\n",
        "print(frutas)"
      ],
      "metadata": {
        "colab": {
          "base_uri": "https://localhost:8080/"
        },
        "id": "xeoou7uNNESr",
        "outputId": "04b3328b-3093-4fe4-bf45-22ddf68a3251"
      },
      "execution_count": 8,
      "outputs": [
        {
          "output_type": "stream",
          "name": "stdout",
          "text": [
            "['manzanas', 'naranjas', 'peras', 'platanos', 'frutillas']\n",
            "['manzanas', 'naranjas', 'peras', 'platanos']\n",
            "['manzanas', 'naranjas', 'platanos']\n"
          ]
        }
      ]
    },
    {
      "cell_type": "code",
      "source": [
        "frutas = ['manzanas', 'peras', 'platanos', 'frutillas']\n",
        "print(frutas)\n",
        "frutas.sort()\n",
        "print(frutas)\n",
        "frutas.sort(reverse=True)\n",
        "print(frutas)\n",
        "print(len(frutas))"
      ],
      "metadata": {
        "colab": {
          "base_uri": "https://localhost:8080/"
        },
        "id": "OltJQSTROQGM",
        "outputId": "846e455d-c8e7-4a8b-8185-75f648b8c2fe"
      },
      "execution_count": 6,
      "outputs": [
        {
          "output_type": "stream",
          "name": "stdout",
          "text": [
            "['manzanas', 'peras', 'platanos', 'frutillas']\n",
            "['frutillas', 'manzanas', 'peras', 'platanos']\n",
            "['platanos', 'peras', 'manzanas', 'frutillas']\n",
            "4\n"
          ]
        }
      ]
    },
    {
      "cell_type": "code",
      "source": [
        "#errores comunes de indice\n",
        "frutas = ['manzanas', 'peras', 'platanos', 'frutillas']\n",
        "print(frutas)\n",
        "print(frutas[-5])"
      ],
      "metadata": {
        "colab": {
          "base_uri": "https://localhost:8080/",
          "height": 222
        },
        "id": "aWxZ9TO9PSKs",
        "outputId": "6a171450-7241-4d84-d6ee-9b3847fc11d9"
      },
      "execution_count": 20,
      "outputs": [
        {
          "output_type": "stream",
          "name": "stdout",
          "text": [
            "['manzanas', 'peras', 'platanos', 'frutillas']\n"
          ]
        },
        {
          "output_type": "error",
          "ename": "IndexError",
          "evalue": "ignored",
          "traceback": [
            "\u001b[0;31m---------------------------------------------------------------------------\u001b[0m",
            "\u001b[0;31mIndexError\u001b[0m                                Traceback (most recent call last)",
            "\u001b[0;32m<ipython-input-20-b86b898bb2dc>\u001b[0m in \u001b[0;36m<module>\u001b[0;34m()\u001b[0m\n\u001b[1;32m      1\u001b[0m \u001b[0mfrutas\u001b[0m \u001b[0;34m=\u001b[0m \u001b[0;34m[\u001b[0m\u001b[0;34m'manzanas'\u001b[0m\u001b[0;34m,\u001b[0m \u001b[0;34m'peras'\u001b[0m\u001b[0;34m,\u001b[0m \u001b[0;34m'platanos'\u001b[0m\u001b[0;34m,\u001b[0m \u001b[0;34m'frutillas'\u001b[0m\u001b[0;34m]\u001b[0m\u001b[0;34m\u001b[0m\u001b[0;34m\u001b[0m\u001b[0m\n\u001b[1;32m      2\u001b[0m \u001b[0mprint\u001b[0m\u001b[0;34m(\u001b[0m\u001b[0mfrutas\u001b[0m\u001b[0;34m)\u001b[0m\u001b[0;34m\u001b[0m\u001b[0;34m\u001b[0m\u001b[0m\n\u001b[0;32m----> 3\u001b[0;31m \u001b[0mprint\u001b[0m\u001b[0;34m(\u001b[0m\u001b[0mfrutas\u001b[0m\u001b[0;34m[\u001b[0m\u001b[0;34m-\u001b[0m\u001b[0;36m5\u001b[0m\u001b[0;34m]\u001b[0m\u001b[0;34m)\u001b[0m\u001b[0;34m\u001b[0m\u001b[0;34m\u001b[0m\u001b[0m\n\u001b[0m",
            "\u001b[0;31mIndexError\u001b[0m: list index out of range"
          ]
        }
      ]
    },
    {
      "cell_type": "code",
      "source": [
        "#errores comunes de valor\n",
        "frutas = ['manzanas', 'peras', 'platanos', 'frutillas']\n",
        "print(frutas)\n",
        "del frutas[5]\n",
        "print(frutas)"
      ],
      "metadata": {
        "colab": {
          "base_uri": "https://localhost:8080/",
          "height": 240
        },
        "id": "DvNLgNYYPf5_",
        "outputId": "1ea306e2-5802-41da-b805-5bdd4df13737"
      },
      "execution_count": 21,
      "outputs": [
        {
          "output_type": "stream",
          "name": "stdout",
          "text": [
            "['manzanas', 'peras', 'platanos', 'frutillas']\n"
          ]
        },
        {
          "output_type": "error",
          "ename": "IndexError",
          "evalue": "ignored",
          "traceback": [
            "\u001b[0;31m---------------------------------------------------------------------------\u001b[0m",
            "\u001b[0;31mIndexError\u001b[0m                                Traceback (most recent call last)",
            "\u001b[0;32m<ipython-input-21-f0feb5a39f37>\u001b[0m in \u001b[0;36m<module>\u001b[0;34m()\u001b[0m\n\u001b[1;32m      2\u001b[0m \u001b[0mfrutas\u001b[0m \u001b[0;34m=\u001b[0m \u001b[0;34m[\u001b[0m\u001b[0;34m'manzanas'\u001b[0m\u001b[0;34m,\u001b[0m \u001b[0;34m'peras'\u001b[0m\u001b[0;34m,\u001b[0m \u001b[0;34m'platanos'\u001b[0m\u001b[0;34m,\u001b[0m \u001b[0;34m'frutillas'\u001b[0m\u001b[0;34m]\u001b[0m\u001b[0;34m\u001b[0m\u001b[0;34m\u001b[0m\u001b[0m\n\u001b[1;32m      3\u001b[0m \u001b[0mprint\u001b[0m\u001b[0;34m(\u001b[0m\u001b[0mfrutas\u001b[0m\u001b[0;34m)\u001b[0m\u001b[0;34m\u001b[0m\u001b[0;34m\u001b[0m\u001b[0m\n\u001b[0;32m----> 4\u001b[0;31m \u001b[0;32mdel\u001b[0m \u001b[0mfrutas\u001b[0m\u001b[0;34m[\u001b[0m\u001b[0;36m5\u001b[0m\u001b[0;34m]\u001b[0m\u001b[0;34m\u001b[0m\u001b[0;34m\u001b[0m\u001b[0m\n\u001b[0m\u001b[1;32m      5\u001b[0m \u001b[0mprint\u001b[0m\u001b[0;34m(\u001b[0m\u001b[0mfrutas\u001b[0m\u001b[0;34m)\u001b[0m\u001b[0;34m\u001b[0m\u001b[0;34m\u001b[0m\u001b[0m\n",
            "\u001b[0;31mIndexError\u001b[0m: list assignment index out of range"
          ]
        }
      ]
    }
  ]
}