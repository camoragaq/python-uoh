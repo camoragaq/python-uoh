{
  "nbformat": 4,
  "nbformat_minor": 0,
  "metadata": {
    "colab": {
      "name": "clase-13-05-22-Syntaxis-y-errores.ipynb",
      "provenance": [],
      "collapsed_sections": [],
      "authorship_tag": "ABX9TyObHo+7VMcOCJhUx882uVtR",
      "include_colab_link": true
    },
    "kernelspec": {
      "name": "python3",
      "display_name": "Python 3"
    },
    "language_info": {
      "name": "python"
    }
  },
  "cells": [
    {
      "cell_type": "markdown",
      "metadata": {
        "id": "view-in-github",
        "colab_type": "text"
      },
      "source": [
        "<a href=\"https://colab.research.google.com/github/camoragaq/python-uoh/blob/main/clase_13_05_22_Syntaxis_y_errores.ipynb\" target=\"_parent\"><img src=\"https://colab.research.google.com/assets/colab-badge.svg\" alt=\"Open In Colab\"/></a>"
      ]
    },
    {
      "cell_type": "markdown",
      "source": [
        "#Errores de sintaxis en Python"
      ],
      "metadata": {
        "id": "ZA11AqReBcL5"
      }
    },
    {
      "cell_type": "markdown",
      "source": [
        "Syntax error, es un error en la sintaxis del código, por ende el compilador no logra rescatar la instrucción."
      ],
      "metadata": {
        "id": "XEDyO4XxnigA"
      }
    },
    {
      "cell_type": "code",
      "execution_count": 17,
      "metadata": {
        "colab": {
          "base_uri": "https://localhost:8080/"
        },
        "id": "zBxA19q9Bbsh",
        "outputId": "a834b3d7-2571-42b7-f5a3-24d443db1b36"
      },
      "outputs": [
        {
          "output_type": "stream",
          "name": "stdout",
          "text": [
            "Hello world\n"
          ]
        }
      ],
      "source": [
        "i=0\n",
        "if i==0:\n",
        "   print('Hello world')\n",
        "   i+=1"
      ]
    },
    {
      "cell_type": "markdown",
      "source": [
        "Exception error, se refiere cuando se realiza una operación erronea."
      ],
      "metadata": {
        "id": "H3TSx1Venudx"
      }
    },
    {
      "cell_type": "code",
      "source": [
        "total = 10000\n",
        "  \n",
        "# realiza una division por 0\n",
        "a = total / 0\n",
        "print(a)"
      ],
      "metadata": {
        "colab": {
          "base_uri": "https://localhost:8080/",
          "height": 222
        },
        "id": "XHHBKzQ2ntI3",
        "outputId": "d3d62722-92e2-4498-8112-4a451d291165"
      },
      "execution_count": 1,
      "outputs": [
        {
          "output_type": "error",
          "ename": "ZeroDivisionError",
          "evalue": "ignored",
          "traceback": [
            "\u001b[0;31m---------------------------------------------------------------------------\u001b[0m",
            "\u001b[0;31mZeroDivisionError\u001b[0m                         Traceback (most recent call last)",
            "\u001b[0;32m<ipython-input-1-93f6d1988209>\u001b[0m in \u001b[0;36m<module>\u001b[0;34m()\u001b[0m\n\u001b[1;32m      2\u001b[0m \u001b[0;34m\u001b[0m\u001b[0m\n\u001b[1;32m      3\u001b[0m \u001b[0;31m# realiza una division por 0\u001b[0m\u001b[0;34m\u001b[0m\u001b[0;34m\u001b[0m\u001b[0;34m\u001b[0m\u001b[0m\n\u001b[0;32m----> 4\u001b[0;31m \u001b[0ma\u001b[0m \u001b[0;34m=\u001b[0m \u001b[0mtotal\u001b[0m \u001b[0;34m/\u001b[0m \u001b[0;36m0\u001b[0m\u001b[0;34m\u001b[0m\u001b[0;34m\u001b[0m\u001b[0m\n\u001b[0m\u001b[1;32m      5\u001b[0m \u001b[0mprint\u001b[0m\u001b[0;34m(\u001b[0m\u001b[0ma\u001b[0m\u001b[0;34m)\u001b[0m\u001b[0;34m\u001b[0m\u001b[0;34m\u001b[0m\u001b[0m\n",
            "\u001b[0;31mZeroDivisionError\u001b[0m: division by zero"
          ]
        }
      ]
    },
    {
      "cell_type": "code",
      "source": [
        "print ('4' + 4)"
      ],
      "metadata": {
        "colab": {
          "base_uri": "https://localhost:8080/",
          "height": 169
        },
        "id": "VdCFYRFGGVAs",
        "outputId": "b93bef2e-7828-4054-ed93-08e9b9c59c0b"
      },
      "execution_count": 4,
      "outputs": [
        {
          "output_type": "error",
          "ename": "TypeError",
          "evalue": "ignored",
          "traceback": [
            "\u001b[0;31m---------------------------------------------------------------------------\u001b[0m",
            "\u001b[0;31mTypeError\u001b[0m                                 Traceback (most recent call last)",
            "\u001b[0;32m<ipython-input-4-15d028915b3e>\u001b[0m in \u001b[0;36m<module>\u001b[0;34m()\u001b[0m\n\u001b[0;32m----> 1\u001b[0;31m \u001b[0mprint\u001b[0m \u001b[0;34m(\u001b[0m\u001b[0;34m'4'\u001b[0m \u001b[0;34m+\u001b[0m \u001b[0;36m4\u001b[0m\u001b[0;34m)\u001b[0m\u001b[0;34m\u001b[0m\u001b[0;34m\u001b[0m\u001b[0m\n\u001b[0m",
            "\u001b[0;31mTypeError\u001b[0m: can only concatenate str (not \"int\") to str"
          ]
        }
      ]
    },
    {
      "cell_type": "markdown",
      "source": [
        "Type error ejemplo, confundimos tipos de variables y funciones."
      ],
      "metadata": {
        "id": "6cFc2ORQ71j2"
      }
    },
    {
      "cell_type": "code",
      "source": [
        "x='10'\n",
        "x+=1\n",
        "print(x)"
      ],
      "metadata": {
        "colab": {
          "base_uri": "https://localhost:8080/",
          "height": 204
        },
        "id": "3dGpsmOQ7kmM",
        "outputId": "ca9ce3f8-f705-4cbf-d90b-a6dae35ef645"
      },
      "execution_count": 2,
      "outputs": [
        {
          "output_type": "error",
          "ename": "TypeError",
          "evalue": "ignored",
          "traceback": [
            "\u001b[0;31m---------------------------------------------------------------------------\u001b[0m",
            "\u001b[0;31mTypeError\u001b[0m                                 Traceback (most recent call last)",
            "\u001b[0;32m<ipython-input-2-df544da85cba>\u001b[0m in \u001b[0;36m<module>\u001b[0;34m()\u001b[0m\n\u001b[1;32m      1\u001b[0m \u001b[0mx\u001b[0m\u001b[0;34m=\u001b[0m\u001b[0;34m'10'\u001b[0m\u001b[0;34m\u001b[0m\u001b[0;34m\u001b[0m\u001b[0m\n\u001b[0;32m----> 2\u001b[0;31m \u001b[0mx\u001b[0m\u001b[0;34m+=\u001b[0m\u001b[0;36m1\u001b[0m\u001b[0;34m\u001b[0m\u001b[0;34m\u001b[0m\u001b[0m\n\u001b[0m\u001b[1;32m      3\u001b[0m \u001b[0mprint\u001b[0m\u001b[0;34m(\u001b[0m\u001b[0mx\u001b[0m\u001b[0;34m)\u001b[0m\u001b[0;34m\u001b[0m\u001b[0;34m\u001b[0m\u001b[0m\n",
            "\u001b[0;31mTypeError\u001b[0m: can only concatenate str (not \"int\") to str"
          ]
        }
      ]
    },
    {
      "cell_type": "markdown",
      "source": [
        "Atribute error, invocamos una función no válida para una variable de tipo entero."
      ],
      "metadata": {
        "id": "xRrksMrO798K"
      }
    },
    {
      "cell_type": "code",
      "source": [
        "X = 10\n",
        "  \n",
        "X.append(6)"
      ],
      "metadata": {
        "colab": {
          "base_uri": "https://localhost:8080/",
          "height": 204
        },
        "id": "KgJRzr5675_a",
        "outputId": "d6e9487c-9c28-4e51-e965-6264dd12049a"
      },
      "execution_count": 3,
      "outputs": [
        {
          "output_type": "error",
          "ename": "AttributeError",
          "evalue": "ignored",
          "traceback": [
            "\u001b[0;31m---------------------------------------------------------------------------\u001b[0m",
            "\u001b[0;31mAttributeError\u001b[0m                            Traceback (most recent call last)",
            "\u001b[0;32m<ipython-input-3-927dfb2b58a5>\u001b[0m in \u001b[0;36m<module>\u001b[0;34m()\u001b[0m\n\u001b[1;32m      1\u001b[0m \u001b[0mX\u001b[0m \u001b[0;34m=\u001b[0m \u001b[0;36m10\u001b[0m\u001b[0;34m\u001b[0m\u001b[0;34m\u001b[0m\u001b[0m\n\u001b[1;32m      2\u001b[0m \u001b[0;34m\u001b[0m\u001b[0m\n\u001b[0;32m----> 3\u001b[0;31m \u001b[0mX\u001b[0m\u001b[0;34m.\u001b[0m\u001b[0mappend\u001b[0m\u001b[0;34m(\u001b[0m\u001b[0;36m6\u001b[0m\u001b[0;34m)\u001b[0m\u001b[0;34m\u001b[0m\u001b[0;34m\u001b[0m\u001b[0m\n\u001b[0m",
            "\u001b[0;31mAttributeError\u001b[0m: 'int' object has no attribute 'append'"
          ]
        }
      ]
    },
    {
      "cell_type": "markdown",
      "source": [
        "Cuando tenemos errores y excepciones, vamos a aplicar el método Handling para encontrar el error y poder solucionarlo más fácilmente. Aplicando try/except/finally método: "
      ],
      "metadata": {
        "id": "I-u-y9tdsfR3"
      }
    },
    {
      "cell_type": "code",
      "source": [
        "\n",
        "#intentamos la operación arriesgada en el bloque de código try\n",
        "try:\n",
        "     print(\"comienzo del código\")#mensaje para mostrar que entramos en el \"try\"\n",
        "     print(1 / 0)\n",
        "  \n",
        "#si el error ocurre, va a entrar en el bloque de la excepción\n",
        "except:\n",
        "     print(\"falló la operación\")\n",
        "  \n",
        "# final code in finally block\n",
        "finally:\n",
        "     print(\"fin del código\")"
      ],
      "metadata": {
        "colab": {
          "base_uri": "https://localhost:8080/"
        },
        "id": "No0cYZ8zso2H",
        "outputId": "248ae4df-030a-4fec-d23a-1523001dd3d4"
      },
      "execution_count": 6,
      "outputs": [
        {
          "output_type": "stream",
          "name": "stdout",
          "text": [
            "comienzo del código\n",
            "falló la operación\n",
            "fin del código\n"
          ]
        }
      ]
    },
    {
      "cell_type": "markdown",
      "source": [
        "Uso de try/except/finally y instrucción raise para levantar una excepción manualmente"
      ],
      "metadata": {
        "id": "jmDXqbUZ9xZY"
      }
    },
    {
      "cell_type": "code",
      "source": [
        "try:\n",
        "    cuenta = 1999\n",
        "    #usamos estructuras de control para verificar si tenemos crédito en nuestra cuenta\n",
        "    if cuenta < 2999:    \n",
        "        #ocupamos raise paara desplegar el mensaje de error\n",
        "        raise ValueError(\"por favor agrega crédito en tu cuenta\")\n",
        "    else:\n",
        "        print(\"Tienes créditos suficientes\")\n",
        "              \n",
        "#si ValueError existe y esta declarado, entonces entra a except\n",
        "except ValueError as e:\n",
        "        print(e)"
      ],
      "metadata": {
        "colab": {
          "base_uri": "https://localhost:8080/"
        },
        "id": "7KVWljcK1BqE",
        "outputId": "5907c8b0-9e6b-4aae-fabd-7a4a2ed27307"
      },
      "execution_count": 8,
      "outputs": [
        {
          "output_type": "stream",
          "name": "stdout",
          "text": [
            "por favor agrega crédito en tu cuenta\n"
          ]
        }
      ]
    },
    {
      "cell_type": "code",
      "source": [
        "student_age = 15\n",
        "if student_age < 18:\n",
        " raise Exception(\"No puedes acceder a este curso, la edad mínima es de 18 años\")"
      ],
      "metadata": {
        "colab": {
          "base_uri": "https://localhost:8080/",
          "height": 204
        },
        "id": "Po9agWKJ95au",
        "outputId": "3665f755-af98-4048-eae4-1dd0df3a6a25"
      },
      "execution_count": 26,
      "outputs": [
        {
          "output_type": "error",
          "ename": "Exception",
          "evalue": "ignored",
          "traceback": [
            "\u001b[0;31m---------------------------------------------------------------------------\u001b[0m",
            "\u001b[0;31mException\u001b[0m                                 Traceback (most recent call last)",
            "\u001b[0;32m<ipython-input-26-49b21559599d>\u001b[0m in \u001b[0;36m<module>\u001b[0;34m()\u001b[0m\n\u001b[1;32m      1\u001b[0m \u001b[0mstudent_age\u001b[0m \u001b[0;34m=\u001b[0m \u001b[0;36m15\u001b[0m\u001b[0;34m\u001b[0m\u001b[0;34m\u001b[0m\u001b[0m\n\u001b[1;32m      2\u001b[0m \u001b[0;32mif\u001b[0m \u001b[0mstudent_age\u001b[0m \u001b[0;34m<\u001b[0m \u001b[0;36m18\u001b[0m\u001b[0;34m:\u001b[0m\u001b[0;34m\u001b[0m\u001b[0;34m\u001b[0m\u001b[0m\n\u001b[0;32m----> 3\u001b[0;31m  \u001b[0;32mraise\u001b[0m \u001b[0mException\u001b[0m\u001b[0;34m(\u001b[0m\u001b[0;34m\"No puedes acceder a este curso, la edad mínima es de 18 años\"\u001b[0m\u001b[0;34m)\u001b[0m\u001b[0;34m\u001b[0m\u001b[0;34m\u001b[0m\u001b[0m\n\u001b[0m",
            "\u001b[0;31mException\u001b[0m: No puedes acceder a este curso, la edad mínima es de 18 años"
          ]
        }
      ]
    },
    {
      "cell_type": "markdown",
      "source": [
        "Uso de función Assert() para testear código"
      ],
      "metadata": {
        "id": "ctApwFN36St7"
      }
    },
    {
      "cell_type": "code",
      "source": [
        "assert(1==2)\n",
        "# AssertionError"
      ],
      "metadata": {
        "colab": {
          "base_uri": "https://localhost:8080/",
          "height": 187
        },
        "id": "th7BJQIa7OcR",
        "outputId": "44b19085-760f-4126-9dba-9c0680edcb49"
      },
      "execution_count": 23,
      "outputs": [
        {
          "output_type": "error",
          "ename": "AssertionError",
          "evalue": "ignored",
          "traceback": [
            "\u001b[0;31m---------------------------------------------------------------------------\u001b[0m",
            "\u001b[0;31mAssertionError\u001b[0m                            Traceback (most recent call last)",
            "\u001b[0;32m<ipython-input-23-e3b1487c76e1>\u001b[0m in \u001b[0;36m<module>\u001b[0;34m()\u001b[0m\n\u001b[0;32m----> 1\u001b[0;31m \u001b[0;32massert\u001b[0m\u001b[0;34m(\u001b[0m\u001b[0;36m1\u001b[0m\u001b[0;34m==\u001b[0m\u001b[0;36m2\u001b[0m\u001b[0;34m)\u001b[0m\u001b[0;34m\u001b[0m\u001b[0;34m\u001b[0m\u001b[0m\n\u001b[0m\u001b[1;32m      2\u001b[0m \u001b[0;31m# AssertionError\u001b[0m\u001b[0;34m\u001b[0m\u001b[0;34m\u001b[0m\u001b[0;34m\u001b[0m\u001b[0m\n",
            "\u001b[0;31mAssertionError\u001b[0m: "
          ]
        }
      ]
    },
    {
      "cell_type": "code",
      "source": [
        "def calcula_media(lista):\n",
        "    return sum(lista)/len(lista)\n",
        "\n",
        "assert(calcula_media([5, 10, 7.5]) == 7.5)\n",
        "assert(calcula_media([4, 8]) == 6)"
      ],
      "metadata": {
        "id": "iuQH5qg06W6J"
      },
      "execution_count": 18,
      "outputs": []
    },
    {
      "cell_type": "code",
      "source": [
        "# Funcion suma de variables enteras\n",
        "def suma(a, b):\n",
        "    assert(type(a) == int)\n",
        "    assert(type(b) == int)\n",
        "    return a+b\n",
        "\n",
        "# Error, ya que las variables no son int\n",
        "suma(3.0, 5.0)\n",
        "\n",
        "# Ok, los argumentos son int\n",
        "suma(3, 5)"
      ],
      "metadata": {
        "colab": {
          "base_uri": "https://localhost:8080/"
        },
        "id": "24WFeNVE8rY2",
        "outputId": "4e3efdcb-7f13-42cd-a18b-438bc21312de"
      },
      "execution_count": 25,
      "outputs": [
        {
          "output_type": "execute_result",
          "data": {
            "text/plain": [
              "8"
            ]
          },
          "metadata": {},
          "execution_count": 25
        }
      ]
    },
    {
      "cell_type": "markdown",
      "source": [
        "Ejercicios:"
      ],
      "metadata": {
        "id": "tamQ7xVLAg8g"
      }
    },
    {
      "cell_type": "code",
      "source": [
        " len('hola') = 4"
      ],
      "metadata": {
        "colab": {
          "base_uri": "https://localhost:8080/",
          "height": 133
        },
        "id": "NRrf53aVA_g1",
        "outputId": "dd9b7929-36c6-4508-a73f-33c7c04fae7d"
      },
      "execution_count": 38,
      "outputs": [
        {
          "output_type": "error",
          "ename": "SyntaxError",
          "evalue": "ignored",
          "traceback": [
            "\u001b[0;36m  File \u001b[0;32m\"<ipython-input-38-8b5136759fd1>\"\u001b[0;36m, line \u001b[0;32m1\u001b[0m\n\u001b[0;31m    len('hola') = 4\u001b[0m\n\u001b[0m                   ^\u001b[0m\n\u001b[0;31mSyntaxError\u001b[0m\u001b[0;31m:\u001b[0m can't assign to function call\n"
          ]
        }
      ]
    },
    {
      "cell_type": "code",
      "source": [
        "'foo' = 1\n",
        "print(foo)"
      ],
      "metadata": {
        "colab": {
          "base_uri": "https://localhost:8080/"
        },
        "id": "mnNVSRORBP5o",
        "outputId": "52199742-9987-4b71-f6f9-bc2bd5a7e885"
      },
      "execution_count": 36,
      "outputs": [
        {
          "output_type": "stream",
          "name": "stdout",
          "text": [
            "1\n"
          ]
        }
      ]
    },
    {
      "cell_type": "code",
      "source": [
        "alumnos = {\n",
        "    'juan': 24,\n",
        "    'carol': 24\n",
        "    'miguel': 43\n",
        "}\n",
        "print(f'Miguel tiene {alumnos[\"miguel\"]} años.')"
      ],
      "metadata": {
        "colab": {
          "base_uri": "https://localhost:8080/"
        },
        "id": "D3qsYWykAiyw",
        "outputId": "3a3cb8ec-dd00-4524-aae2-d37505edd288"
      },
      "execution_count": 30,
      "outputs": [
        {
          "output_type": "stream",
          "name": "stdout",
          "text": [
            "Miguel tiene 43 años.\n"
          ]
        }
      ]
    },
    {
      "cell_type": "code",
      "source": [
        "nombres = ['pamela', 'juan', 'miguel']\n",
        "if 'juan' in nombres:\n",
        "     print('juan está')\n",
        "     break\n"
      ],
      "metadata": {
        "colab": {
          "base_uri": "https://localhost:8080/",
          "height": 133
        },
        "id": "O0KwSyr4By60",
        "outputId": "19ae142f-29cb-4dfd-9237-b9291de8dab5"
      },
      "execution_count": 50,
      "outputs": [
        {
          "output_type": "error",
          "ename": "SyntaxError",
          "evalue": "ignored",
          "traceback": [
            "\u001b[0;36m  File \u001b[0;32m\"<ipython-input-50-9c1a03a89392>\"\u001b[0;36m, line \u001b[0;32m4\u001b[0m\n\u001b[0;31m    break\u001b[0m\n\u001b[0m    ^\u001b[0m\n\u001b[0;31mSyntaxError\u001b[0m\u001b[0;31m:\u001b[0m 'break' outside loop\n"
          ]
        }
      ]
    },
    {
      "cell_type": "code",
      "source": [
        "def fx():\n",
        "    for i in range(10):\n",
        "        print(i)\n",
        " print('done')\n",
        "\n",
        "fx()"
      ],
      "metadata": {
        "colab": {
          "base_uri": "https://localhost:8080/",
          "height": 133
        },
        "id": "gEtT3jtGDOFd",
        "outputId": "3fbeade1-50a4-450f-abb6-9a9a65aca815"
      },
      "execution_count": 53,
      "outputs": [
        {
          "output_type": "error",
          "ename": "IndentationError",
          "evalue": "ignored",
          "traceback": [
            "\u001b[0;36m  File \u001b[0;32m\"<ipython-input-53-a4fd475176e6>\"\u001b[0;36m, line \u001b[0;32m4\u001b[0m\n\u001b[0;31m    print('done')\u001b[0m\n\u001b[0m                 ^\u001b[0m\n\u001b[0;31mIndentationError\u001b[0m\u001b[0;31m:\u001b[0m unindent does not match any outer indentation level\n"
          ]
        }
      ]
    },
    {
      "cell_type": "code",
      "source": [
        "def fun(a, b):\n",
        "   print(a, b)\n",
        "\n",
        "fun(a=1, 2)"
      ],
      "metadata": {
        "colab": {
          "base_uri": "https://localhost:8080/",
          "height": 133
        },
        "id": "QjrappuAEaiH",
        "outputId": "73f7917f-5ff6-454f-ded0-543444c81ad6"
      },
      "execution_count": 56,
      "outputs": [
        {
          "output_type": "error",
          "ename": "SyntaxError",
          "evalue": "ignored",
          "traceback": [
            "\u001b[0;36m  File \u001b[0;32m\"<ipython-input-56-851c4ca4cc57>\"\u001b[0;36m, line \u001b[0;32m4\u001b[0m\n\u001b[0;31m    fun(a=1, 2)\u001b[0m\n\u001b[0m            ^\u001b[0m\n\u001b[0;31mSyntaxError\u001b[0m\u001b[0;31m:\u001b[0m positional argument follows keyword argument\n"
          ]
        }
      ]
    }
  ]
}