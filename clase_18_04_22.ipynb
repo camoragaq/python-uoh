{
  "nbformat": 4,
  "nbformat_minor": 0,
  "metadata": {
    "colab": {
      "name": "clase-18-04-22.ipynb",
      "provenance": [],
      "collapsed_sections": [],
      "authorship_tag": "ABX9TyMSFAEgcp1b/ya1YEivh6+p",
      "include_colab_link": true
    },
    "kernelspec": {
      "name": "python3",
      "display_name": "Python 3"
    },
    "language_info": {
      "name": "python"
    }
  },
  "cells": [
    {
      "cell_type": "markdown",
      "metadata": {
        "id": "view-in-github",
        "colab_type": "text"
      },
      "source": [
        "<a href=\"https://colab.research.google.com/github/camoragaq/python-uoh/blob/main/clase_18_04_22.ipynb\" target=\"_parent\"><img src=\"https://colab.research.google.com/assets/colab-badge.svg\" alt=\"Open In Colab\"/></a>"
      ]
    },
    {
      "cell_type": "markdown",
      "source": [
        "#Diccionarios en Python"
      ],
      "metadata": {
        "id": "l3nYeJQeYgJu"
      }
    },
    {
      "cell_type": "code",
      "source": [
        "#un diccionario se encierra entre llaves {}, con un \":\" para definir la asociación, seguido de comas \n",
        "\n",
        "auto = {'color': 'azul', 'marca': 'mini', 'año':2006}\n",
        "print(auto)"
      ],
      "metadata": {
        "colab": {
          "base_uri": "https://localhost:8080/"
        },
        "id": "92Dpk4RQY9lf",
        "outputId": "2aa54993-476b-4aa5-c419-f8f3e61e61f4"
      },
      "execution_count": 1,
      "outputs": [
        {
          "output_type": "stream",
          "name": "stdout",
          "text": [
            "{'color': 'azul', 'marca': 'mini', 'año': 2006}\n"
          ]
        }
      ]
    },
    {
      "cell_type": "markdown",
      "source": [
        ""
      ],
      "metadata": {
        "id": "WGweUZm1ktXk"
      }
    },
    {
      "cell_type": "code",
      "source": [
        "# acceso a un valor en un diccionario\n",
        "\n",
        "auto = {'color': 'azul', 'marca': 'mini', 'año':2006}\n",
        "print(auto['color'])\n",
        "print(\"Tu auto es de color \" +  auto['color'] + ' marca\\t ' +  auto['marca'] + ' año '  + str(auto['año']) )"
      ],
      "metadata": {
        "colab": {
          "base_uri": "https://localhost:8080/"
        },
        "id": "Y068DltHcIot",
        "outputId": "eb3b7ef7-2946-4606-a6d1-7f7279ea8451"
      },
      "execution_count": 14,
      "outputs": [
        {
          "output_type": "stream",
          "name": "stdout",
          "text": [
            "azul\n",
            "Tu auto es de color azul marca\t mini año 2006\n"
          ]
        }
      ]
    },
    {
      "cell_type": "code",
      "source": [
        "#agregar una nueva llave  \n",
        "auto = {'color': 'azul', 'marca': 'mini', 'año':2010}\n",
        "print(auto)\n",
        "auto['dueña'] = 'carol moraga'\n",
        "auto['patente'] = 'RGTH77'\n",
        "auto['puertas'] = 3\n",
        "print(auto)"
      ],
      "metadata": {
        "colab": {
          "base_uri": "https://localhost:8080/"
        },
        "id": "LmY0V21HfMnR",
        "outputId": "bc773127-3d29-4dd0-c232-6bbc0acff868"
      },
      "execution_count": 7,
      "outputs": [
        {
          "output_type": "stream",
          "name": "stdout",
          "text": [
            "{'color': 'azul', 'marca': 'mini', 'año': 2010}\n",
            "{'color': 'azul', 'marca': 'mini', 'año': 2010, 'dueña': 'carol moraga', 'patente': 'RGTH77', 'puertas': 3}\n"
          ]
        }
      ]
    },
    {
      "cell_type": "code",
      "source": [
        "#agregar llave partiendo de un diccionario vacío\n",
        "auto = {}\n",
        "print(auto)\n",
        "auto['color'] = 'azul'\n",
        "auto['año'] = 2006\n",
        "print(auto)"
      ],
      "metadata": {
        "colab": {
          "base_uri": "https://localhost:8080/"
        },
        "id": "XTL4f-2OgR6b",
        "outputId": "74272ef8-7c1f-44e1-9cc3-4b79e0ed30c1"
      },
      "execution_count": 7,
      "outputs": [
        {
          "output_type": "stream",
          "name": "stdout",
          "text": [
            "{}\n",
            "{'color': 'azul', 'año': 2006}\n"
          ]
        }
      ]
    },
    {
      "cell_type": "code",
      "source": [
        "#modificar valores en un diccionario \n",
        "auto = {'color': 'azul', 'marca': 'mini', 'año':2010}\n",
        "print(\"El auto es \" + auto['color'])\n",
        "auto['color'] = 'rojo'\n",
        "print(\"El auto ahora es \" + auto['color'])"
      ],
      "metadata": {
        "colab": {
          "base_uri": "https://localhost:8080/"
        },
        "id": "xtYikB5e3diK",
        "outputId": "e405fd06-fbb7-4eb2-8d57-df349785e384"
      },
      "execution_count": 1,
      "outputs": [
        {
          "output_type": "stream",
          "name": "stdout",
          "text": [
            "El auto es azul\n",
            "El auto ahora es rojo\n"
          ]
        }
      ]
    },
    {
      "cell_type": "code",
      "source": [
        "#eliminar llave y su valor \n",
        "auto = {'color': 'azul', 'marca': 'mini', 'año':2010}\n",
        "print(auto)\n",
        "del auto['color']\n",
        "print(auto)"
      ],
      "metadata": {
        "colab": {
          "base_uri": "https://localhost:8080/"
        },
        "id": "PMr0Rk7N4L3Q",
        "outputId": "15f28ffd-4336-4558-c760-97223fac3c5c"
      },
      "execution_count": 2,
      "outputs": [
        {
          "output_type": "stream",
          "name": "stdout",
          "text": [
            "{'color': 'azul', 'marca': 'mini', 'año': 2010}\n",
            "{'marca': 'mini', 'año': 2010}\n"
          ]
        }
      ]
    },
    {
      "cell_type": "code",
      "source": [
        "#diccionarios de objetos similares\n",
        "alumnos_ciudad = {'carol': 'talca',\n",
        "                  'manuel': 'rancagua',\n",
        "                  'francisca': 'santiago',\n",
        "                  'fernanda': 'curico',\n",
        "                  'javier': 'rancagua'}\n",
        "print(alumnos_ciudad)\n",
        "print('la ciudad de Carol es ' + alumnos_ciudad['carol'].title())\n"
      ],
      "metadata": {
        "colab": {
          "base_uri": "https://localhost:8080/"
        },
        "id": "a4hK1GGF4slF",
        "outputId": "fa6ddf54-f41e-42b8-bef8-d938ad6f8524"
      },
      "execution_count": 8,
      "outputs": [
        {
          "output_type": "stream",
          "name": "stdout",
          "text": [
            "{'carol': 'talca', 'manuel': 'rancagua', 'francisca': 'santiago', 'fernanda': 'curico', 'javier': 'rancagua'}\n",
            "la ciudad de Carol es Talca\n"
          ]
        }
      ]
    },
    {
      "cell_type": "code",
      "source": [
        "#mezclando listas y diccionarios\n",
        "#de listas a diccionarios\n",
        "auto_1 = {'color': 'azul', 'marca': 'mini', 'año':2010}\n",
        "auto_2 = {'color': 'rojo', 'marca': 'mazda', 'año':2012}\n",
        "auto_3 = {'color': 'gris', 'marca': 'suzuki', 'año':2011}\n",
        "catalogo_autos = [auto_1, auto_2, auto_3]\n",
        "print(catalogo_autos[0])\n",
        "#como accedemos a una llave:valor del diccionario dentro de una lista\n",
        "print(catalogo_autos[0]['marca'])\n",
        "print(catalogo_autos[1]['marca'])\n",
        "print(catalogo_autos[2]['marca'])\n",
        "\n",
        "catalogo_autos[2]['año']=2020\n",
        "print(catalogo_autos[2])"
      ],
      "metadata": {
        "colab": {
          "base_uri": "https://localhost:8080/"
        },
        "id": "fxCqlPht6EyP",
        "outputId": "9d905573-7365-42ad-c12c-6da8633d3c76"
      },
      "execution_count": 8,
      "outputs": [
        {
          "output_type": "stream",
          "name": "stdout",
          "text": [
            "{'color': 'azul', 'marca': 'mini', 'año': 2010}\n",
            "mini\n",
            "mazda\n",
            "suzuki\n",
            "{'color': 'gris', 'marca': 'suzuki', 'año': 2020}\n"
          ]
        }
      ]
    },
    {
      "cell_type": "code",
      "source": [
        "#como usar listas dentro de un diccionario\n",
        "#de diccionario a listas\n",
        "alumnos_ciudad = {'carol': ['talca','iquique','santiago','lyon'],\n",
        "                  'manuel': ['rancagua'],\n",
        "                  'francisca': ['santiago','rancagua'],\n",
        "                  'fernanda': ['curico','rancagua','madrid'],\n",
        "                  'javier': ['rancagua']}\n",
        "#print(alumnos_ciudad)\n",
        "#print('las ciudades de Carol son ' , alumnos_ciudad['carol'])\n",
        "#print('las ciudades de Carol son ' , \", \".join(alumnos_ciudad['carol']), '.')\n",
        "#como acceder a un valor de la lista dentro del diccionario\n",
        "print(alumnos_ciudad['fernanda'][2])\n",
        "print(alumnos_ciudad['javier'][0])\n",
        "del alumnos_ciudad['carol'][3]\n",
        "print(alumnos_ciudad['carol'])\n",
        "                   "
      ],
      "metadata": {
        "colab": {
          "base_uri": "https://localhost:8080/"
        },
        "id": "trVO1RTX7vyL",
        "outputId": "ca9b3d8a-331d-47fb-c2ec-7b4ff44d9fd1"
      },
      "execution_count": 9,
      "outputs": [
        {
          "output_type": "stream",
          "name": "stdout",
          "text": [
            "madrid\n",
            "rancagua\n",
            "['talca', 'iquique', 'santiago']\n"
          ]
        }
      ]
    },
    {
      "cell_type": "markdown",
      "source": [
        "#Tuplas en python"
      ],
      "metadata": {
        "id": "v3YydK4dENUO"
      }
    },
    {
      "cell_type": "code",
      "source": [
        "#definiendo una tupla\n",
        "edades = (20, 19, 18, 21)\n",
        "print(edades[0])\n",
        "print(edades[1])\n",
        "#que pasa si queremos modificar un valor dentro de una tupla, nos dará error, no es posible hacerlo\n",
        "#edades[0] = 100 "
      ],
      "metadata": {
        "colab": {
          "base_uri": "https://localhost:8080/"
        },
        "id": "VRgPOHbkERKw",
        "outputId": "df2d355e-7e71-46cf-c44e-c63aa7ae35e8"
      },
      "execution_count": 15,
      "outputs": [
        {
          "output_type": "stream",
          "name": "stdout",
          "text": [
            "20\n",
            "19\n"
          ]
        }
      ]
    },
    {
      "cell_type": "code",
      "source": [
        "#sobreescribir un valor dentro de una tupla\n",
        "edades = (20, 19, 18, 21)\n",
        "print(\"Edades alumnos:\")\n",
        "for edades in edades:\n",
        "    print(edades)\n",
        "    \n",
        "edades = (40, 30, 35)\n",
        "print(\"\\nEdades modificadas:\")\n",
        "for edades in edades:\n",
        "    print(edades)"
      ],
      "metadata": {
        "colab": {
          "base_uri": "https://localhost:8080/"
        },
        "id": "xNCCqFONIegQ",
        "outputId": "2330f762-894f-416b-a212-76a7f1c50434"
      },
      "execution_count": 12,
      "outputs": [
        {
          "output_type": "stream",
          "name": "stdout",
          "text": [
            "Edades alumnos:\n",
            "20\n",
            "19\n",
            "18\n",
            "21\n",
            "\n",
            "Edades modificadas:\n",
            "40\n",
            "30\n",
            "35\n"
          ]
        }
      ]
    }
  ]
}