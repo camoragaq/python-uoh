{
  "nbformat": 4,
  "nbformat_minor": 0,
  "metadata": {
    "colab": {
      "name": "clase-22-04-22-sentencias-condicionales.ipynb",
      "provenance": [],
      "collapsed_sections": [],
      "authorship_tag": "ABX9TyPqyeCcVJ8Pt2SATuxlcdLT",
      "include_colab_link": true
    },
    "kernelspec": {
      "name": "python3",
      "display_name": "Python 3"
    },
    "language_info": {
      "name": "python"
    }
  },
  "cells": [
    {
      "cell_type": "markdown",
      "metadata": {
        "id": "view-in-github",
        "colab_type": "text"
      },
      "source": [
        "<a href=\"https://colab.research.google.com/github/camoragaq/python-uoh/blob/main/clase_22_04_22_sentencias_condicionales.ipynb\" target=\"_parent\"><img src=\"https://colab.research.google.com/assets/colab-badge.svg\" alt=\"Open In Colab\"/></a>"
      ]
    },
    {
      "cell_type": "markdown",
      "source": [
        "#Sentencias condicionales"
      ],
      "metadata": {
        "id": "FlHyMmfXqo65"
      }
    },
    {
      "cell_type": "markdown",
      "source": [
        "##*for* loops and else\n"
      ],
      "metadata": {
        "id": "SpoUnkY0nj7B"
      }
    },
    {
      "cell_type": "code",
      "source": [
        "frutas = [\"manzana\", \"banana\", \"frutillas\",\"peras\"]\n",
        "\n",
        "for x in frutas:\n",
        "  print(x)\n",
        "\n",
        "else:\n",
        "  print(\"Finalmente the end!\")"
      ],
      "metadata": {
        "colab": {
          "base_uri": "https://localhost:8080/"
        },
        "id": "RGMm3FxMn3k0",
        "outputId": "9e31b785-4edc-4343-ce6a-181ebc80419e"
      },
      "execution_count": 1,
      "outputs": [
        {
          "output_type": "stream",
          "name": "stdout",
          "text": [
            "manzana\n",
            "banana\n",
            "frutillas\n",
            "peras\n",
            "Finalmente the end!\n"
          ]
        }
      ]
    },
    {
      "cell_type": "code",
      "source": [
        "#if condicion, realizar cierta acción \"si\" la condición se cumple\n",
        "autos = ['audi', 'bmw', 'mini', 'suzuki']\n",
        "for auto in autos:\n",
        "    if auto == 'mini':\n",
        "        print(auto.upper())\n",
        "    "
      ],
      "metadata": {
        "colab": {
          "base_uri": "https://localhost:8080/"
        },
        "id": "pqvdQhfJvUOV",
        "outputId": "dde7124d-ec1a-4b4b-9650-48a1e0dd5f67"
      },
      "execution_count": 2,
      "outputs": [
        {
          "output_type": "stream",
          "name": "stdout",
          "text": [
            "MINI\n"
          ]
        }
      ]
    },
    {
      "cell_type": "code",
      "source": [
        "#ejemplos usando if expresiones booleanas\n",
        "\n",
        "x = 10\n",
        "y = 10\n",
        "\n",
        "if x < y:                          \n",
        "   print('x menor')\n",
        "\n",
        "if y > x:                            \n",
        "   print('y mayor')\n",
        "\n",
        "if x == y:                          \n",
        "   print('iguales')\n",
        "\n",
        "if y != x:                            \n",
        "   print('distinto')\n",
        "\n",
        "if y >= x:                            \n",
        "   print('y es mayor o igual que x')\n"
      ],
      "metadata": {
        "colab": {
          "base_uri": "https://localhost:8080/"
        },
        "id": "bEOOAaaix2vI",
        "outputId": "929d302c-3cfd-4be5-b8ff-46a056f6a327"
      },
      "execution_count": 4,
      "outputs": [
        {
          "output_type": "stream",
          "name": "stdout",
          "text": [
            "iguales\n",
            "y es mayor o igual que x\n"
          ]
        }
      ]
    },
    {
      "cell_type": "code",
      "source": [
        "#if-elif-else, condiciones cuando se necesita evaluar mas de una condición\n",
        "print(\"como estará el clima hoy? (lluvioso=0/soleado=1/nublado=2)\")\n",
        "clima=int(input())\n",
        "\n",
        "if clima == 1:\n",
        "    print(\"Vamos a andar en bicicleta.\")\n",
        "elif clima >= 1:\n",
        "    print(\"Vamos a andar en bicicleta.\")\n",
        "else:\n",
        "    print(\"Vemos netflix.\")"
      ],
      "metadata": {
        "colab": {
          "base_uri": "https://localhost:8080/"
        },
        "id": "a2s0BnI7z3bh",
        "outputId": "532b9031-5de2-41d0-bba2-0c6308a9d391"
      },
      "execution_count": 8,
      "outputs": [
        {
          "output_type": "stream",
          "name": "stdout",
          "text": [
            "como estará el clima hoy? (lluvioso=0/soleado=1/nublado=2)\n",
            "100\n",
            "Vamos a andar en bicicleta.\n"
          ]
        }
      ]
    },
    {
      "cell_type": "code",
      "source": [
        "x = 3\n",
        "if x == 1:\n",
        "   print('foo')\n",
        "   print('bar')\n",
        "   print('baz')\n",
        "elif x == 2:\n",
        "   print('qux')\n",
        "   print('quux')\n",
        "else:\n",
        "   print('corge')\n",
        "   print('grault')"
      ],
      "metadata": {
        "colab": {
          "base_uri": "https://localhost:8080/"
        },
        "id": "-gqx_A0e3h0S",
        "outputId": "f8171c9b-e024-49b3-b2d6-f356805ea44e"
      },
      "execution_count": 16,
      "outputs": [
        {
          "output_type": "stream",
          "name": "stdout",
          "text": [
            "corge\n",
            "grault\n"
          ]
        }
      ]
    },
    {
      "cell_type": "code",
      "source": [
        "#muchos if or if-elif-else\n",
        "\n",
        "ingredientes = ['harina', 'levadura', 'sal']\n",
        "if 'harina' in ingredientes:\n",
        "    print(\"Agregar harina!\")\n",
        "if 'levadura' in ingredientes:\n",
        "    print(\"Agregar levadura!\")\n",
        "if 'sal' in ingredientes:\n",
        "    print(\"Agregar sal!\")\n",
        "if 'azúcar' in ingredientes:\n",
        "    print(\"Agregar azúcar!\")\n",
        "    \n",
        "#o elif\n",
        "\n",
        "#ingredientes = ['harina', 'levadura', 'sal']\n",
        "#if 'harina' in ingredientes:\n",
        "#    print(\"Agregar harina!\")\n",
        "#elif 'levadura' in ingredientes:\n",
        "#    print(\"Agregar levadura!\")\n",
        "#elif 'sal' in ingredientes:\n",
        "#    print(\"Agregar sal!\")\n",
        "#elif 'azúcar' in ingredientes:\n",
        "#    print(\"Agregar azúcar!\")"
      ],
      "metadata": {
        "colab": {
          "base_uri": "https://localhost:8080/"
        },
        "id": "NrPQ0LNv4wGY",
        "outputId": "3d64810e-9c50-4a7c-bc35-d112d82b7414"
      },
      "execution_count": 22,
      "outputs": [
        {
          "output_type": "stream",
          "name": "stdout",
          "text": [
            "Agregar harina!\n",
            "Agregar levadura!\n",
            "Agregar sal!\n"
          ]
        }
      ]
    },
    {
      "cell_type": "code",
      "source": [
        "#ejemplo 1 usando if-elif-else en listas\n",
        "ingredientes = ['harina', 'levadura', 'sal']\n",
        "for ingrediente in ingredientes:\n",
        "    if ingrediente == 'levadura':\n",
        "        print(\"Lo siento, no tenemos levadura.\")\n",
        "    else:\n",
        "        print(\"Agregar \" + ingrediente +\"!\")"
      ],
      "metadata": {
        "colab": {
          "base_uri": "https://localhost:8080/"
        },
        "id": "TA1hOa0j7E8E",
        "outputId": "52808fd7-332c-4816-9f91-1ec89a0f7a09"
      },
      "execution_count": 9,
      "outputs": [
        {
          "output_type": "stream",
          "name": "stdout",
          "text": [
            "Agregar harina!\n",
            "Lo siento, no tenemos levadura.\n",
            "Agregar sal!\n"
          ]
        }
      ]
    },
    {
      "cell_type": "code",
      "source": [
        "#ejemplo 2 usando if-elif-else en listas\n",
        "if ingredientes:\n",
        "    for ingrediente in ingredientes:\n",
        "        print(\"Agregar \" + ingrediente +\"!\")\n",
        "    print(\"Pan listo!\")\n",
        "else:\n",
        "    print(\"¿Seguro que no quieres otra cosa?\")"
      ],
      "metadata": {
        "colab": {
          "base_uri": "https://localhost:8080/"
        },
        "id": "iNHw1LdQ7h8H",
        "outputId": "ade7885b-a348-44f1-de01-75a7eee240f2"
      },
      "execution_count": 24,
      "outputs": [
        {
          "output_type": "stream",
          "name": "stdout",
          "text": [
            "Agregar harina!\n",
            "Agregar levadura!\n",
            "Agregar sal!\n",
            "Pan listo!\n"
          ]
        }
      ]
    },
    {
      "cell_type": "markdown",
      "source": [
        "#while loop"
      ],
      "metadata": {
        "id": "XaavtbKx_t2j"
      }
    },
    {
      "cell_type": "code",
      "source": [
        "#while n es mayor a 0 se ejecuta el cuerpo del loop\n",
        "n = 5\n",
        "while n > 0:\n",
        "   n -= 1\n",
        "\n",
        "print(n)"
      ],
      "metadata": {
        "colab": {
          "base_uri": "https://localhost:8080/"
        },
        "id": "6NB90vvD_wIr",
        "outputId": "6e79c170-623c-49ad-ca29-b37a558bde67"
      },
      "execution_count": 10,
      "outputs": [
        {
          "output_type": "stream",
          "name": "stdout",
          "text": [
            "0\n"
          ]
        }
      ]
    },
    {
      "cell_type": "code",
      "source": [
        "#ejemplo de while usando una lista\n",
        "a = ['hola', 'como', 'están?','chao']\n",
        "while a:\n",
        "   print(a.pop(0))"
      ],
      "metadata": {
        "colab": {
          "base_uri": "https://localhost:8080/"
        },
        "id": "oI7iRNu_AZL6",
        "outputId": "8bcbc14d-c4b4-4943-bf72-97083df48003"
      },
      "execution_count": 11,
      "outputs": [
        {
          "output_type": "stream",
          "name": "stdout",
          "text": [
            "hola\n",
            "como\n",
            "están?\n",
            "chao\n"
          ]
        }
      ]
    },
    {
      "cell_type": "code",
      "source": [
        "#usando break y continue en el loop while\n",
        "n = 15\n",
        "while n > 0:\n",
        "    n -= 1\n",
        "    if n == 12:\n",
        "        break\n",
        "    print(n)\n",
        "print('Final del loop')"
      ],
      "metadata": {
        "colab": {
          "base_uri": "https://localhost:8080/"
        },
        "id": "wm3q2nXPBFir",
        "outputId": "34211af4-945d-409a-bf89-c70509e54250"
      },
      "execution_count": 12,
      "outputs": [
        {
          "output_type": "stream",
          "name": "stdout",
          "text": [
            "14\n",
            "13\n",
            "Final del loop\n"
          ]
        }
      ]
    },
    {
      "cell_type": "code",
      "source": [
        "#while y else\n",
        "a = ['hola', 'como', 'están']\n",
        "s = 'chao'\n",
        "\n",
        "i = 0\n",
        "while i < len(a):\n",
        "     #if a[i] == s:\n",
        "      # Processing for item found\n",
        "      break\n",
        "      i += 1\n",
        "else:\n",
        "   # Processing for item not found\n",
        "   print(s, 'no está en la lista.')\n"
      ],
      "metadata": {
        "id": "6g8MOf6yB_X2"
      },
      "execution_count": 36,
      "outputs": []
    },
    {
      "cell_type": "markdown",
      "source": [
        "#Manejo de archivos"
      ],
      "metadata": {
        "id": "qmMJF3a6FBuz"
      }
    },
    {
      "cell_type": "code",
      "source": [
        "#leer un archivo\n",
        "file=open('nombres.txt')\n",
        "contents = file.read()\n",
        "print(contents.rstrip())\n",
        "file.close()"
      ],
      "metadata": {
        "colab": {
          "base_uri": "https://localhost:8080/"
        },
        "id": "WZjnZhmtFF37",
        "outputId": "dc34fffc-1a66-40b4-e665-38c0539a162c"
      },
      "execution_count": 15,
      "outputs": [
        {
          "output_type": "stream",
          "name": "stdout",
          "text": [
            "carol\n",
            "fernanda\n",
            "juan\n",
            "diego\n",
            "antonia\n",
            "rebeca\n",
            "francisca\n"
          ]
        }
      ]
    },
    {
      "cell_type": "code",
      "source": [
        "#leer linea por linea\n",
        "filename = 'nombres.txt'\n",
        "file = open(filename)\n",
        "i=0\n",
        "for line in file:\n",
        "  print(i,line.rstrip())\n",
        "  i+=1\n",
        " #cerramos el archivo \n",
        "file.close()"
      ],
      "metadata": {
        "colab": {
          "base_uri": "https://localhost:8080/"
        },
        "id": "z5rEboGtG89J",
        "outputId": "fa5f3a8d-9e9f-4ef6-e5cb-039d2476c174"
      },
      "execution_count": 11,
      "outputs": [
        {
          "output_type": "stream",
          "name": "stdout",
          "text": [
            "0 carol\n",
            "1 fernanda\n",
            "2 juan\n",
            "3 diego\n",
            "4 antonia\n",
            "5 rebeca\n",
            "6 francisca\n"
          ]
        }
      ]
    },
    {
      "cell_type": "code",
      "source": [
        "#escribir en un archivo, usando función with open as y sus modos\n",
        "filename = 'programacion.txt'\n",
        "with open(filename,'w') as archivo:\n",
        "   archivo.write(\"unidades a estudiar: variables\\n listas\\n diccionarios\\n sentencias condicionales\\n\")\n"
      ],
      "metadata": {
        "id": "NTd2S3zsHk_F"
      },
      "execution_count": 16,
      "outputs": []
    },
    {
      "cell_type": "code",
      "source": [
        "#agregar unidades al archivo de programación\n",
        "filename = 'programacion.txt'\n",
        "with open(filename,'a') as archivo:\n",
        "   archivo.write(\"unidades nuevas: archivos\\n orientación a objetos\\n\")\n",
        "\n",
        "archivo.close()\n"
      ],
      "metadata": {
        "id": "ypTKFXEenXam"
      },
      "execution_count": 15,
      "outputs": []
    },
    {
      "cell_type": "code",
      "source": [
        "#agregar unidades al archivo de programación y leer el archivo con la función with open() as\n",
        "filename = 'programacion.txt'\n",
        "with open(filename,'a') as archivo:\n",
        "   archivo.write(\"unidades nuevas: archivos\\n orientación a objetos\\n\")\n",
        "\n",
        "#with open(filename,'r') as archivo:\n",
        " #  for line in archivo:\n",
        "  #    print(line.rstrip())"
      ],
      "metadata": {
        "id": "2LvK2pVeqlgD"
      },
      "execution_count": null,
      "outputs": []
    },
    {
      "cell_type": "code",
      "source": [
        "#buscar archivos en el directorio\n",
        "import os\n",
        "from pathlib import Path\n",
        "os.listdir()"
      ],
      "metadata": {
        "colab": {
          "base_uri": "https://localhost:8080/"
        },
        "id": "rSjWX0vMwqzf",
        "outputId": "d8811f2d-51ba-48e5-8794-148178eb5ddf"
      },
      "execution_count": 18,
      "outputs": [
        {
          "output_type": "execute_result",
          "data": {
            "text/plain": [
              "['.config', 'programacion.txt', 'sample_data']"
            ]
          },
          "metadata": {},
          "execution_count": 18
        }
      ]
    }
  ]
}