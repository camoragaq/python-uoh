{
  "nbformat": 4,
  "nbformat_minor": 0,
  "metadata": {
    "colab": {
      "name": "clase_2_05_22_Funciones_y_recursividad.ipynb",
      "provenance": [],
      "collapsed_sections": [],
      "authorship_tag": "ABX9TyMC+8GERQSe7pzdJ5GfzAq0",
      "include_colab_link": true
    },
    "kernelspec": {
      "name": "python3",
      "display_name": "Python 3"
    },
    "language_info": {
      "name": "python"
    }
  },
  "cells": [
    {
      "cell_type": "markdown",
      "metadata": {
        "id": "view-in-github",
        "colab_type": "text"
      },
      "source": [
        "<a href=\"https://colab.research.google.com/github/camoragaq/python-uoh/blob/main/clase_2_05_22_Funciones_y_recursividad.ipynb\" target=\"_parent\"><img src=\"https://colab.research.google.com/assets/colab-badge.svg\" alt=\"Open In Colab\"/></a>"
      ]
    },
    {
      "cell_type": "markdown",
      "source": [
        "#Ejercicios usando funciones y recursividad"
      ],
      "metadata": {
        "id": "i6Wh0fKkixdW"
      }
    },
    {
      "cell_type": "markdown",
      "source": [
        "1. Solicitar y revisar una dirección de email. Imprimir un mensaje indicando si la dirección es válida o no, valiéndose de una función para decidirlo. Una dirección se considerará válida si contiene el símbolo \"@\"."
      ],
      "metadata": {
        "id": "uHkesg_QjDvC"
      }
    },
    {
      "cell_type": "code",
      "execution_count": 30,
      "metadata": {
        "colab": {
          "base_uri": "https://localhost:8080/"
        },
        "id": "T7x6_RGgiLZ9",
        "outputId": "471f32ba-423d-46d0-92b8-eae18d46dd9d"
      },
      "outputs": [
        {
          "output_type": "stream",
          "name": "stdout",
          "text": [
            "Tu email: carol mail\n",
            "Dirección inválida\n"
          ]
        }
      ],
      "source": [
        "def validar(email):\n",
        "    caracterBuscado=\"@\"\n",
        "    for c in email:\n",
        "        if c==caracterBuscado:\n",
        "            return True\n",
        "    return False\n",
        "\n",
        " \n",
        "direccion=input(\"Tu email: \")\n",
        "if validar(direccion):\n",
        "    print(\"Dirección válida\")\n",
        "else:\n",
        "    print(\"Dirección inválida\")"
      ]
    },
    {
      "cell_type": "markdown",
      "source": [
        "2. Solicitar números al usuario hasta que ingrese el cero. Por cada uno, mostrar la suma de sus dígitos (utilizando una función que realice dicha suma)."
      ],
      "metadata": {
        "id": "9zIWKccYk8_w"
      }
    },
    {
      "cell_type": "code",
      "source": [
        "def suma(n):\n",
        "   if n==1:\n",
        "     resultado = 1\n",
        "   else:\n",
        "     resultado = n + suma(n-1)\n",
        "  \n",
        "   return resultado\n",
        "\n",
        " \n",
        "num=int(input(\"Número a procesar: \"))\n",
        "while num!=0:\n",
        "    print(\"Suma:\",suma(num))\n",
        "    num=int(input(\"Número a procesar: \"))\n"
      ],
      "metadata": {
        "colab": {
          "base_uri": "https://localhost:8080/"
        },
        "id": "VWaQFbT_le_I",
        "outputId": "3c08d1bb-5116-4ea0-b6f4-f7b17e994497"
      },
      "execution_count": null,
      "outputs": [
        {
          "name": "stdout",
          "output_type": "stream",
          "text": [
            "Número a procesar: 5\n",
            "Suma: 15\n",
            "Número a procesar: 10\n",
            "Suma: 55\n",
            "Número a procesar: 3\n",
            "Suma: 6\n",
            "Número a procesar: 0\n"
          ]
        }
      ]
    },
    {
      "cell_type": "markdown",
      "source": [
        "3. Requerir al usuario que ingrese un número entero e informar si es primo o no, utilizando una función booleana que lo decida."
      ],
      "metadata": {
        "id": "dCugHgNI14x2"
      }
    },
    {
      "cell_type": "code",
      "source": [
        "def primo(num):\n",
        "   for i in range(2,num):\n",
        "       if num%i==0:           \n",
        "           return False\n",
        "   return True\n",
        "\n",
        " \n",
        "numero=int(input(\"Número: \"))\n",
        "if primo(numero):\n",
        "    print(\"Es primo\")\n",
        "else:\n",
        "    print(\"No es primo\")"
      ],
      "metadata": {
        "colab": {
          "base_uri": "https://localhost:8080/"
        },
        "id": "tcEsTpkx2aNO",
        "outputId": "6ef1cfd5-fa45-4d93-f21b-2cdf6151754f"
      },
      "execution_count": 32,
      "outputs": [
        {
          "output_type": "stream",
          "name": "stdout",
          "text": [
            "Número: 6\n",
            "No es primo\n"
          ]
        }
      ]
    },
    {
      "cell_type": "markdown",
      "source": [
        "4. Que hace el siguiente código"
      ],
      "metadata": {
        "id": "N9vfACO24Ike"
      }
    },
    {
      "cell_type": "code",
      "source": [
        "def coordenadaZ(x,y):\n",
        "  x=x+10\n",
        "  y=y+15\n",
        "  return x+y\n",
        "\n",
        " \n",
        "#programa principal\n",
        "x=int(input(\"Coordenada eje x: \"))\n",
        "y=int(input(\"Coordenada eje y: \"))\n",
        "for i in range(3):\n",
        "  z=coordenadaZ(x,y)\n",
        "  x=x+1\n",
        "  y=y+1\n",
        "print(x,\" . \",y)"
      ],
      "metadata": {
        "id": "NfOHRHBs4dXe",
        "colab": {
          "base_uri": "https://localhost:8080/"
        },
        "outputId": "49c80a5a-335d-4318-91ae-6c90fd751886"
      },
      "execution_count": 33,
      "outputs": [
        {
          "output_type": "stream",
          "name": "stdout",
          "text": [
            "Coordenada eje x: 10\n",
            "Coordenada eje y: 10\n",
            "13  .  13\n"
          ]
        }
      ]
    },
    {
      "cell_type": "markdown",
      "source": [
        "5. El siguiente programa debería imprimir el número 2 si se le ingresan como valores x=5, y=1 pero en su lugar imprime 5. ¿Qué hay que corregir?"
      ],
      "metadata": {
        "id": "m5T9vALQ4lRX"
      }
    },
    {
      "cell_type": "code",
      "source": [
        "def maximo(a,b):\n",
        "  if x>y:\n",
        "    return x\n",
        "  else:\n",
        "    return y\n",
        "\n",
        " \n",
        "def minimo(a,b):\n",
        "  if x<y:\n",
        "    return x\n",
        "  else:\n",
        "    return y\n",
        "\n",
        " \n",
        "#programa principal\n",
        "x=int(input(\"Un número: \"))\n",
        "y=int(input(\"Otro número: \"))\n",
        "print(maximo(x-3, minimo(x+2, y-5)))"
      ],
      "metadata": {
        "colab": {
          "base_uri": "https://localhost:8080/"
        },
        "id": "KNNDbsRw4rGT",
        "outputId": "0ce971ed-4353-46f8-ce7c-6c341687d100"
      },
      "execution_count": null,
      "outputs": [
        {
          "output_type": "stream",
          "name": "stdout",
          "text": [
            "Un número: 5\n",
            "Otro número: 1\n",
            "5\n"
          ]
        }
      ]
    },
    {
      "cell_type": "markdown",
      "source": [
        "6. Hacer una cuenta regresiva, ver donde se haría una función recursiva infinita."
      ],
      "metadata": {
        "id": "8TrY1bUw5C4s"
      }
    },
    {
      "cell_type": "code",
      "source": [
        "def cuenta_regresiva(numero):\n",
        "   if numero > 0:\n",
        "      print(numero)\n",
        "      numero -=1\n",
        "      cuenta_regresiva(numero)\n",
        "   else:\n",
        "      print(\"Feliz año nuevo!\")\n",
        "\n",
        "cuenta_regresiva(10)"
      ],
      "metadata": {
        "colab": {
          "base_uri": "https://localhost:8080/"
        },
        "id": "q0mgiMSO5FFl",
        "outputId": "d5a52ce1-7d9d-4dc1-fe6b-bc267c0a5820"
      },
      "execution_count": 36,
      "outputs": [
        {
          "output_type": "stream",
          "name": "stdout",
          "text": [
            "10\n",
            "9\n",
            "8\n",
            "7\n",
            "6\n",
            "5\n",
            "4\n",
            "3\n",
            "2\n",
            "1\n",
            "Feliz año nuevo!\n"
          ]
        }
      ]
    },
    {
      "cell_type": "markdown",
      "source": [
        "7. Escribir una función que reciba una muestra de números en una lista y devuelva su media, varianza y desviación típica en un diccionario."
      ],
      "metadata": {
        "id": "wu6h0CE77TAl"
      }
    },
    {
      "cell_type": "code",
      "source": [
        "def promedio(sample):\n",
        "    return sum(sample)/len(sample)\n",
        "\n",
        "print(promedio([1, 2, 3, 4, 5]))\n",
        "print(promedio([2.3, 5.7, 6.8, 9.7, 12.1, 15.6]))"
      ],
      "metadata": {
        "colab": {
          "base_uri": "https://localhost:8080/"
        },
        "id": "SPOx63XY7bPs",
        "outputId": "5ff82d7c-81b7-47d8-8d42-9cd263837e6b"
      },
      "execution_count": 37,
      "outputs": [
        {
          "output_type": "stream",
          "name": "stdout",
          "text": [
            "3.0\n",
            "8.700000000000001\n"
          ]
        }
      ]
    },
    {
      "cell_type": "markdown",
      "source": [
        "8. Escribir una función que reciba una muestra de números en una lista y devuelva otra lista con sus cuadrados."
      ],
      "metadata": {
        "id": "Y0IcjUFQ8MPa"
      }
    },
    {
      "cell_type": "code",
      "source": [
        "def cuadrado(lista):\n",
        "    list = []\n",
        "    for i in lista:\n",
        "        list.append(i**2)\n",
        "    return list\n",
        "\n",
        "print(cuadrado([1, 2, 3, 4, 5]))\n",
        "print(cuadrado([2.3, 5.7, 6.8, 9.7, 12.1, 15.6]))"
      ],
      "metadata": {
        "colab": {
          "base_uri": "https://localhost:8080/"
        },
        "id": "XU4Xt69s8LQo",
        "outputId": "69db9920-aa01-4807-b2ae-7932c0fb314c"
      },
      "execution_count": null,
      "outputs": [
        {
          "output_type": "stream",
          "name": "stdout",
          "text": [
            "[1, 4, 9, 16, 25]\n",
            "[5.289999999999999, 32.49, 46.239999999999995, 94.08999999999999, 146.41, 243.35999999999999]\n"
          ]
        }
      ]
    }
  ]
}