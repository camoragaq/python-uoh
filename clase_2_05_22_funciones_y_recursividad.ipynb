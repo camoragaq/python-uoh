{
  "nbformat": 4,
  "nbformat_minor": 0,
  "metadata": {
    "colab": {
      "name": "clase-2-05-22_funciones-y-recursividad.ipynb",
      "provenance": [],
      "collapsed_sections": [],
      "authorship_tag": "ABX9TyP5cas6vonQQuO/KjCF+F7+",
      "include_colab_link": true
    },
    "kernelspec": {
      "name": "python3",
      "display_name": "Python 3"
    },
    "language_info": {
      "name": "python"
    }
  },
  "cells": [
    {
      "cell_type": "markdown",
      "metadata": {
        "id": "view-in-github",
        "colab_type": "text"
      },
      "source": [
        "<a href=\"https://colab.research.google.com/github/camoragaq/python-uoh/blob/main/clase_2_05_22_funciones_y_recursividad.ipynb\" target=\"_parent\"><img src=\"https://colab.research.google.com/assets/colab-badge.svg\" alt=\"Open In Colab\"/></a>"
      ]
    },
    {
      "cell_type": "markdown",
      "source": [
        "#Funciones en Python"
      ],
      "metadata": {
        "id": "l0eyGHoo4Ir5"
      }
    },
    {
      "cell_type": "code",
      "source": [
        "#usando funciones pre construidas en python\n",
        "s='hola'\n",
        "len(s)\n"
      ],
      "metadata": {
        "colab": {
          "base_uri": "https://localhost:8080/"
        },
        "id": "k_fVWgqD8lF3",
        "outputId": "5c908037-c8ae-47f0-b24f-174405ae6993"
      },
      "execution_count": 4,
      "outputs": [
        {
          "output_type": "execute_result",
          "data": {
            "text/plain": [
              "4"
            ]
          },
          "metadata": {},
          "execution_count": 4
        }
      ]
    },
    {
      "cell_type": "code",
      "execution_count": 1,
      "metadata": {
        "id": "PIWY0Yzg4IQs"
      },
      "outputs": [],
      "source": [
        "#definiendo mi primera función\n",
        "def my_function():\n",
        "  print(\"Hola función!\")"
      ]
    },
    {
      "cell_type": "code",
      "source": [
        "#siempre llama a tu función deacuerdo a la actividad que estas realizando, de esta manera sabes perfectamente cuando llamarla.\n",
        "def saludar_usuario():\n",
        "   print(\"¡Hola alumn@, uoh!\")\n",
        "\n",
        "saludar_usuario()"
      ],
      "metadata": {
        "colab": {
          "base_uri": "https://localhost:8080/"
        },
        "id": "fP_AthaG4eLj",
        "outputId": "a6cd39da-bedd-4203-adb3-909d40c06524"
      },
      "execution_count": 1,
      "outputs": [
        {
          "output_type": "stream",
          "name": "stdout",
          "text": [
            "¡Hola alumn@, uoh!\n"
          ]
        }
      ]
    },
    {
      "cell_type": "code",
      "source": [
        "#ejemplo usando parámetros\n",
        "def f(cant, item, precio):\n",
        "   print(f'{cant} {item} cuestan ${precio}')\n",
        "\n",
        "f(5,'manzanas',2000)"
      ],
      "metadata": {
        "colab": {
          "base_uri": "https://localhost:8080/"
        },
        "id": "NA_MN2YzA0Q2",
        "outputId": "40eceea3-39b5-4bf5-a52b-aac4bc187f43"
      },
      "execution_count": 8,
      "outputs": [
        {
          "output_type": "stream",
          "name": "stdout",
          "text": [
            "5 manzanas cuestan $2000\n"
          ]
        }
      ]
    },
    {
      "cell_type": "code",
      "source": [
        "#ejemplo usando parámetros y haciendo operaciones\n",
        "def f(cant, item, precio):#argumento1: variable numerica, argumento2: variable tipo string, argumento3=numerica\n",
        "   i=cant*precio\n",
        "   print(f'{cant} {item} cuestan ${i}')\n",
        "\n",
        "f(5,'manzanas',2000)"
      ],
      "metadata": {
        "colab": {
          "base_uri": "https://localhost:8080/"
        },
        "id": "MFtsONxICJYo",
        "outputId": "7803e7ef-83cf-40b0-87a7-3ffc3e2a4040"
      },
      "execution_count": 4,
      "outputs": [
        {
          "output_type": "stream",
          "name": "stdout",
          "text": [
            "5 manzanas cuestan $10000\n"
          ]
        }
      ]
    },
    {
      "cell_type": "code",
      "source": [
        "#funciones con listas\n",
        "def saludar_alumnos(nombres):\n",
        "   for nombre in nombres:\n",
        "      mensaje = \"¡Hola, \" + nombre.title() + \"!\"\n",
        "      print(mensaje)\n",
        "\n",
        "alumnos = ['juan', 'francisca', 'carol']\n",
        "saludar_alumnos(alumnos)"
      ],
      "metadata": {
        "colab": {
          "base_uri": "https://localhost:8080/"
        },
        "id": "ZkrIhqf7DtJg",
        "outputId": "1685e816-1bc9-4c31-a3f3-7f138eaa25ae"
      },
      "execution_count": 7,
      "outputs": [
        {
          "output_type": "stream",
          "name": "stdout",
          "text": [
            "¡Hola, Juan!\n",
            "¡Hola, Francisca!\n",
            "¡Hola, Carol!\n"
          ]
        }
      ]
    },
    {
      "cell_type": "code",
      "source": [
        "#otro ejemplo con listas\n",
        "def my_function(frutas):\n",
        "  for x in frutas:\n",
        "    print(x)\n",
        "\n",
        "frutas = [\"manzanas\", \"bananas\", \"peras\"]\n",
        "\n",
        "my_function(frutas)"
      ],
      "metadata": {
        "colab": {
          "base_uri": "https://localhost:8080/"
        },
        "id": "bBNxmKLmLhBx",
        "outputId": "8e98f695-e2b5-4e27-e9f2-dcc450acfd20"
      },
      "execution_count": 17,
      "outputs": [
        {
          "output_type": "stream",
          "name": "stdout",
          "text": [
            "manzanas\n",
            "bananas\n",
            "peras\n"
          ]
        }
      ]
    },
    {
      "cell_type": "code",
      "source": [
        "#funciones con argumentos opcionales\n",
        " \n",
        "def formatear_nombre(nombre, apellido, segundo_nombre=''):\n",
        "   if segundo_nombre:\n",
        "      nombre_completo = nombre + ' ' + segundo_nombre + ' ' + apellido\n",
        "   else:\n",
        "      nombre_completo = nombre + ' ' + apellido\n",
        "   return nombre_completo.title()\n",
        "#termina la función\n",
        "\n",
        "profesora = formatear_nombre('carol', 'moraga')\n",
        "print(profesora)\n",
        "profesora = formatear_nombre('carol', 'fernanda', 'moraga')\n",
        "print(profesora)"
      ],
      "metadata": {
        "colab": {
          "base_uri": "https://localhost:8080/"
        },
        "id": "zLmpm5JrEmvk",
        "outputId": "d62e51fa-455a-4605-feb2-7ff778e90d77"
      },
      "execution_count": 8,
      "outputs": [
        {
          "output_type": "stream",
          "name": "stdout",
          "text": [
            "Carol Moraga\n",
            "Carol Moraga Fernanda\n"
          ]
        }
      ]
    },
    {
      "cell_type": "code",
      "source": [
        "#funciones retornan multiples valores, incluso un diccionario\n",
        "def crear_persona(nombre, apellido, edad=''):\n",
        "    persona = {'nombre': nombre, 'apellido': apellido}\n",
        "    if edad:\n",
        "       persona['edad'] = edad\n",
        "    return persona\n",
        "\n",
        "persona = crear_persona('juan', 'perez')\n",
        "print(persona)\n",
        "persona = crear_persona('juan', 'perez', edad=35)\n",
        "print(persona)"
      ],
      "metadata": {
        "colab": {
          "base_uri": "https://localhost:8080/"
        },
        "id": "Q96hOf08IjDW",
        "outputId": "cdc1ff80-d025-45cd-c719-828c971d0848"
      },
      "execution_count": 15,
      "outputs": [
        {
          "output_type": "stream",
          "name": "stdout",
          "text": [
            "{'nombre': 'juan', 'apellido': 'perez'}\n",
            "{'nombre': 'juan', 'apellido': 'perez', 'edad': 35}\n"
          ]
        }
      ]
    },
    {
      "cell_type": "markdown",
      "source": [
        "#Recursividad en Python"
      ],
      "metadata": {
        "id": "tCcb5ltBPLO2"
      }
    },
    {
      "cell_type": "code",
      "source": [
        "#definición de función de factorial\n",
        "\n",
        "def factorial(n):\n",
        "   if n == 0 or n == 1:\n",
        "      resultado = 1\n",
        "   elif n > 1:\n",
        "      resultado = n * factorial(n-1)\n",
        "   return resultado\n",
        "\n",
        "\n",
        "print(factorial(5))"
      ],
      "metadata": {
        "colab": {
          "base_uri": "https://localhost:8080/"
        },
        "id": "t5Jai_LfPN0u",
        "outputId": "06ea65c5-6968-47c4-bcfd-a1818c00a96e"
      },
      "execution_count": 18,
      "outputs": [
        {
          "output_type": "stream",
          "name": "stdout",
          "text": [
            "120\n"
          ]
        }
      ]
    },
    {
      "cell_type": "code",
      "source": [
        "#opcion sin usar recursividad\n",
        "def factorial(n):\n",
        "    f = 1\n",
        "    for i in range(1, n+1):\n",
        "       f *= i\n",
        "    return f\n",
        "\n",
        "print(factorial(5))"
      ],
      "metadata": {
        "colab": {
          "base_uri": "https://localhost:8080/"
        },
        "id": "IXpObbbuQzAr",
        "outputId": "6030ca6f-2ac8-4cc6-b25f-f54edddb25b7"
      },
      "execution_count": 19,
      "outputs": [
        {
          "output_type": "stream",
          "name": "stdout",
          "text": [
            "120\n"
          ]
        }
      ]
    },
    {
      "cell_type": "code",
      "source": [
        "#recursividad infinita\n",
        "def factorial(n):\n",
        "    if n == 1:\n",
        "       return 1\n",
        "    else:\n",
        "       return n * factorial(n-1)\n",
        "\n",
        "print(factorial(5))"
      ],
      "metadata": {
        "colab": {
          "base_uri": "https://localhost:8080/"
        },
        "id": "YyUW5fjHROL6",
        "outputId": "ccf62850-823c-410f-e30f-5765486c1a0b"
      },
      "execution_count": 23,
      "outputs": [
        {
          "output_type": "stream",
          "name": "stdout",
          "text": [
            "120\n"
          ]
        }
      ]
    },
    {
      "cell_type": "code",
      "source": [
        "#ejemplo de recursividad usando serie fibonacci\n",
        "def fibonacci(n):\n",
        "   if n==1 or n==2:\n",
        "      resultado = 1\n",
        "   elif n > 2:\n",
        "      resultado = fibonacci(n-1) + fibonacci(n-2)\n",
        "   return resultado\n",
        "\n",
        "print(fibonacci(8))"
      ],
      "metadata": {
        "colab": {
          "base_uri": "https://localhost:8080/"
        },
        "id": "ioC8KI7BSjni",
        "outputId": "a06d11c3-be60-4f95-b5f9-51fc06adbd3f"
      },
      "execution_count": 27,
      "outputs": [
        {
          "output_type": "stream",
          "name": "stdout",
          "text": [
            "21\n"
          ]
        }
      ]
    }
  ]
}