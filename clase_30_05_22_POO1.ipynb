{
  "nbformat": 4,
  "nbformat_minor": 0,
  "metadata": {
    "colab": {
      "name": "clase-30-05-22_POO1.ipynb",
      "provenance": [],
      "collapsed_sections": [],
      "authorship_tag": "ABX9TyNAGuiI7c4Rsmgw3OoYS2oc",
      "include_colab_link": true
    },
    "kernelspec": {
      "name": "python3",
      "display_name": "Python 3"
    },
    "language_info": {
      "name": "python"
    }
  },
  "cells": [
    {
      "cell_type": "markdown",
      "metadata": {
        "id": "view-in-github",
        "colab_type": "text"
      },
      "source": [
        "<a href=\"https://colab.research.google.com/github/camoragaq/python-uoh/blob/main/clase_30_05_22_POO1.ipynb\" target=\"_parent\"><img src=\"https://colab.research.google.com/assets/colab-badge.svg\" alt=\"Open In Colab\"/></a>"
      ]
    },
    {
      "cell_type": "markdown",
      "source": [
        "#Programación Orientada a Objetos"
      ],
      "metadata": {
        "id": "5_1TQYaCaNaj"
      }
    },
    {
      "cell_type": "markdown",
      "source": [
        "# Definir nuestra primera clase"
      ],
      "metadata": {
        "id": "f04jpfyGaTXb"
      }
    },
    {
      "cell_type": "code",
      "execution_count": 2,
      "metadata": {
        "colab": {
          "base_uri": "https://localhost:8080/"
        },
        "id": "rKlAhJBwZG_m",
        "outputId": "bc387a4d-7ca0-4dd2-d9b6-bbb77e61182d"
      },
      "outputs": [
        {
          "output_type": "stream",
          "name": "stdout",
          "text": [
            "Mi perro se llama Rex.\n",
            "Mi perro tiene 3 años.\n"
          ]
        }
      ],
      "source": [
        "#definimos la clase usando mayusculas y parentesis vacío\n",
        "\n",
        "class Perro():      \n",
        "  # método __init__() sirve para inicializar un objeto y darle los atributos\n",
        "    def __init__(self, nombre, edad):\n",
        "#         Inicializar los atributos nombre y edad.\n",
        "         self.nombre = nombre\n",
        "         self.edad = edad\n",
        "    \n",
        "    def sentarse(self):\n",
        "#         Simula a un perro sentándose en respuesta a una orden.\n",
        "         print(self.nombre.title() + \" ahora está sentado.\")\n",
        "        \n",
        "    def rodar(self):\n",
        "#         Simula a un perro rodando en respuesta a una orden.\n",
        "         print(self.nombre.title() + \" está girando!\")\n",
        "\n",
        "\n",
        "#creamos una instancia a partir de la clase\n",
        "mi_perro = Perro('rex', 3)\n"
      ]
    },
    {
      "cell_type": "markdown",
      "source": [
        "Cómo accedemos a los atributos del objeto Perro."
      ],
      "metadata": {
        "id": "991WfBxkhtuf"
      }
    },
    {
      "cell_type": "code",
      "source": [
        "print(\"Mi perro se llama \" + mi_perro.nombre.title() + \".\" )\n",
        "print(\"Mi perro tiene \" + str(mi_perro.edad) + \" años.\")"
      ],
      "metadata": {
        "colab": {
          "base_uri": "https://localhost:8080/"
        },
        "id": "2_RaQJDLhqkg",
        "outputId": "fa9eae3a-c975-4b8d-82e1-4ff88c16d60a"
      },
      "execution_count": 4,
      "outputs": [
        {
          "output_type": "stream",
          "name": "stdout",
          "text": [
            "Mi perro se llama Rex.\n",
            "Mi perro tiene 3 años.\n"
          ]
        }
      ]
    },
    {
      "cell_type": "markdown",
      "source": [
        "cómo accedemos a los métodos."
      ],
      "metadata": {
        "id": "-ppSOhqKhj3T"
      }
    },
    {
      "cell_type": "code",
      "source": [
        "mi_perro.sentarse()\n",
        "mi_perro.rodar()\n"
      ],
      "metadata": {
        "colab": {
          "base_uri": "https://localhost:8080/"
        },
        "id": "UBOV99o9cCOB",
        "outputId": "d866d7f2-a983-4724-a320-704511d3fc28"
      },
      "execution_count": 3,
      "outputs": [
        {
          "output_type": "stream",
          "name": "stdout",
          "text": [
            "Rex ahora está sentado.\n",
            "Rex está girando!\n"
          ]
        }
      ]
    },
    {
      "cell_type": "markdown",
      "source": [
        "Creando múltiples instancias"
      ],
      "metadata": {
        "id": "FJvaPWK_kinP"
      }
    },
    {
      "cell_type": "code",
      "source": [
        "tu_perro = Perro('rex', 3)\n",
        "mi_perro = Perro('nonita', 2)\n",
        " \n",
        "print(\"El nombre de mi perro es \" + mi_perro.nombre.title() + \".\")\n",
        "print(\"Mi perro tiene \" + str(mi_perro.edad) + \" años.\")\n",
        "mi_perro.sentarse()\n",
        " \n",
        "print(\"Tu perro se llama \" + tu_perro.nombre.title() + \".\")\n",
        "print(\"Tu perro tiene \" + str(tu_perro.edad) + \" años.\")\n",
        "tu_perro.sentarse()"
      ],
      "metadata": {
        "colab": {
          "base_uri": "https://localhost:8080/"
        },
        "id": "t3k64OROklhC",
        "outputId": "9e5f66ba-9b77-4f29-ed2d-60754c4ac8c2"
      },
      "execution_count": 5,
      "outputs": [
        {
          "output_type": "stream",
          "name": "stdout",
          "text": [
            "El nombre de mi perro es Nonita.\n",
            "Mi perro tiene 2 años.\n",
            "Nonita ahora está sentado.\n",
            "Tu perro se llama Rex.\n",
            "Tu perro tiene 3 años.\n",
            "Rex ahora está sentado.\n"
          ]
        }
      ]
    },
    {
      "cell_type": "markdown",
      "source": [
        "Otro ejemplo, definimos la clase Auto()"
      ],
      "metadata": {
        "id": "Gu8B5BiBk2lh"
      }
    },
    {
      "cell_type": "code",
      "source": [
        "class Auto():\n",
        "     def __init__(self, marca, modelo, año):\n",
        "        self.marca = marca\n",
        "        self.modelo = modelo\n",
        "        self.año = año\n",
        "     \n",
        "     def obtener_descripcion(self):\n",
        "        nombre_largo = self.marca + ' ' + self.modelo + ' ' + str(self.año)\n",
        "        return nombre_largo.title()\n",
        " \n",
        "mi_auto = Auto('mini', 'cooper', 2006)\n",
        "print(mi_auto.obtener_descripcion())"
      ],
      "metadata": {
        "colab": {
          "base_uri": "https://localhost:8080/"
        },
        "id": "4oMUKWYWk4M3",
        "outputId": "197aefb3-b2ac-42de-c33c-2e7545c2a045"
      },
      "execution_count": 6,
      "outputs": [
        {
          "output_type": "stream",
          "name": "stdout",
          "text": [
            "Mini Cooper 2006\n"
          ]
        }
      ]
    },
    {
      "cell_type": "markdown",
      "source": [
        "Definimos un atributo con un valor por defecto"
      ],
      "metadata": {
        "id": "AziYYlGElYk-"
      }
    },
    {
      "cell_type": "code",
      "source": [
        "class Auto():\n",
        "\n",
        "     def __init__(self, marca, modelo, año):\n",
        "        self.marca = marca\n",
        "        self.modelo = modelo\n",
        "        self.año = año\n",
        "        self.kilometraje = 0\n",
        "     \n",
        "     def obtener_descripcion(self):\n",
        "        nombre_largo = self.marca + ' ' + self.modelo + ' ' + str(self.año)\n",
        "        return nombre_largo.title()\n",
        "  \n",
        "     def leer_kilometraje(self):\n",
        "        print(\"Este auto ha recorrido \" + str(self.kilometraje) + \" km.\")\n",
        " \n",
        "mi_auto = Auto('mini', 'cooper', 2006)\n",
        "mi_auto.leer_kilometraje()"
      ],
      "metadata": {
        "colab": {
          "base_uri": "https://localhost:8080/"
        },
        "id": "4EcZhaZPldp_",
        "outputId": "38317b9e-39b2-4754-ee91-18450e30a03f"
      },
      "execution_count": 7,
      "outputs": [
        {
          "output_type": "stream",
          "name": "stdout",
          "text": [
            "Este auto ha recorrido 0 km.\n"
          ]
        }
      ]
    },
    {
      "cell_type": "markdown",
      "source": [
        "Cómo modificamos un valor de un atributo?"
      ],
      "metadata": {
        "id": "p-jW-tqtluTj"
      }
    },
    {
      "cell_type": "markdown",
      "source": [
        "1. Directamente:"
      ],
      "metadata": {
        "id": "lAp4vrZGmEEk"
      }
    },
    {
      "cell_type": "code",
      "source": [
        "mi_auto = Auto('mini', 'cooper', 2006)\n",
        "mi_auto.leer_kilometraje()\n",
        "mi_auto.kilometraje = 90000\n",
        "mi_auto.leer_kilometraje()"
      ],
      "metadata": {
        "colab": {
          "base_uri": "https://localhost:8080/"
        },
        "id": "ps2FsxiMlyBs",
        "outputId": "6f972733-2350-4053-e62d-a4dd3fa35889"
      },
      "execution_count": 8,
      "outputs": [
        {
          "output_type": "stream",
          "name": "stdout",
          "text": [
            "Este auto ha recorrido 0 km.\n",
            "Este auto ha recorrido 90000 km.\n"
          ]
        }
      ]
    },
    {
      "cell_type": "markdown",
      "source": [
        "2. Usando un método:"
      ],
      "metadata": {
        "id": "RvA8ARmpmIPP"
      }
    },
    {
      "cell_type": "code",
      "source": [
        "class Auto():\n",
        "\n",
        "     def __init__(self, marca, modelo, año):\n",
        "        self.marca = marca\n",
        "        self.modelo = modelo\n",
        "        self.año = año\n",
        "        self.kilometraje = 0\n",
        "     \n",
        "     def obtener_descripcion(self):\n",
        "        nombre_largo = self.marca + ' ' + self.modelo + ' ' + str(self.año)\n",
        "        return nombre_largo.title()\n",
        "  \n",
        "     def leer_kilometraje(self):\n",
        "        print(\"Este auto ha recorrido \" + str(self.kilometraje) + \" km.\")\n",
        " \n",
        "     def actualizar_kilometraje(self, nuevo_kilometraje):\n",
        "        if nuevo_kilometraje >= self.kilometraje:\n",
        "           self.kilometraje = nuevo_kilometraje\n",
        "        else:\n",
        "           print(\"¡No puedes retroceder el kilometraje!\")\n",
        "\n",
        "\n",
        "mi_auto = Auto('mini', 'cooper', 2006)\n",
        "mi_auto.leer_kilometraje()\n",
        "mi_auto.actualizar_kilometraje(90000)\n",
        "mi_auto.leer_kilometraje()\n"
      ],
      "metadata": {
        "colab": {
          "base_uri": "https://localhost:8080/"
        },
        "id": "KH60xMlbmMJi",
        "outputId": "a29c3a56-3161-4d3f-cfb1-f53a8b2ebfb4"
      },
      "execution_count": 9,
      "outputs": [
        {
          "output_type": "stream",
          "name": "stdout",
          "text": [
            "Este auto ha recorrido 0 km.\n",
            "Este auto ha recorrido 90000 km.\n"
          ]
        }
      ]
    },
    {
      "cell_type": "markdown",
      "source": [
        "Ejercicio propuesto:\n",
        "\n",
        "Crea una clase llamada Alumno que tenga dos atributos llamados \n",
        "nombre y apellido, y luego crea varios otros atributos que son típicamente almacenados en un perfil de alumno. Luego, crea un método llamado describir_alumno() que imprima un resumen de la información del alumno. Escribe otro método llamado saludar_alumno() que imprima un saludo personalizado al alumno. Crea varias instancias que representen a diferentes alumnos, y llama a ambos métodos para cada alumno."
      ],
      "metadata": {
        "id": "6nA8N7X7m-8X"
      }
    }
  ]
}