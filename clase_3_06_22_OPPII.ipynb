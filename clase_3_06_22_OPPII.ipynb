{
  "nbformat": 4,
  "nbformat_minor": 0,
  "metadata": {
    "colab": {
      "name": "clase-3-06-22_OPPII.ipynb",
      "provenance": [],
      "collapsed_sections": [],
      "authorship_tag": "ABX9TyNM6J4P4+k/SGSw2aTqIOdK"
    },
    "kernelspec": {
      "name": "python3",
      "display_name": "Python 3"
    },
    "language_info": {
      "name": "python"
    }
  },
  "cells": [
    {
      "cell_type": "markdown",
      "source": [
        "#Programación Orientada a Objetos II"
      ],
      "metadata": {
        "id": "SVfDHLflCdt1"
      }
    },
    {
      "cell_type": "markdown",
      "source": [
        "Herencia de clases"
      ],
      "metadata": {
        "id": "N7KYCfhdCiaE"
      }
    },
    {
      "cell_type": "markdown",
      "source": [
        "funcion super() permite acceder a métodos de la clase Padre"
      ],
      "metadata": {
        "id": "2Y1TSiGRIXjO"
      }
    },
    {
      "cell_type": "code",
      "execution_count": 2,
      "metadata": {
        "colab": {
          "base_uri": "https://localhost:8080/"
        },
        "id": "CKDsIA9KCC1l",
        "outputId": "a054d2cf-3d0c-47ac-8538-488491b71220"
      },
      "outputs": [
        {
          "output_type": "stream",
          "name": "stdout",
          "text": [
            "Pajaro está listo!\n",
            "Pinguino está listo!\n",
            "Pinguino\n",
            "Volando!\n",
            "Corriendo!\n"
          ]
        }
      ],
      "source": [
        "# clase padre\n",
        "class Pajaro:\n",
        "    \n",
        "    def __init__(self):\n",
        "        print(\"Pajaro está listo!\")\n",
        "\n",
        "    def quees(self):\n",
        "        print(\"Pajaro\")\n",
        "\n",
        "    def volar(self):\n",
        "        print(\"Volando!\")\n",
        "\n",
        "# clase hijo\n",
        "class Pinguino(Pajaro):\n",
        "\n",
        "    def __init__(self):\n",
        "        super().__init__()\n",
        "        print(\"Pinguino está listo!\")\n",
        "\n",
        "    def quees(self):\n",
        "        print(\"Pinguino\")\n",
        "\n",
        "    def corre(self):\n",
        "        print(\"Corriendo!\")\n",
        "\n",
        "pigui = Pinguino()\n",
        "pigui.quees()\n",
        "pigui.volar()\n",
        "pigui.corre()"
      ]
    },
    {
      "cell_type": "markdown",
      "source": [
        "Encapsulamiento para proteger ciertos atributos y métodos"
      ],
      "metadata": {
        "id": "xe7A7wKaErQl"
      }
    },
    {
      "cell_type": "code",
      "source": [
        "class Computador:\n",
        "\n",
        "    def __init__(self):\n",
        "        self.__maxprecio = 900\n",
        "\n",
        "    def venta(self):\n",
        "        print(\"Precio venta: {}\".format(self.__maxprecio))\n",
        "\n",
        "    def setMaxPrecio(self, precio):\n",
        "        self.__maxprecio = precio\n",
        "\n",
        "c = Computador()\n",
        "c.venta()\n",
        "\n",
        "# intentamos cambiar el precio directamente\n",
        "c.__maxprecio = 1000\n",
        "c.venta()\n",
        "\n",
        "# usando el método para cambiarlo\n",
        "c.setMaxPrecio(1000)\n",
        "c.venta()"
      ],
      "metadata": {
        "colab": {
          "base_uri": "https://localhost:8080/"
        },
        "id": "IAY99k_WEvhg",
        "outputId": "507e7fd2-0eb9-40db-8a87-9245b938b436"
      },
      "execution_count": 3,
      "outputs": [
        {
          "output_type": "stream",
          "name": "stdout",
          "text": [
            "Precio venta: 900\n",
            "Precio venta: 900\n",
            "Precio venta: 1000\n"
          ]
        }
      ]
    },
    {
      "cell_type": "markdown",
      "source": [
        "Polimorfismo en OOP"
      ],
      "metadata": {
        "id": "v9R2jj_OF9sl"
      }
    },
    {
      "cell_type": "code",
      "source": [
        "class Perico:\n",
        "\n",
        "    def volar(self):\n",
        "        print(\"Perico puede volar\")\n",
        "    \n",
        "    def nadar(self):\n",
        "        print(\"Perico no puede nadar\")\n",
        "\n",
        "class Pinguino:\n",
        "\n",
        "    def volar(self):\n",
        "        print(\"Pinguino no puede volar\")\n",
        "    \n",
        "    def nadar(self):\n",
        "        print(\"Pinguino puede nadar\")\n",
        "\n",
        "# interfaz comun (Polimorfismo)\n",
        "def test_de_vuelo(pajaro):\n",
        "    pajaro.volar()\n",
        "\n",
        "juanito = Perico()\n",
        "pigui = Pinguino()\n",
        "\n",
        "test_de_vuelo(juanito)\n",
        "test_de_vuelo(pigui)"
      ],
      "metadata": {
        "colab": {
          "base_uri": "https://localhost:8080/"
        },
        "id": "-h9Q1vAdGAnq",
        "outputId": "1eb906ad-3333-418a-af23-6b0897551c7b"
      },
      "execution_count": 4,
      "outputs": [
        {
          "output_type": "stream",
          "name": "stdout",
          "text": [
            "Perico puede volar\n",
            "Pinguino no puede volar\n"
          ]
        }
      ]
    },
    {
      "cell_type": "markdown",
      "source": [
        "Ejercicio propuesto:\n",
        "\n",
        "Crea una clase llamada Alumno que tenga dos atributos llamados nombre y apellido, y luego crea varios otros atributos que son típicamente almacenados en un perfil de alumno. Luego, crea un método llamado describir_alumno() que imprima un resumen de la información del alumno. Escribe otro método llamado saludar_alumno() que imprima un saludo personalizado al alumno. Crea varias instancias que representen a diferentes alumnos, y llama a ambos métodos para cada alumno."
      ],
      "metadata": {
        "id": "4h4l4u-1Is3s"
      }
    },
    {
      "cell_type": "code",
      "source": [
        "\n",
        "class Alumno():\n",
        "  def __init__(self, nombre, apellido, rut,edad):\n",
        "     self.nombre=nombre\n",
        "     self.apellido=apellido\n",
        "     self.rut=rut\n",
        "     self.edad=edad\n",
        "\n",
        "  def describir_alumno(self):\n",
        "     nombre_largo = self.nombre + ' ' + self.apellido + ' ' + str(self.rut) + ' ' + str(self.edad)\n",
        "     return nombre_largo.title()\n",
        "  \n",
        "\n",
        "\n",
        "\n",
        "\n",
        "juanito=Alumno('juanito','perez',216354772,20)\n",
        "print(juanito.describir_alumno())\n",
        "\n",
        "juanito.nombre='carlos'\n",
        "print(juanito.describir_alumno())\n",
        "\n"
      ],
      "metadata": {
        "colab": {
          "base_uri": "https://localhost:8080/"
        },
        "id": "y1ZSbKiaIt3m",
        "outputId": "7cd50187-1db7-46e9-b127-4408fe4bb93c"
      },
      "execution_count": 10,
      "outputs": [
        {
          "output_type": "stream",
          "name": "stdout",
          "text": [
            "Juanito Perez 216354772 20\n",
            "Carlos Perez 216354772 20\n",
            "Carlos Perez 216354772 20\n",
            "Carol Moraga 216354772 20\n",
            "Fernanda Perez 216354772 20\n"
          ]
        }
      ]
    },
    {
      "cell_type": "markdown",
      "source": [
        "Ejercicios con listas y clases"
      ],
      "metadata": {
        "id": "Bab8w_fLK58s"
      }
    },
    {
      "cell_type": "code",
      "source": [
        "\n",
        "carol=Alumno('carol','moraga',216354772,20)\n",
        "fernanda=Alumno('fernanda','perez',216354772,20)\n",
        "\n",
        "\n",
        "lista =[juanito, carol, fernanda]\n",
        "\n",
        "\n",
        "for alumno in lista:\n",
        "  print(alumno.describir_alumno())"
      ],
      "metadata": {
        "id": "D6KwsE_fK5Rr"
      },
      "execution_count": null,
      "outputs": []
    }
  ]
}