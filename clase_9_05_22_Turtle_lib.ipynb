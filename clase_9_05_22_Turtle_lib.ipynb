{
  "nbformat": 4,
  "nbformat_minor": 0,
  "metadata": {
    "colab": {
      "name": "clase-9-05-22-Turtle-lib.ipynb",
      "provenance": [],
      "collapsed_sections": [],
      "authorship_tag": "ABX9TyO9C38B+bft3zqFXoJ6NG9o",
      "include_colab_link": true
    },
    "kernelspec": {
      "name": "python3",
      "display_name": "Python 3"
    },
    "language_info": {
      "name": "python"
    }
  },
  "cells": [
    {
      "cell_type": "markdown",
      "metadata": {
        "id": "view-in-github",
        "colab_type": "text"
      },
      "source": [
        "<a href=\"https://colab.research.google.com/github/camoragaq/python-uoh/blob/main/clase_9_05_22_Turtle_lib.ipynb\" target=\"_parent\"><img src=\"https://colab.research.google.com/assets/colab-badge.svg\" alt=\"Open In Colab\"/></a>"
      ]
    },
    {
      "cell_type": "markdown",
      "source": [
        "#Librería Turtle\n"
      ],
      "metadata": {
        "id": "aYOJuMeGBdqQ"
      }
    },
    {
      "cell_type": "markdown",
      "source": [
        "Para importar la librería Turtle usando un compilador"
      ],
      "metadata": {
        "id": "QTc3omJjVaEx"
      }
    },
    {
      "cell_type": "code",
      "source": [
        "import turtle"
      ],
      "metadata": {
        "id": "Rd5NxA8QGupu"
      },
      "execution_count": null,
      "outputs": []
    },
    {
      "cell_type": "markdown",
      "source": [
        "Para importar librería Turtle y trabajar en Google Colab, correr CADA VEZ que se trabajen estos ejercicios"
      ],
      "metadata": {
        "id": "-YgKRz2sVgUI"
      }
    },
    {
      "cell_type": "code",
      "source": [
        "!pip3 install ColabTurtle\n",
        "from ColabTurtle.Turtle import *"
      ],
      "metadata": {
        "colab": {
          "base_uri": "https://localhost:8080/"
        },
        "id": "id8ZvwimRezf",
        "outputId": "53c107fd-064e-4d9f-df5b-47764a5098a9"
      },
      "execution_count": 2,
      "outputs": [
        {
          "output_type": "stream",
          "name": "stdout",
          "text": [
            "Collecting ColabTurtle\n",
            "  Downloading ColabTurtle-2.1.0.tar.gz (6.8 kB)\n",
            "Building wheels for collected packages: ColabTurtle\n",
            "  Building wheel for ColabTurtle (setup.py) ... \u001b[?25l\u001b[?25hdone\n",
            "  Created wheel for ColabTurtle: filename=ColabTurtle-2.1.0-py3-none-any.whl size=7657 sha256=ea871e7b124d93690a243a61fc69167f2971a09f2ae06987fea54eb81e1de135\n",
            "  Stored in directory: /root/.cache/pip/wheels/0d/ab/65/cc4478508751448dfb4ecb20a6533082855c227dfce8c13902\n",
            "Successfully built ColabTurtle\n",
            "Installing collected packages: ColabTurtle\n",
            "Successfully installed ColabTurtle-2.1.0\n"
          ]
        }
      ]
    },
    {
      "cell_type": "markdown",
      "source": [
        "Para iniciar nuestra tortuga"
      ],
      "metadata": {
        "id": "ePm4q3ZJVr0M"
      }
    },
    {
      "cell_type": "code",
      "source": [
        "initializeTurtle()\n"
      ],
      "metadata": {
        "colab": {
          "base_uri": "https://localhost:8080/",
          "height": 521
        },
        "id": "bYzLLbFHRnHJ",
        "outputId": "8a2369cb-4bd8-4f0c-9ef9-b74d9fee8679"
      },
      "execution_count": 8,
      "outputs": [
        {
          "output_type": "display_data",
          "data": {
            "text/plain": [
              "<IPython.core.display.HTML object>"
            ],
            "text/html": [
              "\n",
              "      <svg width=\"800\" height=\"500\">\n",
              "        <rect width=\"100%\" height=\"100%\" fill=\"black\"/>\n",
              "        \n",
              "        <g visibility=visible transform=\"rotate(360,400,250) translate(382, 232)\">\n",
              "<path style=\" stroke:none;fill-rule:evenodd;fill:white;fill-opacity:1;\" d=\"M 18.214844 0.632812 C 16.109375 1.800781 15.011719 4.074219 15.074219 7.132812 L 15.085938 7.652344 L 14.785156 7.496094 C 13.476562 6.824219 11.957031 6.671875 10.40625 7.066406 C 8.46875 7.550781 6.515625 9.15625 4.394531 11.992188 C 3.0625 13.777344 2.679688 14.636719 3.042969 15.027344 L 3.15625 15.152344 L 3.519531 15.152344 C 4.238281 15.152344 4.828125 14.886719 8.1875 13.039062 C 9.386719 12.378906 10.371094 11.839844 10.378906 11.839844 C 10.386719 11.839844 10.355469 11.929688 10.304688 12.035156 C 9.832031 13.09375 9.257812 14.820312 8.96875 16.078125 C 7.914062 20.652344 8.617188 24.53125 11.070312 27.660156 C 11.351562 28.015625 11.363281 27.914062 10.972656 28.382812 C 8.925781 30.84375 7.945312 33.28125 8.238281 35.1875 C 8.289062 35.527344 8.28125 35.523438 8.917969 35.523438 C 10.941406 35.523438 13.074219 34.207031 15.136719 31.6875 C 15.359375 31.417969 15.328125 31.425781 15.5625 31.574219 C 16.292969 32.042969 18.023438 32.964844 18.175781 32.964844 C 18.335938 32.964844 19.941406 32.210938 20.828125 31.71875 C 20.996094 31.625 21.136719 31.554688 21.136719 31.558594 C 21.203125 31.664062 21.898438 32.414062 22.222656 32.730469 C 23.835938 34.300781 25.5625 35.132812 27.582031 35.300781 C 27.90625 35.328125 27.9375 35.308594 28.007812 34.984375 C 28.382812 33.242188 27.625 30.925781 25.863281 28.425781 L 25.542969 27.96875 L 25.699219 27.785156 C 28.945312 23.960938 29.132812 18.699219 26.257812 11.96875 L 26.207031 11.84375 L 27.945312 12.703125 C 31.53125 14.476562 32.316406 14.800781 33.03125 14.800781 C 33.976562 14.800781 33.78125 13.9375 32.472656 12.292969 C 28.519531 7.355469 25.394531 5.925781 21.921875 7.472656 L 21.558594 7.636719 L 21.578125 7.542969 C 21.699219 6.992188 21.761719 5.742188 21.699219 5.164062 C 21.496094 3.296875 20.664062 1.964844 19.003906 0.855469 C 18.480469 0.503906 18.457031 0.5 18.214844 0.632812\"/>\n",
              "</g>\n",
              "      </svg>\n",
              "    "
            ]
          },
          "metadata": {}
        }
      ]
    },
    {
      "cell_type": "markdown",
      "source": [
        "Primer ejemplo, dibujamos un cuadrado"
      ],
      "metadata": {
        "id": "tQIVJNUeVwe-"
      }
    },
    {
      "cell_type": "code",
      "source": [
        "initializeTurtle()\n",
        "side_length = 100\n",
        "angle = 360/4\n",
        "\n",
        "for i in range(4):\n",
        "  forward(side_length)\n",
        "  right(angle)"
      ],
      "metadata": {
        "colab": {
          "base_uri": "https://localhost:8080/",
          "height": 521
        },
        "id": "9YaC5tExR0iv",
        "outputId": "35e70f37-ae05-445f-f758-99f400fd0852"
      },
      "execution_count": 12,
      "outputs": [
        {
          "output_type": "display_data",
          "data": {
            "text/plain": [
              "<IPython.core.display.HTML object>"
            ],
            "text/html": [
              "\n",
              "      <svg width=\"800\" height=\"500\">\n",
              "        <rect width=\"100%\" height=\"100%\" fill=\"black\"/>\n",
              "        <line x1=\"400\" y1=\"250\" x2=\"400.0\" y2=\"150.0\" stroke-linecap=\"round\" style=\"stroke:white;stroke-width:4\"/><line x1=\"400.0\" y1=\"150.0\" x2=\"500.0\" y2=\"150.0\" stroke-linecap=\"round\" style=\"stroke:white;stroke-width:4\"/><line x1=\"500.0\" y1=\"150.0\" x2=\"500.0\" y2=\"250.0\" stroke-linecap=\"round\" style=\"stroke:white;stroke-width:4\"/><line x1=\"500.0\" y1=\"250.0\" x2=\"400.0\" y2=\"250.0\" stroke-linecap=\"round\" style=\"stroke:white;stroke-width:4\"/>\n",
              "        <g visibility=visible transform=\"rotate(360.0,400.0,250.0) translate(382.0, 232.0)\">\n",
              "<path style=\" stroke:none;fill-rule:evenodd;fill:white;fill-opacity:1;\" d=\"M 18.214844 0.632812 C 16.109375 1.800781 15.011719 4.074219 15.074219 7.132812 L 15.085938 7.652344 L 14.785156 7.496094 C 13.476562 6.824219 11.957031 6.671875 10.40625 7.066406 C 8.46875 7.550781 6.515625 9.15625 4.394531 11.992188 C 3.0625 13.777344 2.679688 14.636719 3.042969 15.027344 L 3.15625 15.152344 L 3.519531 15.152344 C 4.238281 15.152344 4.828125 14.886719 8.1875 13.039062 C 9.386719 12.378906 10.371094 11.839844 10.378906 11.839844 C 10.386719 11.839844 10.355469 11.929688 10.304688 12.035156 C 9.832031 13.09375 9.257812 14.820312 8.96875 16.078125 C 7.914062 20.652344 8.617188 24.53125 11.070312 27.660156 C 11.351562 28.015625 11.363281 27.914062 10.972656 28.382812 C 8.925781 30.84375 7.945312 33.28125 8.238281 35.1875 C 8.289062 35.527344 8.28125 35.523438 8.917969 35.523438 C 10.941406 35.523438 13.074219 34.207031 15.136719 31.6875 C 15.359375 31.417969 15.328125 31.425781 15.5625 31.574219 C 16.292969 32.042969 18.023438 32.964844 18.175781 32.964844 C 18.335938 32.964844 19.941406 32.210938 20.828125 31.71875 C 20.996094 31.625 21.136719 31.554688 21.136719 31.558594 C 21.203125 31.664062 21.898438 32.414062 22.222656 32.730469 C 23.835938 34.300781 25.5625 35.132812 27.582031 35.300781 C 27.90625 35.328125 27.9375 35.308594 28.007812 34.984375 C 28.382812 33.242188 27.625 30.925781 25.863281 28.425781 L 25.542969 27.96875 L 25.699219 27.785156 C 28.945312 23.960938 29.132812 18.699219 26.257812 11.96875 L 26.207031 11.84375 L 27.945312 12.703125 C 31.53125 14.476562 32.316406 14.800781 33.03125 14.800781 C 33.976562 14.800781 33.78125 13.9375 32.472656 12.292969 C 28.519531 7.355469 25.394531 5.925781 21.921875 7.472656 L 21.558594 7.636719 L 21.578125 7.542969 C 21.699219 6.992188 21.761719 5.742188 21.699219 5.164062 C 21.496094 3.296875 20.664062 1.964844 19.003906 0.855469 C 18.480469 0.503906 18.457031 0.5 18.214844 0.632812\"/>\n",
              "</g>\n",
              "      </svg>\n",
              "    "
            ]
          },
          "metadata": {}
        }
      ]
    },
    {
      "cell_type": "code",
      "source": [
        "initializeTurtle()\n",
        "side_length = 100\n",
        "angle = 360/3\n",
        "num_sides = 0\n",
        "\n",
        "for i in range(3):\n",
        "  forward(side_length)\n",
        "  right(angle)"
      ],
      "metadata": {
        "colab": {
          "base_uri": "https://localhost:8080/",
          "height": 521
        },
        "id": "k1qUM8haSDMB",
        "outputId": "d8a81e62-3b11-422b-c118-736362889508"
      },
      "execution_count": 13,
      "outputs": [
        {
          "output_type": "display_data",
          "data": {
            "text/plain": [
              "<IPython.core.display.HTML object>"
            ],
            "text/html": [
              "\n",
              "      <svg width=\"800\" height=\"500\">\n",
              "        <rect width=\"100%\" height=\"100%\" fill=\"black\"/>\n",
              "        <line x1=\"400\" y1=\"250\" x2=\"400.0\" y2=\"150.0\" stroke-linecap=\"round\" style=\"stroke:white;stroke-width:4\"/><line x1=\"400.0\" y1=\"150.0\" x2=\"486.603\" y2=\"200.0\" stroke-linecap=\"round\" style=\"stroke:white;stroke-width:4\"/><line x1=\"486.603\" y1=\"200.0\" x2=\"400.0\" y2=\"250.0\" stroke-linecap=\"round\" style=\"stroke:white;stroke-width:4\"/>\n",
              "        <g visibility=visible transform=\"rotate(360.0,400.0,250.0) translate(382.0, 232.0)\">\n",
              "<path style=\" stroke:none;fill-rule:evenodd;fill:white;fill-opacity:1;\" d=\"M 18.214844 0.632812 C 16.109375 1.800781 15.011719 4.074219 15.074219 7.132812 L 15.085938 7.652344 L 14.785156 7.496094 C 13.476562 6.824219 11.957031 6.671875 10.40625 7.066406 C 8.46875 7.550781 6.515625 9.15625 4.394531 11.992188 C 3.0625 13.777344 2.679688 14.636719 3.042969 15.027344 L 3.15625 15.152344 L 3.519531 15.152344 C 4.238281 15.152344 4.828125 14.886719 8.1875 13.039062 C 9.386719 12.378906 10.371094 11.839844 10.378906 11.839844 C 10.386719 11.839844 10.355469 11.929688 10.304688 12.035156 C 9.832031 13.09375 9.257812 14.820312 8.96875 16.078125 C 7.914062 20.652344 8.617188 24.53125 11.070312 27.660156 C 11.351562 28.015625 11.363281 27.914062 10.972656 28.382812 C 8.925781 30.84375 7.945312 33.28125 8.238281 35.1875 C 8.289062 35.527344 8.28125 35.523438 8.917969 35.523438 C 10.941406 35.523438 13.074219 34.207031 15.136719 31.6875 C 15.359375 31.417969 15.328125 31.425781 15.5625 31.574219 C 16.292969 32.042969 18.023438 32.964844 18.175781 32.964844 C 18.335938 32.964844 19.941406 32.210938 20.828125 31.71875 C 20.996094 31.625 21.136719 31.554688 21.136719 31.558594 C 21.203125 31.664062 21.898438 32.414062 22.222656 32.730469 C 23.835938 34.300781 25.5625 35.132812 27.582031 35.300781 C 27.90625 35.328125 27.9375 35.308594 28.007812 34.984375 C 28.382812 33.242188 27.625 30.925781 25.863281 28.425781 L 25.542969 27.96875 L 25.699219 27.785156 C 28.945312 23.960938 29.132812 18.699219 26.257812 11.96875 L 26.207031 11.84375 L 27.945312 12.703125 C 31.53125 14.476562 32.316406 14.800781 33.03125 14.800781 C 33.976562 14.800781 33.78125 13.9375 32.472656 12.292969 C 28.519531 7.355469 25.394531 5.925781 21.921875 7.472656 L 21.558594 7.636719 L 21.578125 7.542969 C 21.699219 6.992188 21.761719 5.742188 21.699219 5.164062 C 21.496094 3.296875 20.664062 1.964844 19.003906 0.855469 C 18.480469 0.503906 18.457031 0.5 18.214844 0.632812\"/>\n",
              "</g>\n",
              "      </svg>\n",
              "    "
            ]
          },
          "metadata": {}
        }
      ]
    },
    {
      "cell_type": "code",
      "execution_count": 14,
      "metadata": {
        "colab": {
          "base_uri": "https://localhost:8080/",
          "height": 521
        },
        "id": "s1XcUytsRPk1",
        "outputId": "3420e085-8e3f-4c4e-fcd5-87b04608c145"
      },
      "outputs": [
        {
          "output_type": "display_data",
          "data": {
            "text/plain": [
              "<IPython.core.display.HTML object>"
            ],
            "text/html": [
              "\n",
              "      <svg width=\"800\" height=\"500\">\n",
              "        <rect width=\"100%\" height=\"100%\" fill=\"black\"/>\n",
              "        <line x1=\"400\" y1=\"250\" x2=\"400.0\" y2=\"150.0\" stroke-linecap=\"round\" style=\"stroke:blue;stroke-width:4\"/><line x1=\"400.0\" y1=\"150.0\" x2=\"435.355\" y2=\"114.645\" stroke-linecap=\"round\" style=\"stroke:red;stroke-width:4\"/>\n",
              "        <g visibility=visible transform=\"rotate(405,435.355,114.645) translate(417.355, 96.645)\">\n",
              "<path style=\" stroke:none;fill-rule:evenodd;fill:red;fill-opacity:1;\" d=\"M 18.214844 0.632812 C 16.109375 1.800781 15.011719 4.074219 15.074219 7.132812 L 15.085938 7.652344 L 14.785156 7.496094 C 13.476562 6.824219 11.957031 6.671875 10.40625 7.066406 C 8.46875 7.550781 6.515625 9.15625 4.394531 11.992188 C 3.0625 13.777344 2.679688 14.636719 3.042969 15.027344 L 3.15625 15.152344 L 3.519531 15.152344 C 4.238281 15.152344 4.828125 14.886719 8.1875 13.039062 C 9.386719 12.378906 10.371094 11.839844 10.378906 11.839844 C 10.386719 11.839844 10.355469 11.929688 10.304688 12.035156 C 9.832031 13.09375 9.257812 14.820312 8.96875 16.078125 C 7.914062 20.652344 8.617188 24.53125 11.070312 27.660156 C 11.351562 28.015625 11.363281 27.914062 10.972656 28.382812 C 8.925781 30.84375 7.945312 33.28125 8.238281 35.1875 C 8.289062 35.527344 8.28125 35.523438 8.917969 35.523438 C 10.941406 35.523438 13.074219 34.207031 15.136719 31.6875 C 15.359375 31.417969 15.328125 31.425781 15.5625 31.574219 C 16.292969 32.042969 18.023438 32.964844 18.175781 32.964844 C 18.335938 32.964844 19.941406 32.210938 20.828125 31.71875 C 20.996094 31.625 21.136719 31.554688 21.136719 31.558594 C 21.203125 31.664062 21.898438 32.414062 22.222656 32.730469 C 23.835938 34.300781 25.5625 35.132812 27.582031 35.300781 C 27.90625 35.328125 27.9375 35.308594 28.007812 34.984375 C 28.382812 33.242188 27.625 30.925781 25.863281 28.425781 L 25.542969 27.96875 L 25.699219 27.785156 C 28.945312 23.960938 29.132812 18.699219 26.257812 11.96875 L 26.207031 11.84375 L 27.945312 12.703125 C 31.53125 14.476562 32.316406 14.800781 33.03125 14.800781 C 33.976562 14.800781 33.78125 13.9375 32.472656 12.292969 C 28.519531 7.355469 25.394531 5.925781 21.921875 7.472656 L 21.558594 7.636719 L 21.578125 7.542969 C 21.699219 6.992188 21.761719 5.742188 21.699219 5.164062 C 21.496094 3.296875 20.664062 1.964844 19.003906 0.855469 C 18.480469 0.503906 18.457031 0.5 18.214844 0.632812\"/>\n",
              "</g>\n",
              "      </svg>\n",
              "    "
            ]
          },
          "metadata": {}
        }
      ],
      "source": [
        "import ColabTurtle.Turtle as lia\n",
        "lia.initializeTurtle(initial_speed=5) \n",
        "lia.color('blue')\n",
        "lia.forward(100)\n",
        "lia.right(45)\n",
        "lia.color('red')\n",
        "lia.forward(50)"
      ]
    },
    {
      "cell_type": "code",
      "source": [
        "import ColabTurtle.Turtle as star\n",
        "star.initializeTurtle(initial_speed=2) \n",
        "#star = turtle.Turtle()\n",
        " \n",
        "star.right(75)\n",
        "star.forward(100)\n",
        " \n",
        "for i in range(4):\n",
        "    star.right(144)\n",
        "    star.forward(100)\n",
        "     \n",
        "#turtle.done()"
      ],
      "metadata": {
        "colab": {
          "base_uri": "https://localhost:8080/",
          "height": 521
        },
        "id": "95fc2-xGTwCn",
        "outputId": "90e6018b-4880-4fe4-b9a5-bd08a5f20a56"
      },
      "execution_count": null,
      "outputs": [
        {
          "output_type": "display_data",
          "data": {
            "text/plain": [
              "<IPython.core.display.HTML object>"
            ],
            "text/html": [
              "\n",
              "      <svg width=\"800\" height=\"500\">\n",
              "        <rect width=\"100%\" height=\"100%\" fill=\"black\"/>\n",
              "        <line x1=\"400\" y1=\"250\" x2=\"496.593\" y2=\"224.118\" stroke-linecap=\"round\" style=\"stroke:white;stroke-width:4\"/><line x1=\"496.593\" y1=\"224.118\" x2=\"433.661\" y2=\"301.833\" stroke-linecap=\"round\" style=\"stroke:white;stroke-width:4\"/><line x1=\"433.661\" y1=\"301.833\" x2=\"438.895\" y2=\"201.97\" stroke-linecap=\"round\" style=\"stroke:white;stroke-width:4\"/><line x1=\"438.895\" y1=\"201.97\" x2=\"493.359\" y2=\"285.837\" stroke-linecap=\"round\" style=\"stroke:white;stroke-width:4\"/><line x1=\"493.359\" y1=\"285.837\" x2=\"400.001\" y2=\"250.0\" stroke-linecap=\"round\" style=\"stroke:white;stroke-width:4\"/>\n",
              "        <g visibility=visible transform=\"rotate(291,400.001,250.0) translate(382.001, 232.0)\">\n",
              "<path style=\" stroke:none;fill-rule:evenodd;fill:white;fill-opacity:1;\" d=\"M 18.214844 0.632812 C 16.109375 1.800781 15.011719 4.074219 15.074219 7.132812 L 15.085938 7.652344 L 14.785156 7.496094 C 13.476562 6.824219 11.957031 6.671875 10.40625 7.066406 C 8.46875 7.550781 6.515625 9.15625 4.394531 11.992188 C 3.0625 13.777344 2.679688 14.636719 3.042969 15.027344 L 3.15625 15.152344 L 3.519531 15.152344 C 4.238281 15.152344 4.828125 14.886719 8.1875 13.039062 C 9.386719 12.378906 10.371094 11.839844 10.378906 11.839844 C 10.386719 11.839844 10.355469 11.929688 10.304688 12.035156 C 9.832031 13.09375 9.257812 14.820312 8.96875 16.078125 C 7.914062 20.652344 8.617188 24.53125 11.070312 27.660156 C 11.351562 28.015625 11.363281 27.914062 10.972656 28.382812 C 8.925781 30.84375 7.945312 33.28125 8.238281 35.1875 C 8.289062 35.527344 8.28125 35.523438 8.917969 35.523438 C 10.941406 35.523438 13.074219 34.207031 15.136719 31.6875 C 15.359375 31.417969 15.328125 31.425781 15.5625 31.574219 C 16.292969 32.042969 18.023438 32.964844 18.175781 32.964844 C 18.335938 32.964844 19.941406 32.210938 20.828125 31.71875 C 20.996094 31.625 21.136719 31.554688 21.136719 31.558594 C 21.203125 31.664062 21.898438 32.414062 22.222656 32.730469 C 23.835938 34.300781 25.5625 35.132812 27.582031 35.300781 C 27.90625 35.328125 27.9375 35.308594 28.007812 34.984375 C 28.382812 33.242188 27.625 30.925781 25.863281 28.425781 L 25.542969 27.96875 L 25.699219 27.785156 C 28.945312 23.960938 29.132812 18.699219 26.257812 11.96875 L 26.207031 11.84375 L 27.945312 12.703125 C 31.53125 14.476562 32.316406 14.800781 33.03125 14.800781 C 33.976562 14.800781 33.78125 13.9375 32.472656 12.292969 C 28.519531 7.355469 25.394531 5.925781 21.921875 7.472656 L 21.558594 7.636719 L 21.578125 7.542969 C 21.699219 6.992188 21.761719 5.742188 21.699219 5.164062 C 21.496094 3.296875 20.664062 1.964844 19.003906 0.855469 C 18.480469 0.503906 18.457031 0.5 18.214844 0.632812\"/>\n",
              "</g>\n",
              "      </svg>\n",
              "    "
            ]
          },
          "metadata": {}
        }
      ]
    },
    {
      "cell_type": "code",
      "source": [
        "import ColabTurtle.Turtle as skk\n",
        "skk.initializeTurtle(initial_speed=2) \n",
        " \n",
        "for i in range(2):\n",
        "    skk.forward(50)\n",
        "    skk.right(90)\n",
        "     "
      ],
      "metadata": {
        "colab": {
          "base_uri": "https://localhost:8080/",
          "height": 521
        },
        "id": "ty7nZI9PUXFR",
        "outputId": "c5d20658-67f4-49a4-b711-559f49a5eff8"
      },
      "execution_count": null,
      "outputs": [
        {
          "output_type": "display_data",
          "data": {
            "text/plain": [
              "<IPython.core.display.HTML object>"
            ],
            "text/html": [
              "\n",
              "      <svg width=\"800\" height=\"500\">\n",
              "        <rect width=\"100%\" height=\"100%\" fill=\"black\"/>\n",
              "        <line x1=\"400\" y1=\"250\" x2=\"400.0\" y2=\"200.0\" stroke-linecap=\"round\" style=\"stroke:white;stroke-width:4\"/><line x1=\"400.0\" y1=\"200.0\" x2=\"450.0\" y2=\"200.0\" stroke-linecap=\"round\" style=\"stroke:white;stroke-width:4\"/>\n",
              "        <g visibility=visible transform=\"rotate(180,450.0,200.0) translate(432.0, 182.0)\">\n",
              "<path style=\" stroke:none;fill-rule:evenodd;fill:white;fill-opacity:1;\" d=\"M 18.214844 0.632812 C 16.109375 1.800781 15.011719 4.074219 15.074219 7.132812 L 15.085938 7.652344 L 14.785156 7.496094 C 13.476562 6.824219 11.957031 6.671875 10.40625 7.066406 C 8.46875 7.550781 6.515625 9.15625 4.394531 11.992188 C 3.0625 13.777344 2.679688 14.636719 3.042969 15.027344 L 3.15625 15.152344 L 3.519531 15.152344 C 4.238281 15.152344 4.828125 14.886719 8.1875 13.039062 C 9.386719 12.378906 10.371094 11.839844 10.378906 11.839844 C 10.386719 11.839844 10.355469 11.929688 10.304688 12.035156 C 9.832031 13.09375 9.257812 14.820312 8.96875 16.078125 C 7.914062 20.652344 8.617188 24.53125 11.070312 27.660156 C 11.351562 28.015625 11.363281 27.914062 10.972656 28.382812 C 8.925781 30.84375 7.945312 33.28125 8.238281 35.1875 C 8.289062 35.527344 8.28125 35.523438 8.917969 35.523438 C 10.941406 35.523438 13.074219 34.207031 15.136719 31.6875 C 15.359375 31.417969 15.328125 31.425781 15.5625 31.574219 C 16.292969 32.042969 18.023438 32.964844 18.175781 32.964844 C 18.335938 32.964844 19.941406 32.210938 20.828125 31.71875 C 20.996094 31.625 21.136719 31.554688 21.136719 31.558594 C 21.203125 31.664062 21.898438 32.414062 22.222656 32.730469 C 23.835938 34.300781 25.5625 35.132812 27.582031 35.300781 C 27.90625 35.328125 27.9375 35.308594 28.007812 34.984375 C 28.382812 33.242188 27.625 30.925781 25.863281 28.425781 L 25.542969 27.96875 L 25.699219 27.785156 C 28.945312 23.960938 29.132812 18.699219 26.257812 11.96875 L 26.207031 11.84375 L 27.945312 12.703125 C 31.53125 14.476562 32.316406 14.800781 33.03125 14.800781 C 33.976562 14.800781 33.78125 13.9375 32.472656 12.292969 C 28.519531 7.355469 25.394531 5.925781 21.921875 7.472656 L 21.558594 7.636719 L 21.578125 7.542969 C 21.699219 6.992188 21.761719 5.742188 21.699219 5.164062 C 21.496094 3.296875 20.664062 1.964844 19.003906 0.855469 C 18.480469 0.503906 18.457031 0.5 18.214844 0.632812\"/>\n",
              "</g>\n",
              "      </svg>\n",
              "    "
            ]
          },
          "metadata": {}
        }
      ]
    },
    {
      "cell_type": "code",
      "source": [
        "import ColabTurtle.Turtle as skk\n",
        "skk.initializeTurtle(initial_speed=2) \n",
        "\n",
        "skk.right(90) \n",
        "skk.forward(200)\n"
      ],
      "metadata": {
        "colab": {
          "base_uri": "https://localhost:8080/",
          "height": 521
        },
        "id": "rpGFrJjfUxJZ",
        "outputId": "07cdbbb9-0123-4b1c-af03-d44bd2697268"
      },
      "execution_count": null,
      "outputs": [
        {
          "output_type": "display_data",
          "data": {
            "text/plain": [
              "<IPython.core.display.HTML object>"
            ],
            "text/html": [
              "\n",
              "      <svg width=\"800\" height=\"500\">\n",
              "        <rect width=\"100%\" height=\"100%\" fill=\"black\"/>\n",
              "        <line x1=\"400\" y1=\"250\" x2=\"600.0\" y2=\"250.0\" stroke-linecap=\"round\" style=\"stroke:white;stroke-width:4\"/>\n",
              "        <g visibility=visible transform=\"rotate(90,600.0,250.0) translate(582.0, 232.0)\">\n",
              "<path style=\" stroke:none;fill-rule:evenodd;fill:white;fill-opacity:1;\" d=\"M 18.214844 0.632812 C 16.109375 1.800781 15.011719 4.074219 15.074219 7.132812 L 15.085938 7.652344 L 14.785156 7.496094 C 13.476562 6.824219 11.957031 6.671875 10.40625 7.066406 C 8.46875 7.550781 6.515625 9.15625 4.394531 11.992188 C 3.0625 13.777344 2.679688 14.636719 3.042969 15.027344 L 3.15625 15.152344 L 3.519531 15.152344 C 4.238281 15.152344 4.828125 14.886719 8.1875 13.039062 C 9.386719 12.378906 10.371094 11.839844 10.378906 11.839844 C 10.386719 11.839844 10.355469 11.929688 10.304688 12.035156 C 9.832031 13.09375 9.257812 14.820312 8.96875 16.078125 C 7.914062 20.652344 8.617188 24.53125 11.070312 27.660156 C 11.351562 28.015625 11.363281 27.914062 10.972656 28.382812 C 8.925781 30.84375 7.945312 33.28125 8.238281 35.1875 C 8.289062 35.527344 8.28125 35.523438 8.917969 35.523438 C 10.941406 35.523438 13.074219 34.207031 15.136719 31.6875 C 15.359375 31.417969 15.328125 31.425781 15.5625 31.574219 C 16.292969 32.042969 18.023438 32.964844 18.175781 32.964844 C 18.335938 32.964844 19.941406 32.210938 20.828125 31.71875 C 20.996094 31.625 21.136719 31.554688 21.136719 31.558594 C 21.203125 31.664062 21.898438 32.414062 22.222656 32.730469 C 23.835938 34.300781 25.5625 35.132812 27.582031 35.300781 C 27.90625 35.328125 27.9375 35.308594 28.007812 34.984375 C 28.382812 33.242188 27.625 30.925781 25.863281 28.425781 L 25.542969 27.96875 L 25.699219 27.785156 C 28.945312 23.960938 29.132812 18.699219 26.257812 11.96875 L 26.207031 11.84375 L 27.945312 12.703125 C 31.53125 14.476562 32.316406 14.800781 33.03125 14.800781 C 33.976562 14.800781 33.78125 13.9375 32.472656 12.292969 C 28.519531 7.355469 25.394531 5.925781 21.921875 7.472656 L 21.558594 7.636719 L 21.578125 7.542969 C 21.699219 6.992188 21.761719 5.742188 21.699219 5.164062 C 21.496094 3.296875 20.664062 1.964844 19.003906 0.855469 C 18.480469 0.503906 18.457031 0.5 18.214844 0.632812\"/>\n",
              "</g>\n",
              "      </svg>\n",
              "    "
            ]
          },
          "metadata": {}
        }
      ]
    },
    {
      "cell_type": "code",
      "source": [
        "import ColabTurtle.Turtle as polygon\n",
        "polygon.initializeTurtle(initial_speed=2) \n",
        " \n",
        "num_sides = 10\n",
        "side_length = 100\n",
        "angle = 360.0 / num_sides\n",
        " \n",
        "for i in range(num_sides):\n",
        "    polygon.forward(side_length)\n",
        "    polygon.left(angle)\n",
        "     \n"
      ],
      "metadata": {
        "colab": {
          "base_uri": "https://localhost:8080/",
          "height": 521
        },
        "id": "p6_McQi0VTnm",
        "outputId": "108bfc50-a9fa-48c4-e297-37f9e7227628"
      },
      "execution_count": null,
      "outputs": [
        {
          "output_type": "display_data",
          "data": {
            "text/plain": [
              "<IPython.core.display.HTML object>"
            ],
            "text/html": [
              "\n",
              "      <svg width=\"800\" height=\"500\">\n",
              "        <rect width=\"100%\" height=\"100%\" fill=\"black\"/>\n",
              "        <line x1=\"400\" y1=\"250\" x2=\"400.0\" y2=\"150.0\" stroke-linecap=\"round\" style=\"stroke:white;stroke-width:4\"/><line x1=\"400.0\" y1=\"150.0\" x2=\"341.221\" y2=\"69.098\" stroke-linecap=\"round\" style=\"stroke:white;stroke-width:4\"/><line x1=\"341.221\" y1=\"69.098\" x2=\"246.115\" y2=\"38.196\" stroke-linecap=\"round\" style=\"stroke:white;stroke-width:4\"/><line x1=\"246.115\" y1=\"38.196\" x2=\"151.009\" y2=\"69.098\" stroke-linecap=\"round\" style=\"stroke:white;stroke-width:4\"/><line x1=\"151.009\" y1=\"69.098\" x2=\"92.23\" y2=\"150.0\" stroke-linecap=\"round\" style=\"stroke:white;stroke-width:4\"/><line x1=\"92.23\" y1=\"150.0\" x2=\"92.23\" y2=\"250.0\" stroke-linecap=\"round\" style=\"stroke:white;stroke-width:4\"/><line x1=\"92.23\" y1=\"250.0\" x2=\"151.009\" y2=\"330.902\" stroke-linecap=\"round\" style=\"stroke:white;stroke-width:4\"/><line x1=\"151.009\" y1=\"330.902\" x2=\"246.115\" y2=\"361.804\" stroke-linecap=\"round\" style=\"stroke:white;stroke-width:4\"/><line x1=\"246.115\" y1=\"361.804\" x2=\"341.221\" y2=\"330.902\" stroke-linecap=\"round\" style=\"stroke:white;stroke-width:4\"/><line x1=\"341.221\" y1=\"330.902\" x2=\"400.0\" y2=\"250.0\" stroke-linecap=\"round\" style=\"stroke:white;stroke-width:4\"/>\n",
              "        <g visibility=visible transform=\"rotate(360.0,400.0,250.0) translate(382.0, 232.0)\">\n",
              "<path style=\" stroke:none;fill-rule:evenodd;fill:white;fill-opacity:1;\" d=\"M 18.214844 0.632812 C 16.109375 1.800781 15.011719 4.074219 15.074219 7.132812 L 15.085938 7.652344 L 14.785156 7.496094 C 13.476562 6.824219 11.957031 6.671875 10.40625 7.066406 C 8.46875 7.550781 6.515625 9.15625 4.394531 11.992188 C 3.0625 13.777344 2.679688 14.636719 3.042969 15.027344 L 3.15625 15.152344 L 3.519531 15.152344 C 4.238281 15.152344 4.828125 14.886719 8.1875 13.039062 C 9.386719 12.378906 10.371094 11.839844 10.378906 11.839844 C 10.386719 11.839844 10.355469 11.929688 10.304688 12.035156 C 9.832031 13.09375 9.257812 14.820312 8.96875 16.078125 C 7.914062 20.652344 8.617188 24.53125 11.070312 27.660156 C 11.351562 28.015625 11.363281 27.914062 10.972656 28.382812 C 8.925781 30.84375 7.945312 33.28125 8.238281 35.1875 C 8.289062 35.527344 8.28125 35.523438 8.917969 35.523438 C 10.941406 35.523438 13.074219 34.207031 15.136719 31.6875 C 15.359375 31.417969 15.328125 31.425781 15.5625 31.574219 C 16.292969 32.042969 18.023438 32.964844 18.175781 32.964844 C 18.335938 32.964844 19.941406 32.210938 20.828125 31.71875 C 20.996094 31.625 21.136719 31.554688 21.136719 31.558594 C 21.203125 31.664062 21.898438 32.414062 22.222656 32.730469 C 23.835938 34.300781 25.5625 35.132812 27.582031 35.300781 C 27.90625 35.328125 27.9375 35.308594 28.007812 34.984375 C 28.382812 33.242188 27.625 30.925781 25.863281 28.425781 L 25.542969 27.96875 L 25.699219 27.785156 C 28.945312 23.960938 29.132812 18.699219 26.257812 11.96875 L 26.207031 11.84375 L 27.945312 12.703125 C 31.53125 14.476562 32.316406 14.800781 33.03125 14.800781 C 33.976562 14.800781 33.78125 13.9375 32.472656 12.292969 C 28.519531 7.355469 25.394531 5.925781 21.921875 7.472656 L 21.558594 7.636719 L 21.578125 7.542969 C 21.699219 6.992188 21.761719 5.742188 21.699219 5.164062 C 21.496094 3.296875 20.664062 1.964844 19.003906 0.855469 C 18.480469 0.503906 18.457031 0.5 18.214844 0.632812\"/>\n",
              "</g>\n",
              "      </svg>\n",
              "    "
            ]
          },
          "metadata": {}
        }
      ]
    },
    {
      "cell_type": "code",
      "source": [
        "import ColabTurtle.Turtle as graf\n",
        "from random import randint\n",
        "\n",
        "#hace que cada poligono parta en el inicio\n",
        "def iniciaTurtle():\n",
        "  initializeTurtle()\n",
        "  penup()\n",
        "  goto(300, 20)\n",
        "  pendown()\n",
        "  graf.right(90)\n",
        "\n",
        "def dibuja(num_sides):\n",
        "    side_length = 100\n",
        "    angle = 360/num_sides\n",
        "    for i in range(num_sides):\n",
        "      forward(side_length)\n",
        "      right(angle)\n",
        "\n",
        "\n",
        "iniciaTurtle()\n",
        "for num_sides in range(3,15,2):\n",
        "  print(num_sides)\n",
        "  dibuja(num_sides)\n",
        "\n"
      ],
      "metadata": {
        "colab": {
          "base_uri": "https://localhost:8080/",
          "height": 628
        },
        "id": "D85u_pzGZXgL",
        "outputId": "530cf077-9b55-4e7e-81f7-a32a97e49457"
      },
      "execution_count": null,
      "outputs": [
        {
          "output_type": "display_data",
          "data": {
            "text/plain": [
              "<IPython.core.display.HTML object>"
            ],
            "text/html": [
              "\n",
              "      <svg width=\"800\" height=\"500\">\n",
              "        <rect width=\"100%\" height=\"100%\" fill=\"black\"/>\n",
              "        <line x1=\"300\" y1=\"20\" x2=\"400.0\" y2=\"20.0\" stroke-linecap=\"round\" style=\"stroke:white;stroke-width:4\"/><line x1=\"400.0\" y1=\"20.0\" x2=\"350.0\" y2=\"106.603\" stroke-linecap=\"round\" style=\"stroke:white;stroke-width:4\"/><line x1=\"350.0\" y1=\"106.603\" x2=\"300.0\" y2=\"20.0\" stroke-linecap=\"round\" style=\"stroke:white;stroke-width:4\"/><line x1=\"300.0\" y1=\"20.0\" x2=\"400.0\" y2=\"20.0\" stroke-linecap=\"round\" style=\"stroke:white;stroke-width:4\"/><line x1=\"400.0\" y1=\"20.0\" x2=\"430.902\" y2=\"115.106\" stroke-linecap=\"round\" style=\"stroke:white;stroke-width:4\"/><line x1=\"430.902\" y1=\"115.106\" x2=\"350.0\" y2=\"173.885\" stroke-linecap=\"round\" style=\"stroke:white;stroke-width:4\"/><line x1=\"350.0\" y1=\"173.885\" x2=\"269.098\" y2=\"115.106\" stroke-linecap=\"round\" style=\"stroke:white;stroke-width:4\"/><line x1=\"269.098\" y1=\"115.106\" x2=\"300.0\" y2=\"20.0\" stroke-linecap=\"round\" style=\"stroke:white;stroke-width:4\"/><line x1=\"300.0\" y1=\"20.0\" x2=\"400.0\" y2=\"20.0\" stroke-linecap=\"round\" style=\"stroke:white;stroke-width:4\"/><line x1=\"400.0\" y1=\"20.0\" x2=\"462.349\" y2=\"98.183\" stroke-linecap=\"round\" style=\"stroke:white;stroke-width:4\"/><line x1=\"462.349\" y1=\"98.183\" x2=\"440.097\" y2=\"195.676\" stroke-linecap=\"round\" style=\"stroke:white;stroke-width:4\"/><line x1=\"440.097\" y1=\"195.676\" x2=\"350.0\" y2=\"239.064\" stroke-linecap=\"round\" style=\"stroke:white;stroke-width:4\"/><line x1=\"350.0\" y1=\"239.064\" x2=\"259.903\" y2=\"195.676\" stroke-linecap=\"round\" style=\"stroke:white;stroke-width:4\"/><line x1=\"259.903\" y1=\"195.676\" x2=\"237.651\" y2=\"98.183\" stroke-linecap=\"round\" style=\"stroke:white;stroke-width:4\"/><line x1=\"237.651\" y1=\"98.183\" x2=\"300.0\" y2=\"20.0\" stroke-linecap=\"round\" style=\"stroke:white;stroke-width:4\"/><line x1=\"300.0\" y1=\"20.0\" x2=\"400.0\" y2=\"20.0\" stroke-linecap=\"round\" style=\"stroke:white;stroke-width:4\"/><line x1=\"400.0\" y1=\"20.0\" x2=\"476.604\" y2=\"84.279\" stroke-linecap=\"round\" style=\"stroke:white;stroke-width:4\"/><line x1=\"476.604\" y1=\"84.279\" x2=\"493.969\" y2=\"182.76\" stroke-linecap=\"round\" style=\"stroke:white;stroke-width:4\"/><line x1=\"493.969\" y1=\"182.76\" x2=\"443.969\" y2=\"269.363\" stroke-linecap=\"round\" style=\"stroke:white;stroke-width:4\"/><line x1=\"443.969\" y1=\"269.363\" x2=\"350.0\" y2=\"303.565\" stroke-linecap=\"round\" style=\"stroke:white;stroke-width:4\"/><line x1=\"350.0\" y1=\"303.565\" x2=\"256.031\" y2=\"269.363\" stroke-linecap=\"round\" style=\"stroke:white;stroke-width:4\"/><line x1=\"256.031\" y1=\"269.363\" x2=\"206.031\" y2=\"182.76\" stroke-linecap=\"round\" style=\"stroke:white;stroke-width:4\"/><line x1=\"206.031\" y1=\"182.76\" x2=\"223.396\" y2=\"84.279\" stroke-linecap=\"round\" style=\"stroke:white;stroke-width:4\"/><line x1=\"223.396\" y1=\"84.279\" x2=\"300.0\" y2=\"20.0\" stroke-linecap=\"round\" style=\"stroke:white;stroke-width:4\"/><line x1=\"300.0\" y1=\"20.0\" x2=\"400.0\" y2=\"20.0\" stroke-linecap=\"round\" style=\"stroke:white;stroke-width:4\"/><line x1=\"400.0\" y1=\"20.0\" x2=\"484.125\" y2=\"74.064\" stroke-linecap=\"round\" style=\"stroke:white;stroke-width:4\"/><line x1=\"484.125\" y1=\"74.064\" x2=\"525.667\" y2=\"165.027\" stroke-linecap=\"round\" style=\"stroke:white;stroke-width:4\"/><line x1=\"525.667\" y1=\"165.027\" x2=\"511.436\" y2=\"264.009\" stroke-linecap=\"round\" style=\"stroke:white;stroke-width:4\"/><line x1=\"511.436\" y1=\"264.009\" x2=\"445.95\" y2=\"339.584\" stroke-linecap=\"round\" style=\"stroke:white;stroke-width:4\"/><line x1=\"445.95\" y1=\"339.584\" x2=\"350.001\" y2=\"367.757\" stroke-linecap=\"round\" style=\"stroke:white;stroke-width:4\"/><line x1=\"350.001\" y1=\"367.757\" x2=\"254.052\" y2=\"339.584\" stroke-linecap=\"round\" style=\"stroke:white;stroke-width:4\"/><line x1=\"254.052\" y1=\"339.584\" x2=\"188.566\" y2=\"264.009\" stroke-linecap=\"round\" style=\"stroke:white;stroke-width:4\"/><line x1=\"188.566\" y1=\"264.009\" x2=\"174.335\" y2=\"165.027\" stroke-linecap=\"round\" style=\"stroke:white;stroke-width:4\"/><line x1=\"174.335\" y1=\"165.027\" x2=\"215.877\" y2=\"74.064\" stroke-linecap=\"round\" style=\"stroke:white;stroke-width:4\"/><line x1=\"215.877\" y1=\"74.064\" x2=\"300.002\" y2=\"20.0\" stroke-linecap=\"round\" style=\"stroke:white;stroke-width:4\"/><line x1=\"300.002\" y1=\"20.0\" x2=\"400.002\" y2=\"20.0\" stroke-linecap=\"round\" style=\"stroke:white;stroke-width:4\"/><line x1=\"400.002\" y1=\"20.0\" x2=\"488.548\" y2=\"66.472\" stroke-linecap=\"round\" style=\"stroke:white;stroke-width:4\"/><line x1=\"488.548\" y1=\"66.472\" x2=\"545.354\" y2=\"148.77\" stroke-linecap=\"round\" style=\"stroke:white;stroke-width:4\"/><line x1=\"545.354\" y1=\"148.77\" x2=\"557.408\" y2=\"248.041\" stroke-linecap=\"round\" style=\"stroke:white;stroke-width:4\"/><line x1=\"557.408\" y1=\"248.041\" x2=\"521.948\" y2=\"341.543\" stroke-linecap=\"round\" style=\"stroke:white;stroke-width:4\"/><line x1=\"521.948\" y1=\"341.543\" x2=\"447.097\" y2=\"407.855\" stroke-linecap=\"round\" style=\"stroke:white;stroke-width:4\"/><line x1=\"447.097\" y1=\"407.855\" x2=\"350.003\" y2=\"431.787\" stroke-linecap=\"round\" style=\"stroke:white;stroke-width:4\"/><line x1=\"350.003\" y1=\"431.787\" x2=\"252.909\" y2=\"407.855\" stroke-linecap=\"round\" style=\"stroke:white;stroke-width:4\"/><line x1=\"252.909\" y1=\"407.855\" x2=\"178.058\" y2=\"341.543\" stroke-linecap=\"round\" style=\"stroke:white;stroke-width:4\"/><line x1=\"178.058\" y1=\"341.543\" x2=\"142.598\" y2=\"248.041\" stroke-linecap=\"round\" style=\"stroke:white;stroke-width:4\"/><line x1=\"142.598\" y1=\"248.041\" x2=\"154.652\" y2=\"148.77\" stroke-linecap=\"round\" style=\"stroke:white;stroke-width:4\"/><line x1=\"154.652\" y1=\"148.77\" x2=\"211.458\" y2=\"66.472\" stroke-linecap=\"round\" style=\"stroke:white;stroke-width:4\"/><line x1=\"211.458\" y1=\"66.472\" x2=\"300.004\" y2=\"20.0\" stroke-linecap=\"round\" style=\"stroke:white;stroke-width:4\"/>\n",
              "        <g visibility=visible transform=\"rotate(90.0,300.004,20.0) translate(282.004, 2.0)\">\n",
              "<path style=\" stroke:none;fill-rule:evenodd;fill:white;fill-opacity:1;\" d=\"M 18.214844 0.632812 C 16.109375 1.800781 15.011719 4.074219 15.074219 7.132812 L 15.085938 7.652344 L 14.785156 7.496094 C 13.476562 6.824219 11.957031 6.671875 10.40625 7.066406 C 8.46875 7.550781 6.515625 9.15625 4.394531 11.992188 C 3.0625 13.777344 2.679688 14.636719 3.042969 15.027344 L 3.15625 15.152344 L 3.519531 15.152344 C 4.238281 15.152344 4.828125 14.886719 8.1875 13.039062 C 9.386719 12.378906 10.371094 11.839844 10.378906 11.839844 C 10.386719 11.839844 10.355469 11.929688 10.304688 12.035156 C 9.832031 13.09375 9.257812 14.820312 8.96875 16.078125 C 7.914062 20.652344 8.617188 24.53125 11.070312 27.660156 C 11.351562 28.015625 11.363281 27.914062 10.972656 28.382812 C 8.925781 30.84375 7.945312 33.28125 8.238281 35.1875 C 8.289062 35.527344 8.28125 35.523438 8.917969 35.523438 C 10.941406 35.523438 13.074219 34.207031 15.136719 31.6875 C 15.359375 31.417969 15.328125 31.425781 15.5625 31.574219 C 16.292969 32.042969 18.023438 32.964844 18.175781 32.964844 C 18.335938 32.964844 19.941406 32.210938 20.828125 31.71875 C 20.996094 31.625 21.136719 31.554688 21.136719 31.558594 C 21.203125 31.664062 21.898438 32.414062 22.222656 32.730469 C 23.835938 34.300781 25.5625 35.132812 27.582031 35.300781 C 27.90625 35.328125 27.9375 35.308594 28.007812 34.984375 C 28.382812 33.242188 27.625 30.925781 25.863281 28.425781 L 25.542969 27.96875 L 25.699219 27.785156 C 28.945312 23.960938 29.132812 18.699219 26.257812 11.96875 L 26.207031 11.84375 L 27.945312 12.703125 C 31.53125 14.476562 32.316406 14.800781 33.03125 14.800781 C 33.976562 14.800781 33.78125 13.9375 32.472656 12.292969 C 28.519531 7.355469 25.394531 5.925781 21.921875 7.472656 L 21.558594 7.636719 L 21.578125 7.542969 C 21.699219 6.992188 21.761719 5.742188 21.699219 5.164062 C 21.496094 3.296875 20.664062 1.964844 19.003906 0.855469 C 18.480469 0.503906 18.457031 0.5 18.214844 0.632812\"/>\n",
              "</g>\n",
              "      </svg>\n",
              "    "
            ]
          },
          "metadata": {}
        },
        {
          "output_type": "stream",
          "name": "stdout",
          "text": [
            "3\n",
            "5\n",
            "7\n",
            "9\n",
            "11\n",
            "13\n"
          ]
        }
      ]
    },
    {
      "cell_type": "code",
      "source": [
        "import ColabTurtle.Turtle as graf\n",
        "from random import randint\n",
        "\n",
        "#hace que cada poligono parta en el inicio\n",
        "def iniciaTurtle():\n",
        "  initializeTurtle()\n",
        "  penup()\n",
        "  goto(300, 20)\n",
        "  pendown()\n",
        "  graf.right(90)\n",
        "\n",
        "def dibuja(num_sides):\n",
        "    side_length = 100\n",
        "    angle = 360/num_sides\n",
        "    graf.color(randint(0, 255),randint(0, 255),randint(0, 255))\n",
        "    for i in range(num_sides):\n",
        "      forward(side_length)\n",
        "      right(angle)\n",
        "\n",
        "\n",
        "iniciaTurtle()\n",
        "for num_sides in range(3,15,2):\n",
        "  print(num_sides)\n",
        "  dibuja(num_sides)\n"
      ],
      "metadata": {
        "colab": {
          "base_uri": "https://localhost:8080/",
          "height": 628
        },
        "id": "qVaziq94bZJ5",
        "outputId": "452eb547-d8e4-4e6d-8238-0b5dc59993ad"
      },
      "execution_count": 15,
      "outputs": [
        {
          "output_type": "display_data",
          "data": {
            "text/plain": [
              "<IPython.core.display.HTML object>"
            ],
            "text/html": [
              "\n",
              "      <svg width=\"800\" height=\"500\">\n",
              "        <rect width=\"100%\" height=\"100%\" fill=\"black\"/>\n",
              "        <line x1=\"300\" y1=\"20\" x2=\"400.0\" y2=\"20.0\" stroke-linecap=\"round\" style=\"stroke:rgb(156,233,220);stroke-width:4\"/><line x1=\"400.0\" y1=\"20.0\" x2=\"350.0\" y2=\"106.603\" stroke-linecap=\"round\" style=\"stroke:rgb(156,233,220);stroke-width:4\"/><line x1=\"350.0\" y1=\"106.603\" x2=\"300.0\" y2=\"20.0\" stroke-linecap=\"round\" style=\"stroke:rgb(156,233,220);stroke-width:4\"/><line x1=\"300.0\" y1=\"20.0\" x2=\"400.0\" y2=\"20.0\" stroke-linecap=\"round\" style=\"stroke:rgb(154,179,121);stroke-width:4\"/><line x1=\"400.0\" y1=\"20.0\" x2=\"430.902\" y2=\"115.106\" stroke-linecap=\"round\" style=\"stroke:rgb(154,179,121);stroke-width:4\"/><line x1=\"430.902\" y1=\"115.106\" x2=\"350.0\" y2=\"173.885\" stroke-linecap=\"round\" style=\"stroke:rgb(154,179,121);stroke-width:4\"/><line x1=\"350.0\" y1=\"173.885\" x2=\"269.098\" y2=\"115.106\" stroke-linecap=\"round\" style=\"stroke:rgb(154,179,121);stroke-width:4\"/><line x1=\"269.098\" y1=\"115.106\" x2=\"300.0\" y2=\"20.0\" stroke-linecap=\"round\" style=\"stroke:rgb(154,179,121);stroke-width:4\"/><line x1=\"300.0\" y1=\"20.0\" x2=\"400.0\" y2=\"20.0\" stroke-linecap=\"round\" style=\"stroke:rgb(4,95,127);stroke-width:4\"/><line x1=\"400.0\" y1=\"20.0\" x2=\"462.349\" y2=\"98.183\" stroke-linecap=\"round\" style=\"stroke:rgb(4,95,127);stroke-width:4\"/><line x1=\"462.349\" y1=\"98.183\" x2=\"440.097\" y2=\"195.676\" stroke-linecap=\"round\" style=\"stroke:rgb(4,95,127);stroke-width:4\"/><line x1=\"440.097\" y1=\"195.676\" x2=\"350.0\" y2=\"239.064\" stroke-linecap=\"round\" style=\"stroke:rgb(4,95,127);stroke-width:4\"/><line x1=\"350.0\" y1=\"239.064\" x2=\"259.903\" y2=\"195.676\" stroke-linecap=\"round\" style=\"stroke:rgb(4,95,127);stroke-width:4\"/><line x1=\"259.903\" y1=\"195.676\" x2=\"237.651\" y2=\"98.183\" stroke-linecap=\"round\" style=\"stroke:rgb(4,95,127);stroke-width:4\"/><line x1=\"237.651\" y1=\"98.183\" x2=\"300.0\" y2=\"20.0\" stroke-linecap=\"round\" style=\"stroke:rgb(4,95,127);stroke-width:4\"/><line x1=\"300.0\" y1=\"20.0\" x2=\"400.0\" y2=\"20.0\" stroke-linecap=\"round\" style=\"stroke:rgb(42,176,16);stroke-width:4\"/><line x1=\"400.0\" y1=\"20.0\" x2=\"476.604\" y2=\"84.279\" stroke-linecap=\"round\" style=\"stroke:rgb(42,176,16);stroke-width:4\"/><line x1=\"476.604\" y1=\"84.279\" x2=\"493.969\" y2=\"182.76\" stroke-linecap=\"round\" style=\"stroke:rgb(42,176,16);stroke-width:4\"/><line x1=\"493.969\" y1=\"182.76\" x2=\"443.969\" y2=\"269.363\" stroke-linecap=\"round\" style=\"stroke:rgb(42,176,16);stroke-width:4\"/><line x1=\"443.969\" y1=\"269.363\" x2=\"350.0\" y2=\"303.565\" stroke-linecap=\"round\" style=\"stroke:rgb(42,176,16);stroke-width:4\"/><line x1=\"350.0\" y1=\"303.565\" x2=\"256.031\" y2=\"269.363\" stroke-linecap=\"round\" style=\"stroke:rgb(42,176,16);stroke-width:4\"/><line x1=\"256.031\" y1=\"269.363\" x2=\"206.031\" y2=\"182.76\" stroke-linecap=\"round\" style=\"stroke:rgb(42,176,16);stroke-width:4\"/><line x1=\"206.031\" y1=\"182.76\" x2=\"223.396\" y2=\"84.279\" stroke-linecap=\"round\" style=\"stroke:rgb(42,176,16);stroke-width:4\"/><line x1=\"223.396\" y1=\"84.279\" x2=\"300.0\" y2=\"20.0\" stroke-linecap=\"round\" style=\"stroke:rgb(42,176,16);stroke-width:4\"/><line x1=\"300.0\" y1=\"20.0\" x2=\"400.0\" y2=\"20.0\" stroke-linecap=\"round\" style=\"stroke:rgb(241,238,185);stroke-width:4\"/><line x1=\"400.0\" y1=\"20.0\" x2=\"484.125\" y2=\"74.064\" stroke-linecap=\"round\" style=\"stroke:rgb(241,238,185);stroke-width:4\"/><line x1=\"484.125\" y1=\"74.064\" x2=\"525.667\" y2=\"165.027\" stroke-linecap=\"round\" style=\"stroke:rgb(241,238,185);stroke-width:4\"/><line x1=\"525.667\" y1=\"165.027\" x2=\"511.436\" y2=\"264.009\" stroke-linecap=\"round\" style=\"stroke:rgb(241,238,185);stroke-width:4\"/><line x1=\"511.436\" y1=\"264.009\" x2=\"445.95\" y2=\"339.584\" stroke-linecap=\"round\" style=\"stroke:rgb(241,238,185);stroke-width:4\"/><line x1=\"445.95\" y1=\"339.584\" x2=\"350.001\" y2=\"367.757\" stroke-linecap=\"round\" style=\"stroke:rgb(241,238,185);stroke-width:4\"/><line x1=\"350.001\" y1=\"367.757\" x2=\"254.052\" y2=\"339.584\" stroke-linecap=\"round\" style=\"stroke:rgb(241,238,185);stroke-width:4\"/><line x1=\"254.052\" y1=\"339.584\" x2=\"188.566\" y2=\"264.009\" stroke-linecap=\"round\" style=\"stroke:rgb(241,238,185);stroke-width:4\"/><line x1=\"188.566\" y1=\"264.009\" x2=\"174.335\" y2=\"165.027\" stroke-linecap=\"round\" style=\"stroke:rgb(241,238,185);stroke-width:4\"/><line x1=\"174.335\" y1=\"165.027\" x2=\"215.877\" y2=\"74.064\" stroke-linecap=\"round\" style=\"stroke:rgb(241,238,185);stroke-width:4\"/><line x1=\"215.877\" y1=\"74.064\" x2=\"300.002\" y2=\"20.0\" stroke-linecap=\"round\" style=\"stroke:rgb(241,238,185);stroke-width:4\"/><line x1=\"300.002\" y1=\"20.0\" x2=\"400.002\" y2=\"20.0\" stroke-linecap=\"round\" style=\"stroke:rgb(216,92,184);stroke-width:4\"/><line x1=\"400.002\" y1=\"20.0\" x2=\"488.548\" y2=\"66.472\" stroke-linecap=\"round\" style=\"stroke:rgb(216,92,184);stroke-width:4\"/><line x1=\"488.548\" y1=\"66.472\" x2=\"545.354\" y2=\"148.77\" stroke-linecap=\"round\" style=\"stroke:rgb(216,92,184);stroke-width:4\"/><line x1=\"545.354\" y1=\"148.77\" x2=\"557.408\" y2=\"248.041\" stroke-linecap=\"round\" style=\"stroke:rgb(216,92,184);stroke-width:4\"/><line x1=\"557.408\" y1=\"248.041\" x2=\"521.948\" y2=\"341.543\" stroke-linecap=\"round\" style=\"stroke:rgb(216,92,184);stroke-width:4\"/><line x1=\"521.948\" y1=\"341.543\" x2=\"447.097\" y2=\"407.855\" stroke-linecap=\"round\" style=\"stroke:rgb(216,92,184);stroke-width:4\"/><line x1=\"447.097\" y1=\"407.855\" x2=\"350.003\" y2=\"431.787\" stroke-linecap=\"round\" style=\"stroke:rgb(216,92,184);stroke-width:4\"/><line x1=\"350.003\" y1=\"431.787\" x2=\"252.909\" y2=\"407.855\" stroke-linecap=\"round\" style=\"stroke:rgb(216,92,184);stroke-width:4\"/><line x1=\"252.909\" y1=\"407.855\" x2=\"178.058\" y2=\"341.543\" stroke-linecap=\"round\" style=\"stroke:rgb(216,92,184);stroke-width:4\"/><line x1=\"178.058\" y1=\"341.543\" x2=\"142.598\" y2=\"248.041\" stroke-linecap=\"round\" style=\"stroke:rgb(216,92,184);stroke-width:4\"/><line x1=\"142.598\" y1=\"248.041\" x2=\"154.652\" y2=\"148.77\" stroke-linecap=\"round\" style=\"stroke:rgb(216,92,184);stroke-width:4\"/><line x1=\"154.652\" y1=\"148.77\" x2=\"211.458\" y2=\"66.472\" stroke-linecap=\"round\" style=\"stroke:rgb(216,92,184);stroke-width:4\"/><line x1=\"211.458\" y1=\"66.472\" x2=\"300.004\" y2=\"20.0\" stroke-linecap=\"round\" style=\"stroke:rgb(216,92,184);stroke-width:4\"/>\n",
              "        <g visibility=visible transform=\"rotate(90.0,300.004,20.0) translate(282.004, 2.0)\">\n",
              "<path style=\" stroke:none;fill-rule:evenodd;fill:rgb(216,92,184);fill-opacity:1;\" d=\"M 18.214844 0.632812 C 16.109375 1.800781 15.011719 4.074219 15.074219 7.132812 L 15.085938 7.652344 L 14.785156 7.496094 C 13.476562 6.824219 11.957031 6.671875 10.40625 7.066406 C 8.46875 7.550781 6.515625 9.15625 4.394531 11.992188 C 3.0625 13.777344 2.679688 14.636719 3.042969 15.027344 L 3.15625 15.152344 L 3.519531 15.152344 C 4.238281 15.152344 4.828125 14.886719 8.1875 13.039062 C 9.386719 12.378906 10.371094 11.839844 10.378906 11.839844 C 10.386719 11.839844 10.355469 11.929688 10.304688 12.035156 C 9.832031 13.09375 9.257812 14.820312 8.96875 16.078125 C 7.914062 20.652344 8.617188 24.53125 11.070312 27.660156 C 11.351562 28.015625 11.363281 27.914062 10.972656 28.382812 C 8.925781 30.84375 7.945312 33.28125 8.238281 35.1875 C 8.289062 35.527344 8.28125 35.523438 8.917969 35.523438 C 10.941406 35.523438 13.074219 34.207031 15.136719 31.6875 C 15.359375 31.417969 15.328125 31.425781 15.5625 31.574219 C 16.292969 32.042969 18.023438 32.964844 18.175781 32.964844 C 18.335938 32.964844 19.941406 32.210938 20.828125 31.71875 C 20.996094 31.625 21.136719 31.554688 21.136719 31.558594 C 21.203125 31.664062 21.898438 32.414062 22.222656 32.730469 C 23.835938 34.300781 25.5625 35.132812 27.582031 35.300781 C 27.90625 35.328125 27.9375 35.308594 28.007812 34.984375 C 28.382812 33.242188 27.625 30.925781 25.863281 28.425781 L 25.542969 27.96875 L 25.699219 27.785156 C 28.945312 23.960938 29.132812 18.699219 26.257812 11.96875 L 26.207031 11.84375 L 27.945312 12.703125 C 31.53125 14.476562 32.316406 14.800781 33.03125 14.800781 C 33.976562 14.800781 33.78125 13.9375 32.472656 12.292969 C 28.519531 7.355469 25.394531 5.925781 21.921875 7.472656 L 21.558594 7.636719 L 21.578125 7.542969 C 21.699219 6.992188 21.761719 5.742188 21.699219 5.164062 C 21.496094 3.296875 20.664062 1.964844 19.003906 0.855469 C 18.480469 0.503906 18.457031 0.5 18.214844 0.632812\"/>\n",
              "</g>\n",
              "      </svg>\n",
              "    "
            ]
          },
          "metadata": {}
        },
        {
          "output_type": "stream",
          "name": "stdout",
          "text": [
            "3\n",
            "5\n",
            "7\n",
            "9\n",
            "11\n",
            "13\n"
          ]
        }
      ]
    },
    {
      "cell_type": "code",
      "source": [
        "import ColabTurtle.Turtle as graf\n",
        "from random import randint\n",
        "\n",
        "#hace que cada poligono parta en el inicio\n",
        "def iniciaTurtle():\n",
        "  initializeTurtle()\n",
        "  penup()\n",
        "  goto(300, 20)\n",
        "  pendown()\n",
        "  graf.right(90)\n",
        "\n",
        "def dibuja(num_sides, side_length):\n",
        "    #side_length = 100\n",
        "    angle = 360/num_sides\n",
        "    graf.color(randint(0, 255),randint(0, 255),randint(0, 255))\n",
        "    for i in range(num_sides):\n",
        "      forward(side_length)\n",
        "      right(angle)\n",
        "\n",
        "\n",
        "iniciaTurtle()\n",
        "for side_length in range(100,200,10):\n",
        "  print(num_sides)\n",
        "  dibuja(4, side_length)"
      ],
      "metadata": {
        "colab": {
          "base_uri": "https://localhost:8080/",
          "height": 699
        },
        "id": "5_-go6N4dA9n",
        "outputId": "590e0dda-cada-405e-ddc1-ce19777cd73b"
      },
      "execution_count": 16,
      "outputs": [
        {
          "output_type": "display_data",
          "data": {
            "text/plain": [
              "<IPython.core.display.HTML object>"
            ],
            "text/html": [
              "\n",
              "      <svg width=\"800\" height=\"500\">\n",
              "        <rect width=\"100%\" height=\"100%\" fill=\"black\"/>\n",
              "        <line x1=\"300\" y1=\"20\" x2=\"400.0\" y2=\"20.0\" stroke-linecap=\"round\" style=\"stroke:rgb(65,221,64);stroke-width:4\"/><line x1=\"400.0\" y1=\"20.0\" x2=\"400.0\" y2=\"120.0\" stroke-linecap=\"round\" style=\"stroke:rgb(65,221,64);stroke-width:4\"/><line x1=\"400.0\" y1=\"120.0\" x2=\"300.0\" y2=\"120.0\" stroke-linecap=\"round\" style=\"stroke:rgb(65,221,64);stroke-width:4\"/><line x1=\"300.0\" y1=\"120.0\" x2=\"300.0\" y2=\"20.0\" stroke-linecap=\"round\" style=\"stroke:rgb(65,221,64);stroke-width:4\"/><line x1=\"300.0\" y1=\"20.0\" x2=\"410.0\" y2=\"20.0\" stroke-linecap=\"round\" style=\"stroke:rgb(224,142,45);stroke-width:4\"/><line x1=\"410.0\" y1=\"20.0\" x2=\"410.0\" y2=\"130.0\" stroke-linecap=\"round\" style=\"stroke:rgb(224,142,45);stroke-width:4\"/><line x1=\"410.0\" y1=\"130.0\" x2=\"300.0\" y2=\"130.0\" stroke-linecap=\"round\" style=\"stroke:rgb(224,142,45);stroke-width:4\"/><line x1=\"300.0\" y1=\"130.0\" x2=\"300.0\" y2=\"20.0\" stroke-linecap=\"round\" style=\"stroke:rgb(224,142,45);stroke-width:4\"/><line x1=\"300.0\" y1=\"20.0\" x2=\"420.0\" y2=\"20.0\" stroke-linecap=\"round\" style=\"stroke:rgb(70,142,129);stroke-width:4\"/><line x1=\"420.0\" y1=\"20.0\" x2=\"420.0\" y2=\"140.0\" stroke-linecap=\"round\" style=\"stroke:rgb(70,142,129);stroke-width:4\"/><line x1=\"420.0\" y1=\"140.0\" x2=\"300.0\" y2=\"140.0\" stroke-linecap=\"round\" style=\"stroke:rgb(70,142,129);stroke-width:4\"/><line x1=\"300.0\" y1=\"140.0\" x2=\"300.0\" y2=\"20.0\" stroke-linecap=\"round\" style=\"stroke:rgb(70,142,129);stroke-width:4\"/><line x1=\"300.0\" y1=\"20.0\" x2=\"430.0\" y2=\"20.0\" stroke-linecap=\"round\" style=\"stroke:rgb(180,157,89);stroke-width:4\"/><line x1=\"430.0\" y1=\"20.0\" x2=\"430.0\" y2=\"150.0\" stroke-linecap=\"round\" style=\"stroke:rgb(180,157,89);stroke-width:4\"/><line x1=\"430.0\" y1=\"150.0\" x2=\"300.0\" y2=\"150.0\" stroke-linecap=\"round\" style=\"stroke:rgb(180,157,89);stroke-width:4\"/><line x1=\"300.0\" y1=\"150.0\" x2=\"300.0\" y2=\"20.0\" stroke-linecap=\"round\" style=\"stroke:rgb(180,157,89);stroke-width:4\"/><line x1=\"300.0\" y1=\"20.0\" x2=\"440.0\" y2=\"20.0\" stroke-linecap=\"round\" style=\"stroke:rgb(193,171,151);stroke-width:4\"/><line x1=\"440.0\" y1=\"20.0\" x2=\"440.0\" y2=\"160.0\" stroke-linecap=\"round\" style=\"stroke:rgb(193,171,151);stroke-width:4\"/><line x1=\"440.0\" y1=\"160.0\" x2=\"300.0\" y2=\"160.0\" stroke-linecap=\"round\" style=\"stroke:rgb(193,171,151);stroke-width:4\"/><line x1=\"300.0\" y1=\"160.0\" x2=\"300.0\" y2=\"20.0\" stroke-linecap=\"round\" style=\"stroke:rgb(193,171,151);stroke-width:4\"/><line x1=\"300.0\" y1=\"20.0\" x2=\"450.0\" y2=\"20.0\" stroke-linecap=\"round\" style=\"stroke:rgb(158,57,41);stroke-width:4\"/><line x1=\"450.0\" y1=\"20.0\" x2=\"450.0\" y2=\"170.0\" stroke-linecap=\"round\" style=\"stroke:rgb(158,57,41);stroke-width:4\"/><line x1=\"450.0\" y1=\"170.0\" x2=\"300.0\" y2=\"170.0\" stroke-linecap=\"round\" style=\"stroke:rgb(158,57,41);stroke-width:4\"/><line x1=\"300.0\" y1=\"170.0\" x2=\"300.0\" y2=\"20.0\" stroke-linecap=\"round\" style=\"stroke:rgb(158,57,41);stroke-width:4\"/><line x1=\"300.0\" y1=\"20.0\" x2=\"460.0\" y2=\"20.0\" stroke-linecap=\"round\" style=\"stroke:rgb(11,246,126);stroke-width:4\"/><line x1=\"460.0\" y1=\"20.0\" x2=\"460.0\" y2=\"180.0\" stroke-linecap=\"round\" style=\"stroke:rgb(11,246,126);stroke-width:4\"/><line x1=\"460.0\" y1=\"180.0\" x2=\"300.0\" y2=\"180.0\" stroke-linecap=\"round\" style=\"stroke:rgb(11,246,126);stroke-width:4\"/><line x1=\"300.0\" y1=\"180.0\" x2=\"300.0\" y2=\"20.0\" stroke-linecap=\"round\" style=\"stroke:rgb(11,246,126);stroke-width:4\"/><line x1=\"300.0\" y1=\"20.0\" x2=\"470.0\" y2=\"20.0\" stroke-linecap=\"round\" style=\"stroke:rgb(37,177,239);stroke-width:4\"/><line x1=\"470.0\" y1=\"20.0\" x2=\"470.0\" y2=\"190.0\" stroke-linecap=\"round\" style=\"stroke:rgb(37,177,239);stroke-width:4\"/><line x1=\"470.0\" y1=\"190.0\" x2=\"300.0\" y2=\"190.0\" stroke-linecap=\"round\" style=\"stroke:rgb(37,177,239);stroke-width:4\"/><line x1=\"300.0\" y1=\"190.0\" x2=\"300.0\" y2=\"20.0\" stroke-linecap=\"round\" style=\"stroke:rgb(37,177,239);stroke-width:4\"/><line x1=\"300.0\" y1=\"20.0\" x2=\"480.0\" y2=\"20.0\" stroke-linecap=\"round\" style=\"stroke:rgb(111,219,73);stroke-width:4\"/><line x1=\"480.0\" y1=\"20.0\" x2=\"480.0\" y2=\"200.0\" stroke-linecap=\"round\" style=\"stroke:rgb(111,219,73);stroke-width:4\"/><line x1=\"480.0\" y1=\"200.0\" x2=\"300.0\" y2=\"200.0\" stroke-linecap=\"round\" style=\"stroke:rgb(111,219,73);stroke-width:4\"/><line x1=\"300.0\" y1=\"200.0\" x2=\"300.0\" y2=\"20.0\" stroke-linecap=\"round\" style=\"stroke:rgb(111,219,73);stroke-width:4\"/><line x1=\"300.0\" y1=\"20.0\" x2=\"490.0\" y2=\"20.0\" stroke-linecap=\"round\" style=\"stroke:rgb(153,34,175);stroke-width:4\"/><line x1=\"490.0\" y1=\"20.0\" x2=\"490.0\" y2=\"210.0\" stroke-linecap=\"round\" style=\"stroke:rgb(153,34,175);stroke-width:4\"/><line x1=\"490.0\" y1=\"210.0\" x2=\"300.0\" y2=\"210.0\" stroke-linecap=\"round\" style=\"stroke:rgb(153,34,175);stroke-width:4\"/><line x1=\"300.0\" y1=\"210.0\" x2=\"300.0\" y2=\"20.0\" stroke-linecap=\"round\" style=\"stroke:rgb(153,34,175);stroke-width:4\"/>\n",
              "        <g visibility=visible transform=\"rotate(90.0,300.0,20.0) translate(282.0, 2.0)\">\n",
              "<path style=\" stroke:none;fill-rule:evenodd;fill:rgb(153,34,175);fill-opacity:1;\" d=\"M 18.214844 0.632812 C 16.109375 1.800781 15.011719 4.074219 15.074219 7.132812 L 15.085938 7.652344 L 14.785156 7.496094 C 13.476562 6.824219 11.957031 6.671875 10.40625 7.066406 C 8.46875 7.550781 6.515625 9.15625 4.394531 11.992188 C 3.0625 13.777344 2.679688 14.636719 3.042969 15.027344 L 3.15625 15.152344 L 3.519531 15.152344 C 4.238281 15.152344 4.828125 14.886719 8.1875 13.039062 C 9.386719 12.378906 10.371094 11.839844 10.378906 11.839844 C 10.386719 11.839844 10.355469 11.929688 10.304688 12.035156 C 9.832031 13.09375 9.257812 14.820312 8.96875 16.078125 C 7.914062 20.652344 8.617188 24.53125 11.070312 27.660156 C 11.351562 28.015625 11.363281 27.914062 10.972656 28.382812 C 8.925781 30.84375 7.945312 33.28125 8.238281 35.1875 C 8.289062 35.527344 8.28125 35.523438 8.917969 35.523438 C 10.941406 35.523438 13.074219 34.207031 15.136719 31.6875 C 15.359375 31.417969 15.328125 31.425781 15.5625 31.574219 C 16.292969 32.042969 18.023438 32.964844 18.175781 32.964844 C 18.335938 32.964844 19.941406 32.210938 20.828125 31.71875 C 20.996094 31.625 21.136719 31.554688 21.136719 31.558594 C 21.203125 31.664062 21.898438 32.414062 22.222656 32.730469 C 23.835938 34.300781 25.5625 35.132812 27.582031 35.300781 C 27.90625 35.328125 27.9375 35.308594 28.007812 34.984375 C 28.382812 33.242188 27.625 30.925781 25.863281 28.425781 L 25.542969 27.96875 L 25.699219 27.785156 C 28.945312 23.960938 29.132812 18.699219 26.257812 11.96875 L 26.207031 11.84375 L 27.945312 12.703125 C 31.53125 14.476562 32.316406 14.800781 33.03125 14.800781 C 33.976562 14.800781 33.78125 13.9375 32.472656 12.292969 C 28.519531 7.355469 25.394531 5.925781 21.921875 7.472656 L 21.558594 7.636719 L 21.578125 7.542969 C 21.699219 6.992188 21.761719 5.742188 21.699219 5.164062 C 21.496094 3.296875 20.664062 1.964844 19.003906 0.855469 C 18.480469 0.503906 18.457031 0.5 18.214844 0.632812\"/>\n",
              "</g>\n",
              "      </svg>\n",
              "    "
            ]
          },
          "metadata": {}
        },
        {
          "output_type": "stream",
          "name": "stdout",
          "text": [
            "13\n",
            "13\n",
            "13\n",
            "13\n",
            "13\n",
            "13\n",
            "13\n",
            "13\n",
            "13\n",
            "13\n"
          ]
        }
      ]
    },
    {
      "cell_type": "code",
      "source": [
        "import ColabTurtle.Turtle as casa\n",
        "casa.initializeTurtle(initial_speed=7) \n",
        "casa.right(90)\n",
        "casa.forward(200)\n",
        "casa.right(90)\n",
        "casa.forward(100)\n",
        "casa.right(90)\n",
        "casa.forward(200)\n",
        "casa.right(90)\n",
        "casa.forward(100)\n",
        "casa.right(30)\n",
        "casa.forward(100)\n",
        "casa.right(120)\n",
        "casa.forward(100)\n",
        "casa.right(180)\n",
        "casa.forward(100)\n",
        "casa.right(120)\n",
        "casa.forward(100)\n",
        "casa.right(60)\n",
        "casa.forward(100)\n",
        "casa.penup()#subimos el lapiz\n",
        "casa.goto(200, 350)\n",
        "casa.pendown()#bajamos el lapiz\n",
        "casa.right(210)\n",
        "casa.forward(50)\n",
        "casa.penup()#subimos el lapiz\n",
        "casa.goto(250, 350)\n",
        "casa.pendown()#bajamos el lapiz\n",
        "\n"
      ],
      "metadata": {
        "colab": {
          "base_uri": "https://localhost:8080/",
          "height": 521
        },
        "id": "LZZhqsItef2B",
        "outputId": "fa080cb5-4b81-4d53-baf5-1d876986051b"
      },
      "execution_count": null,
      "outputs": [
        {
          "output_type": "display_data",
          "data": {
            "text/plain": [
              "<IPython.core.display.HTML object>"
            ],
            "text/html": [
              "\n",
              "      <svg width=\"800\" height=\"500\">\n",
              "        <rect width=\"100%\" height=\"100%\" fill=\"black\"/>\n",
              "        <line x1=\"400\" y1=\"250\" x2=\"600.0\" y2=\"250.0\" stroke-linecap=\"round\" style=\"stroke:white;stroke-width:4\"/><line x1=\"600.0\" y1=\"250.0\" x2=\"600.0\" y2=\"350.0\" stroke-linecap=\"round\" style=\"stroke:white;stroke-width:4\"/><line x1=\"600.0\" y1=\"350.0\" x2=\"400.0\" y2=\"350.0\" stroke-linecap=\"round\" style=\"stroke:white;stroke-width:4\"/><line x1=\"400.0\" y1=\"350.0\" x2=\"400.0\" y2=\"250.0\" stroke-linecap=\"round\" style=\"stroke:white;stroke-width:4\"/><line x1=\"400.0\" y1=\"250.0\" x2=\"450.0\" y2=\"163.397\" stroke-linecap=\"round\" style=\"stroke:white;stroke-width:4\"/><line x1=\"450.0\" y1=\"163.397\" x2=\"500.0\" y2=\"250.0\" stroke-linecap=\"round\" style=\"stroke:white;stroke-width:4\"/><line x1=\"500.0\" y1=\"250.0\" x2=\"450.0\" y2=\"163.397\" stroke-linecap=\"round\" style=\"stroke:white;stroke-width:4\"/><line x1=\"450.0\" y1=\"163.397\" x2=\"550.0\" y2=\"163.397\" stroke-linecap=\"round\" style=\"stroke:white;stroke-width:4\"/><line x1=\"550.0\" y1=\"163.397\" x2=\"600.0\" y2=\"250.0\" stroke-linecap=\"round\" style=\"stroke:white;stroke-width:4\"/><line x1=\"200\" y1=\"350\" x2=\"200.0\" y2=\"300.0\" stroke-linecap=\"round\" style=\"stroke:white;stroke-width:4\"/>\n",
              "        <g visibility=visible transform=\"rotate(360,250,350) translate(232, 332)\">\n",
              "<path style=\" stroke:none;fill-rule:evenodd;fill:white;fill-opacity:1;\" d=\"M 18.214844 0.632812 C 16.109375 1.800781 15.011719 4.074219 15.074219 7.132812 L 15.085938 7.652344 L 14.785156 7.496094 C 13.476562 6.824219 11.957031 6.671875 10.40625 7.066406 C 8.46875 7.550781 6.515625 9.15625 4.394531 11.992188 C 3.0625 13.777344 2.679688 14.636719 3.042969 15.027344 L 3.15625 15.152344 L 3.519531 15.152344 C 4.238281 15.152344 4.828125 14.886719 8.1875 13.039062 C 9.386719 12.378906 10.371094 11.839844 10.378906 11.839844 C 10.386719 11.839844 10.355469 11.929688 10.304688 12.035156 C 9.832031 13.09375 9.257812 14.820312 8.96875 16.078125 C 7.914062 20.652344 8.617188 24.53125 11.070312 27.660156 C 11.351562 28.015625 11.363281 27.914062 10.972656 28.382812 C 8.925781 30.84375 7.945312 33.28125 8.238281 35.1875 C 8.289062 35.527344 8.28125 35.523438 8.917969 35.523438 C 10.941406 35.523438 13.074219 34.207031 15.136719 31.6875 C 15.359375 31.417969 15.328125 31.425781 15.5625 31.574219 C 16.292969 32.042969 18.023438 32.964844 18.175781 32.964844 C 18.335938 32.964844 19.941406 32.210938 20.828125 31.71875 C 20.996094 31.625 21.136719 31.554688 21.136719 31.558594 C 21.203125 31.664062 21.898438 32.414062 22.222656 32.730469 C 23.835938 34.300781 25.5625 35.132812 27.582031 35.300781 C 27.90625 35.328125 27.9375 35.308594 28.007812 34.984375 C 28.382812 33.242188 27.625 30.925781 25.863281 28.425781 L 25.542969 27.96875 L 25.699219 27.785156 C 28.945312 23.960938 29.132812 18.699219 26.257812 11.96875 L 26.207031 11.84375 L 27.945312 12.703125 C 31.53125 14.476562 32.316406 14.800781 33.03125 14.800781 C 33.976562 14.800781 33.78125 13.9375 32.472656 12.292969 C 28.519531 7.355469 25.394531 5.925781 21.921875 7.472656 L 21.558594 7.636719 L 21.578125 7.542969 C 21.699219 6.992188 21.761719 5.742188 21.699219 5.164062 C 21.496094 3.296875 20.664062 1.964844 19.003906 0.855469 C 18.480469 0.503906 18.457031 0.5 18.214844 0.632812\"/>\n",
              "</g>\n",
              "      </svg>\n",
              "    "
            ]
          },
          "metadata": {}
        }
      ]
    },
    {
      "cell_type": "code",
      "source": [
        ""
      ],
      "metadata": {
        "id": "SB7hBiSMRq4J"
      },
      "execution_count": null,
      "outputs": []
    },
    {
      "cell_type": "code",
      "metadata": {
        "colab": {
          "base_uri": "https://localhost:8080/",
          "height": 521
        },
        "id": "YJOgrt7KZmis",
        "outputId": "0e9fe079-9579-42f2-a3be-9d05eb74f892"
      },
      "source": [
        "from ColabTurtle.Turtle import *\n",
        "initializeTurtle()\n",
        "#cambiamos el color del background\n",
        "bgcolor(\"#efefef\")\n",
        "color('mediumblue')\n",
        "\n",
        "#dibujamos letra H\n",
        "penup()\n",
        "goto(100, 250)\n",
        "pendown()\n",
        "forward(100)\n",
        "penup()\n",
        "goto(80, 250)\n",
        "pendown()\n",
        "forward(100)\n",
        "right(180)\n",
        "forward(50)\n",
        "left(90)\n",
        "forward(20)\n",
        "#right(180)\n",
        "\n",
        "#letra O\n",
        "penup()\n",
        "right(90)\n",
        "forward(50)\n",
        "left(90)\n",
        "forward(50)\n",
        "left(90)\n",
        "backward(10)\n",
        "pendown()\n",
        "speed(10)\n",
        "for i in range(18):\n",
        "    forward(17)\n",
        "    right(20)\n",
        "\n",
        "#letra L\n",
        "penup()\n",
        "speed(7)\n",
        "right(90)\n",
        "forward(160)\n",
        "left(90)\n",
        "forward(60)\n",
        "right(180)\n",
        "pendown()\n",
        "forward(100)\n",
        "left(90)\n",
        "forward(80)\n",
        "penup()\n",
        "\n",
        "#letra A\n",
        "penup()\n",
        "goto(400, 250)\n",
        "right(90)\n",
        "forward(40)\n",
        "pendown()\n",
        "left(155)\n",
        "forward(105)\n",
        "right(130)\n",
        "forward(105)\n",
        "backward(45)\n",
        "right(115)\n",
        "forward(50)\n",
        "penup()\n",
        "\n",
        "backward(70)\n",
        "left(90)\n",
        "forward(100)\n",
        "right(90)\n",
        "pencolor('black')\n",
        "pensize(7)\n",
        "pendown()\n",
        "forward(650)\n",
        "left(180)\n",
        "speed(12)\n",
        "for i in range(90):\n",
        "    forward(7)\n",
        "    right(0.2)\n",
        "speed(2)\n",
        "left(18+180)\n",
        "\n",
        "write(\"Programación ING1302\", align=\"center\", font=(25, \"Arial\", \"italic\"))\n"
      ],
      "execution_count": 17,
      "outputs": [
        {
          "output_type": "display_data",
          "data": {
            "text/plain": [
              "<IPython.core.display.HTML object>"
            ],
            "text/html": [
              "\n",
              "      <svg width=\"800\" height=\"500\">\n",
              "        <rect width=\"100%\" height=\"100%\" fill=\"#efefef\"/>\n",
              "        <line x1=\"100\" y1=\"250\" x2=\"100.0\" y2=\"150.0\" stroke-linecap=\"round\" style=\"stroke:mediumblue;stroke-width:4\"/><line x1=\"80\" y1=\"250\" x2=\"80.0\" y2=\"150.0\" stroke-linecap=\"round\" style=\"stroke:mediumblue;stroke-width:4\"/><line x1=\"80.0\" y1=\"150.0\" x2=\"80.0\" y2=\"200.0\" stroke-linecap=\"round\" style=\"stroke:mediumblue;stroke-width:4\"/><line x1=\"80.0\" y1=\"200.0\" x2=\"100.0\" y2=\"200.0\" stroke-linecap=\"round\" style=\"stroke:mediumblue;stroke-width:4\"/><line x1=\"150.0\" y1=\"260.0\" x2=\"150.0\" y2=\"243.0\" stroke-linecap=\"round\" style=\"stroke:mediumblue;stroke-width:4\"/><line x1=\"150.0\" y1=\"243.0\" x2=\"155.814\" y2=\"227.025\" stroke-linecap=\"round\" style=\"stroke:mediumblue;stroke-width:4\"/><line x1=\"155.814\" y1=\"227.025\" x2=\"166.741\" y2=\"214.002\" stroke-linecap=\"round\" style=\"stroke:mediumblue;stroke-width:4\"/><line x1=\"166.741\" y1=\"214.002\" x2=\"181.463\" y2=\"205.502\" stroke-linecap=\"round\" style=\"stroke:mediumblue;stroke-width:4\"/><line x1=\"181.463\" y1=\"205.502\" x2=\"198.205\" y2=\"202.55\" stroke-linecap=\"round\" style=\"stroke:mediumblue;stroke-width:4\"/><line x1=\"198.205\" y1=\"202.55\" x2=\"214.947\" y2=\"205.502\" stroke-linecap=\"round\" style=\"stroke:mediumblue;stroke-width:4\"/><line x1=\"214.947\" y1=\"205.502\" x2=\"229.669\" y2=\"214.002\" stroke-linecap=\"round\" style=\"stroke:mediumblue;stroke-width:4\"/><line x1=\"229.669\" y1=\"214.002\" x2=\"240.596\" y2=\"227.025\" stroke-linecap=\"round\" style=\"stroke:mediumblue;stroke-width:4\"/><line x1=\"240.596\" y1=\"227.025\" x2=\"246.41\" y2=\"243.0\" stroke-linecap=\"round\" style=\"stroke:mediumblue;stroke-width:4\"/><line x1=\"246.41\" y1=\"243.0\" x2=\"246.41\" y2=\"260.0\" stroke-linecap=\"round\" style=\"stroke:mediumblue;stroke-width:4\"/><line x1=\"246.41\" y1=\"260.0\" x2=\"240.596\" y2=\"275.975\" stroke-linecap=\"round\" style=\"stroke:mediumblue;stroke-width:4\"/><line x1=\"240.596\" y1=\"275.975\" x2=\"229.669\" y2=\"288.998\" stroke-linecap=\"round\" style=\"stroke:mediumblue;stroke-width:4\"/><line x1=\"229.669\" y1=\"288.998\" x2=\"214.947\" y2=\"297.498\" stroke-linecap=\"round\" style=\"stroke:mediumblue;stroke-width:4\"/><line x1=\"214.947\" y1=\"297.498\" x2=\"198.205\" y2=\"300.45\" stroke-linecap=\"round\" style=\"stroke:mediumblue;stroke-width:4\"/><line x1=\"198.205\" y1=\"300.45\" x2=\"181.463\" y2=\"297.498\" stroke-linecap=\"round\" style=\"stroke:mediumblue;stroke-width:4\"/><line x1=\"181.463\" y1=\"297.498\" x2=\"166.741\" y2=\"288.998\" stroke-linecap=\"round\" style=\"stroke:mediumblue;stroke-width:4\"/><line x1=\"166.741\" y1=\"288.998\" x2=\"155.814\" y2=\"275.975\" stroke-linecap=\"round\" style=\"stroke:mediumblue;stroke-width:4\"/><line x1=\"155.814\" y1=\"275.975\" x2=\"150.0\" y2=\"260.0\" stroke-linecap=\"round\" style=\"stroke:mediumblue;stroke-width:4\"/><line x1=\"310.0\" y1=\"200.0\" x2=\"310.0\" y2=\"300.0\" stroke-linecap=\"round\" style=\"stroke:mediumblue;stroke-width:4\"/><line x1=\"310.0\" y1=\"300.0\" x2=\"390.0\" y2=\"300.0\" stroke-linecap=\"round\" style=\"stroke:mediumblue;stroke-width:4\"/><line x1=\"400.0\" y1=\"290.0\" x2=\"444.375\" y2=\"194.838\" stroke-linecap=\"round\" style=\"stroke:mediumblue;stroke-width:4\"/><line x1=\"444.375\" y1=\"194.838\" x2=\"488.75\" y2=\"290.0\" stroke-linecap=\"round\" style=\"stroke:mediumblue;stroke-width:4\"/><line x1=\"488.75\" y1=\"290.0\" x2=\"469.732\" y2=\"249.216\" stroke-linecap=\"round\" style=\"stroke:mediumblue;stroke-width:4\"/><line x1=\"469.732\" y1=\"249.216\" x2=\"419.732\" y2=\"249.216\" stroke-linecap=\"round\" style=\"stroke:mediumblue;stroke-width:4\"/><line x1=\"489.732\" y1=\"349.216\" x2=\"-160.268\" y2=\"349.216\" stroke-linecap=\"round\" style=\"stroke:black;stroke-width:7\"/><line x1=\"-160.268\" y1=\"349.216\" x2=\"-153.268\" y2=\"349.216\" stroke-linecap=\"round\" style=\"stroke:black;stroke-width:7\"/><line x1=\"-153.268\" y1=\"349.216\" x2=\"-146.268\" y2=\"349.24\" stroke-linecap=\"round\" style=\"stroke:black;stroke-width:7\"/><line x1=\"-146.268\" y1=\"349.24\" x2=\"-139.268\" y2=\"349.289\" stroke-linecap=\"round\" style=\"stroke:black;stroke-width:7\"/><line x1=\"-139.268\" y1=\"349.289\" x2=\"-132.268\" y2=\"349.362\" stroke-linecap=\"round\" style=\"stroke:black;stroke-width:7\"/><line x1=\"-132.268\" y1=\"349.362\" x2=\"-125.269\" y2=\"349.46\" stroke-linecap=\"round\" style=\"stroke:black;stroke-width:7\"/><line x1=\"-125.269\" y1=\"349.46\" x2=\"-118.27\" y2=\"349.582\" stroke-linecap=\"round\" style=\"stroke:black;stroke-width:7\"/><line x1=\"-118.27\" y1=\"349.582\" x2=\"-111.272\" y2=\"349.729\" stroke-linecap=\"round\" style=\"stroke:black;stroke-width:7\"/><line x1=\"-111.272\" y1=\"349.729\" x2=\"-104.274\" y2=\"349.9\" stroke-linecap=\"round\" style=\"stroke:black;stroke-width:7\"/><line x1=\"-104.274\" y1=\"349.9\" x2=\"-97.277\" y2=\"350.095\" stroke-linecap=\"round\" style=\"stroke:black;stroke-width:7\"/><line x1=\"-97.277\" y1=\"350.095\" x2=\"-90.28\" y2=\"350.315\" stroke-linecap=\"round\" style=\"stroke:black;stroke-width:7\"/><line x1=\"-90.28\" y1=\"350.315\" x2=\"-83.284\" y2=\"350.559\" stroke-linecap=\"round\" style=\"stroke:black;stroke-width:7\"/><line x1=\"-83.284\" y1=\"350.559\" x2=\"-76.289\" y2=\"350.828\" stroke-linecap=\"round\" style=\"stroke:black;stroke-width:7\"/><line x1=\"-76.289\" y1=\"350.828\" x2=\"-69.295\" y2=\"351.121\" stroke-linecap=\"round\" style=\"stroke:black;stroke-width:7\"/><line x1=\"-69.295\" y1=\"351.121\" x2=\"-62.302\" y2=\"351.439\" stroke-linecap=\"round\" style=\"stroke:black;stroke-width:7\"/><line x1=\"-62.302\" y1=\"351.439\" x2=\"-55.31\" y2=\"351.781\" stroke-linecap=\"round\" style=\"stroke:black;stroke-width:7\"/><line x1=\"-55.31\" y1=\"351.781\" x2=\"-48.32\" y2=\"352.147\" stroke-linecap=\"round\" style=\"stroke:black;stroke-width:7\"/><line x1=\"-48.32\" y1=\"352.147\" x2=\"-41.331\" y2=\"352.538\" stroke-linecap=\"round\" style=\"stroke:black;stroke-width:7\"/><line x1=\"-41.331\" y1=\"352.538\" x2=\"-34.343\" y2=\"352.953\" stroke-linecap=\"round\" style=\"stroke:black;stroke-width:7\"/><line x1=\"-34.343\" y1=\"352.953\" x2=\"-27.357\" y2=\"353.393\" stroke-linecap=\"round\" style=\"stroke:black;stroke-width:7\"/><line x1=\"-27.357\" y1=\"353.393\" x2=\"-20.372\" y2=\"353.857\" stroke-linecap=\"round\" style=\"stroke:black;stroke-width:7\"/><line x1=\"-20.372\" y1=\"353.857\" x2=\"-13.389\" y2=\"354.345\" stroke-linecap=\"round\" style=\"stroke:black;stroke-width:7\"/><line x1=\"-13.389\" y1=\"354.345\" x2=\"-6.408\" y2=\"354.858\" stroke-linecap=\"round\" style=\"stroke:black;stroke-width:7\"/><line x1=\"-6.408\" y1=\"354.858\" x2=\"0.571\" y2=\"355.395\" stroke-linecap=\"round\" style=\"stroke:black;stroke-width:7\"/><line x1=\"0.571\" y1=\"355.395\" x2=\"7.548\" y2=\"355.956\" stroke-linecap=\"round\" style=\"stroke:black;stroke-width:7\"/><line x1=\"7.548\" y1=\"355.956\" x2=\"14.523\" y2=\"356.542\" stroke-linecap=\"round\" style=\"stroke:black;stroke-width:7\"/><line x1=\"14.523\" y1=\"356.542\" x2=\"21.496\" y2=\"357.152\" stroke-linecap=\"round\" style=\"stroke:black;stroke-width:7\"/><line x1=\"21.496\" y1=\"357.152\" x2=\"28.467\" y2=\"357.786\" stroke-linecap=\"round\" style=\"stroke:black;stroke-width:7\"/><line x1=\"28.467\" y1=\"357.786\" x2=\"35.436\" y2=\"358.445\" stroke-linecap=\"round\" style=\"stroke:black;stroke-width:7\"/><line x1=\"35.436\" y1=\"358.445\" x2=\"42.403\" y2=\"359.128\" stroke-linecap=\"round\" style=\"stroke:black;stroke-width:7\"/><line x1=\"42.403\" y1=\"359.128\" x2=\"49.367\" y2=\"359.835\" stroke-linecap=\"round\" style=\"stroke:black;stroke-width:7\"/><line x1=\"49.367\" y1=\"359.835\" x2=\"56.329\" y2=\"360.567\" stroke-linecap=\"round\" style=\"stroke:black;stroke-width:7\"/><line x1=\"56.329\" y1=\"360.567\" x2=\"63.288\" y2=\"361.323\" stroke-linecap=\"round\" style=\"stroke:black;stroke-width:7\"/><line x1=\"63.288\" y1=\"361.323\" x2=\"70.244\" y2=\"362.103\" stroke-linecap=\"round\" style=\"stroke:black;stroke-width:7\"/><line x1=\"70.244\" y1=\"362.103\" x2=\"77.198\" y2=\"362.908\" stroke-linecap=\"round\" style=\"stroke:black;stroke-width:7\"/><line x1=\"77.198\" y1=\"362.908\" x2=\"84.149\" y2=\"363.737\" stroke-linecap=\"round\" style=\"stroke:black;stroke-width:7\"/><line x1=\"84.149\" y1=\"363.737\" x2=\"91.097\" y2=\"364.59\" stroke-linecap=\"round\" style=\"stroke:black;stroke-width:7\"/><line x1=\"91.097\" y1=\"364.59\" x2=\"98.042\" y2=\"365.467\" stroke-linecap=\"round\" style=\"stroke:black;stroke-width:7\"/><line x1=\"98.042\" y1=\"365.467\" x2=\"104.984\" y2=\"366.369\" stroke-linecap=\"round\" style=\"stroke:black;stroke-width:7\"/><line x1=\"104.984\" y1=\"366.369\" x2=\"111.923\" y2=\"367.295\" stroke-linecap=\"round\" style=\"stroke:black;stroke-width:7\"/><line x1=\"111.923\" y1=\"367.295\" x2=\"118.858\" y2=\"368.245\" stroke-linecap=\"round\" style=\"stroke:black;stroke-width:7\"/><line x1=\"118.858\" y1=\"368.245\" x2=\"125.79\" y2=\"369.219\" stroke-linecap=\"round\" style=\"stroke:black;stroke-width:7\"/><line x1=\"125.79\" y1=\"369.219\" x2=\"132.718\" y2=\"370.217\" stroke-linecap=\"round\" style=\"stroke:black;stroke-width:7\"/><line x1=\"132.718\" y1=\"370.217\" x2=\"139.643\" y2=\"371.24\" stroke-linecap=\"round\" style=\"stroke:black;stroke-width:7\"/><line x1=\"139.643\" y1=\"371.24\" x2=\"146.564\" y2=\"372.287\" stroke-linecap=\"round\" style=\"stroke:black;stroke-width:7\"/><line x1=\"146.564\" y1=\"372.287\" x2=\"153.482\" y2=\"373.358\" stroke-linecap=\"round\" style=\"stroke:black;stroke-width:7\"/><line x1=\"153.482\" y1=\"373.358\" x2=\"160.396\" y2=\"374.453\" stroke-linecap=\"round\" style=\"stroke:black;stroke-width:7\"/><line x1=\"160.396\" y1=\"374.453\" x2=\"167.306\" y2=\"375.572\" stroke-linecap=\"round\" style=\"stroke:black;stroke-width:7\"/><line x1=\"167.306\" y1=\"375.572\" x2=\"174.212\" y2=\"376.715\" stroke-linecap=\"round\" style=\"stroke:black;stroke-width:7\"/><line x1=\"174.212\" y1=\"376.715\" x2=\"181.114\" y2=\"377.882\" stroke-linecap=\"round\" style=\"stroke:black;stroke-width:7\"/><line x1=\"181.114\" y1=\"377.882\" x2=\"188.012\" y2=\"379.073\" stroke-linecap=\"round\" style=\"stroke:black;stroke-width:7\"/><line x1=\"188.012\" y1=\"379.073\" x2=\"194.906\" y2=\"380.289\" stroke-linecap=\"round\" style=\"stroke:black;stroke-width:7\"/><line x1=\"194.906\" y1=\"380.289\" x2=\"201.795\" y2=\"381.529\" stroke-linecap=\"round\" style=\"stroke:black;stroke-width:7\"/><line x1=\"201.795\" y1=\"381.529\" x2=\"208.68\" y2=\"382.793\" stroke-linecap=\"round\" style=\"stroke:black;stroke-width:7\"/><line x1=\"208.68\" y1=\"382.793\" x2=\"215.561\" y2=\"384.081\" stroke-linecap=\"round\" style=\"stroke:black;stroke-width:7\"/><line x1=\"215.561\" y1=\"384.081\" x2=\"222.437\" y2=\"385.393\" stroke-linecap=\"round\" style=\"stroke:black;stroke-width:7\"/><line x1=\"222.437\" y1=\"385.393\" x2=\"229.308\" y2=\"386.729\" stroke-linecap=\"round\" style=\"stroke:black;stroke-width:7\"/><line x1=\"229.308\" y1=\"386.729\" x2=\"236.175\" y2=\"388.089\" stroke-linecap=\"round\" style=\"stroke:black;stroke-width:7\"/><line x1=\"236.175\" y1=\"388.089\" x2=\"243.037\" y2=\"389.473\" stroke-linecap=\"round\" style=\"stroke:black;stroke-width:7\"/><line x1=\"243.037\" y1=\"389.473\" x2=\"249.894\" y2=\"390.881\" stroke-linecap=\"round\" style=\"stroke:black;stroke-width:7\"/><line x1=\"249.894\" y1=\"390.881\" x2=\"256.746\" y2=\"392.312\" stroke-linecap=\"round\" style=\"stroke:black;stroke-width:7\"/><line x1=\"256.746\" y1=\"392.312\" x2=\"263.593\" y2=\"393.767\" stroke-linecap=\"round\" style=\"stroke:black;stroke-width:7\"/><line x1=\"263.593\" y1=\"393.767\" x2=\"270.435\" y2=\"395.246\" stroke-linecap=\"round\" style=\"stroke:black;stroke-width:7\"/><line x1=\"270.435\" y1=\"395.246\" x2=\"277.272\" y2=\"396.749\" stroke-linecap=\"round\" style=\"stroke:black;stroke-width:7\"/><line x1=\"277.272\" y1=\"396.749\" x2=\"284.103\" y2=\"398.276\" stroke-linecap=\"round\" style=\"stroke:black;stroke-width:7\"/><line x1=\"284.103\" y1=\"398.276\" x2=\"290.929\" y2=\"399.827\" stroke-linecap=\"round\" style=\"stroke:black;stroke-width:7\"/><line x1=\"290.929\" y1=\"399.827\" x2=\"297.75\" y2=\"401.402\" stroke-linecap=\"round\" style=\"stroke:black;stroke-width:7\"/><line x1=\"297.75\" y1=\"401.402\" x2=\"304.565\" y2=\"403.0\" stroke-linecap=\"round\" style=\"stroke:black;stroke-width:7\"/><line x1=\"304.565\" y1=\"403.0\" x2=\"311.374\" y2=\"404.622\" stroke-linecap=\"round\" style=\"stroke:black;stroke-width:7\"/><line x1=\"311.374\" y1=\"404.622\" x2=\"318.178\" y2=\"406.268\" stroke-linecap=\"round\" style=\"stroke:black;stroke-width:7\"/><line x1=\"318.178\" y1=\"406.268\" x2=\"324.976\" y2=\"407.938\" stroke-linecap=\"round\" style=\"stroke:black;stroke-width:7\"/><line x1=\"324.976\" y1=\"407.938\" x2=\"331.768\" y2=\"409.631\" stroke-linecap=\"round\" style=\"stroke:black;stroke-width:7\"/><line x1=\"331.768\" y1=\"409.631\" x2=\"338.554\" y2=\"411.348\" stroke-linecap=\"round\" style=\"stroke:black;stroke-width:7\"/><line x1=\"338.554\" y1=\"411.348\" x2=\"345.334\" y2=\"413.089\" stroke-linecap=\"round\" style=\"stroke:black;stroke-width:7\"/><line x1=\"345.334\" y1=\"413.089\" x2=\"352.108\" y2=\"414.853\" stroke-linecap=\"round\" style=\"stroke:black;stroke-width:7\"/><line x1=\"352.108\" y1=\"414.853\" x2=\"358.876\" y2=\"416.641\" stroke-linecap=\"round\" style=\"stroke:black;stroke-width:7\"/><line x1=\"358.876\" y1=\"416.641\" x2=\"365.637\" y2=\"418.453\" stroke-linecap=\"round\" style=\"stroke:black;stroke-width:7\"/><line x1=\"365.637\" y1=\"418.453\" x2=\"372.392\" y2=\"420.288\" stroke-linecap=\"round\" style=\"stroke:black;stroke-width:7\"/><line x1=\"372.392\" y1=\"420.288\" x2=\"379.141\" y2=\"422.147\" stroke-linecap=\"round\" style=\"stroke:black;stroke-width:7\"/><line x1=\"379.141\" y1=\"422.147\" x2=\"385.883\" y2=\"424.029\" stroke-linecap=\"round\" style=\"stroke:black;stroke-width:7\"/><line x1=\"385.883\" y1=\"424.029\" x2=\"392.619\" y2=\"425.935\" stroke-linecap=\"round\" style=\"stroke:black;stroke-width:7\"/><line x1=\"392.619\" y1=\"425.935\" x2=\"399.348\" y2=\"427.864\" stroke-linecap=\"round\" style=\"stroke:black;stroke-width:7\"/><line x1=\"399.348\" y1=\"427.864\" x2=\"406.07\" y2=\"429.817\" stroke-linecap=\"round\" style=\"stroke:black;stroke-width:7\"/><line x1=\"406.07\" y1=\"429.817\" x2=\"412.785\" y2=\"431.793\" stroke-linecap=\"round\" style=\"stroke:black;stroke-width:7\"/><line x1=\"412.785\" y1=\"431.793\" x2=\"419.493\" y2=\"433.793\" stroke-linecap=\"round\" style=\"stroke:black;stroke-width:7\"/><line x1=\"419.493\" y1=\"433.793\" x2=\"426.194\" y2=\"435.816\" stroke-linecap=\"round\" style=\"stroke:black;stroke-width:7\"/><line x1=\"426.194\" y1=\"435.816\" x2=\"432.888\" y2=\"437.863\" stroke-linecap=\"round\" style=\"stroke:black;stroke-width:7\"/><line x1=\"432.888\" y1=\"437.863\" x2=\"439.575\" y2=\"439.933\" stroke-linecap=\"round\" style=\"stroke:black;stroke-width:7\"/><line x1=\"439.575\" y1=\"439.933\" x2=\"446.255\" y2=\"442.026\" stroke-linecap=\"round\" style=\"stroke:black;stroke-width:7\"/><line x1=\"446.255\" y1=\"442.026\" x2=\"452.927\" y2=\"444.143\" stroke-linecap=\"round\" style=\"stroke:black;stroke-width:7\"/><line x1=\"452.927\" y1=\"444.143\" x2=\"459.592\" y2=\"446.283\" stroke-linecap=\"round\" style=\"stroke:black;stroke-width:7\"/><text x=\"459.592\" y=\"446.283\" fill=\"black\" text-anchor=\"middle\" style=\"font-size:25px;font-family:'Arial';font-style:italic;\">Programación ING1302</text>\n",
              "        <g visibility=visible transform=\"rotate(270.0,459.592,446.283) translate(441.592, 428.283)\">\n",
              "<path style=\" stroke:none;fill-rule:evenodd;fill:black;fill-opacity:1;\" d=\"M 18.214844 0.632812 C 16.109375 1.800781 15.011719 4.074219 15.074219 7.132812 L 15.085938 7.652344 L 14.785156 7.496094 C 13.476562 6.824219 11.957031 6.671875 10.40625 7.066406 C 8.46875 7.550781 6.515625 9.15625 4.394531 11.992188 C 3.0625 13.777344 2.679688 14.636719 3.042969 15.027344 L 3.15625 15.152344 L 3.519531 15.152344 C 4.238281 15.152344 4.828125 14.886719 8.1875 13.039062 C 9.386719 12.378906 10.371094 11.839844 10.378906 11.839844 C 10.386719 11.839844 10.355469 11.929688 10.304688 12.035156 C 9.832031 13.09375 9.257812 14.820312 8.96875 16.078125 C 7.914062 20.652344 8.617188 24.53125 11.070312 27.660156 C 11.351562 28.015625 11.363281 27.914062 10.972656 28.382812 C 8.925781 30.84375 7.945312 33.28125 8.238281 35.1875 C 8.289062 35.527344 8.28125 35.523438 8.917969 35.523438 C 10.941406 35.523438 13.074219 34.207031 15.136719 31.6875 C 15.359375 31.417969 15.328125 31.425781 15.5625 31.574219 C 16.292969 32.042969 18.023438 32.964844 18.175781 32.964844 C 18.335938 32.964844 19.941406 32.210938 20.828125 31.71875 C 20.996094 31.625 21.136719 31.554688 21.136719 31.558594 C 21.203125 31.664062 21.898438 32.414062 22.222656 32.730469 C 23.835938 34.300781 25.5625 35.132812 27.582031 35.300781 C 27.90625 35.328125 27.9375 35.308594 28.007812 34.984375 C 28.382812 33.242188 27.625 30.925781 25.863281 28.425781 L 25.542969 27.96875 L 25.699219 27.785156 C 28.945312 23.960938 29.132812 18.699219 26.257812 11.96875 L 26.207031 11.84375 L 27.945312 12.703125 C 31.53125 14.476562 32.316406 14.800781 33.03125 14.800781 C 33.976562 14.800781 33.78125 13.9375 32.472656 12.292969 C 28.519531 7.355469 25.394531 5.925781 21.921875 7.472656 L 21.558594 7.636719 L 21.578125 7.542969 C 21.699219 6.992188 21.761719 5.742188 21.699219 5.164062 C 21.496094 3.296875 20.664062 1.964844 19.003906 0.855469 C 18.480469 0.503906 18.457031 0.5 18.214844 0.632812\"/>\n",
              "</g>\n",
              "      </svg>\n",
              "    "
            ]
          },
          "metadata": {}
        }
      ]
    }
  ]
}