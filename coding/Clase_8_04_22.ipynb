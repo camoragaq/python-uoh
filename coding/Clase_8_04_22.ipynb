{
  "nbformat": 4,
  "nbformat_minor": 0,
  "metadata": {
    "colab": {
      "name": "Clase-8-04-22.ipynb",
      "provenance": [],
      "authorship_tag": "ABX9TyPQ1NETb8uhNKuK9HWYOF0Q",
      "include_colab_link": true
    },
    "kernelspec": {
      "name": "python3",
      "display_name": "Python 3"
    },
    "language_info": {
      "name": "python"
    }
  },
  "cells": [
    {
      "cell_type": "markdown",
      "metadata": {
        "id": "view-in-github",
        "colab_type": "text"
      },
      "source": [
        "<a href=\"https://colab.research.google.com/github/camoragaq/python-uoh/blob/main/coding/Clase_8_04_22.ipynb\" target=\"_parent\"><img src=\"https://colab.research.google.com/assets/colab-badge.svg\" alt=\"Open In Colab\"/></a>"
      ]
    },
    {
      "cell_type": "markdown",
      "source": [
        "#Operaciones básicas en Python\n"
      ],
      "metadata": {
        "id": "7sYVEpVmSJhX"
      }
    },
    {
      "cell_type": "code",
      "source": [
        "#suma\n",
        "123+222"
      ],
      "metadata": {
        "colab": {
          "base_uri": "https://localhost:8080/"
        },
        "id": "FM5kro6cSSJJ",
        "outputId": "4cb88219-3647-46e4-dde7-ff73148feb62"
      },
      "execution_count": null,
      "outputs": [
        {
          "output_type": "execute_result",
          "data": {
            "text/plain": [
              "345"
            ]
          },
          "metadata": {},
          "execution_count": 5
        }
      ]
    },
    {
      "cell_type": "code",
      "source": [
        "#multiplicación\n",
        "1.5*4"
      ],
      "metadata": {
        "colab": {
          "base_uri": "https://localhost:8080/"
        },
        "id": "G2kzZT6aSf8h",
        "outputId": "08ebb98d-dcd4-4b0b-eb6a-c1041faf5594"
      },
      "execution_count": null,
      "outputs": [
        {
          "output_type": "execute_result",
          "data": {
            "text/plain": [
              "6.0"
            ]
          },
          "metadata": {},
          "execution_count": 6
        }
      ]
    },
    {
      "cell_type": "code",
      "source": [
        "#exponencial\n",
        "2**100"
      ],
      "metadata": {
        "colab": {
          "base_uri": "https://localhost:8080/"
        },
        "id": "uqUi8G44StRs",
        "outputId": "06b37f26-dc80-4f4e-d762-fd0401f329c3"
      },
      "execution_count": null,
      "outputs": [
        {
          "output_type": "execute_result",
          "data": {
            "text/plain": [
              "1267650600228229401496703205376"
            ]
          },
          "metadata": {},
          "execution_count": 7
        }
      ]
    },
    {
      "cell_type": "code",
      "source": [
        "#definir variables de tipo entero en otros lenguajes\n",
        "int x=10\n",
        "float y=1.5\n"
      ],
      "metadata": {
        "id": "T8KH6Q5LXUn7"
      },
      "execution_count": null,
      "outputs": []
    },
    {
      "cell_type": "code",
      "source": [
        "#python\n",
        "x=100\n",
        "print(x)"
      ],
      "metadata": {
        "colab": {
          "base_uri": "https://localhost:8080/"
        },
        "id": "aJZXfqitXluz",
        "outputId": "cb9a8bbc-b76a-4dda-aabf-a60afcb9a650"
      },
      "execution_count": 1,
      "outputs": [
        {
          "output_type": "stream",
          "name": "stdout",
          "text": [
            "100\n"
          ]
        }
      ]
    },
    {
      "cell_type": "code",
      "source": [
        "#definicion de variables y uso de parentesis para ecuaciones complejas\n",
        "a=10\n",
        "b=20\n",
        "\n",
        "(a*(a+b))/2"
      ],
      "metadata": {
        "colab": {
          "base_uri": "https://localhost:8080/"
        },
        "id": "m1Toi35ZY9Z-",
        "outputId": "3e8c7a1e-6666-42b7-9e5f-fc7d594269af"
      },
      "execution_count": 6,
      "outputs": [
        {
          "output_type": "execute_result",
          "data": {
            "text/plain": [
              "150.0"
            ]
          },
          "metadata": {},
          "execution_count": 6
        }
      ]
    },
    {
      "cell_type": "code",
      "source": [
        "#cambio de parentesis\n",
        "a=10\n",
        "b=20\n",
        "\n",
        "(a*a +(a+b))/2"
      ],
      "metadata": {
        "colab": {
          "base_uri": "https://localhost:8080/"
        },
        "id": "Kx1ACiRBZtyn",
        "outputId": "8aa3e387-4732-4872-e4ae-7c5b8251edca"
      },
      "execution_count": 9,
      "outputs": [
        {
          "output_type": "execute_result",
          "data": {
            "text/plain": [
              "65.0"
            ]
          },
          "metadata": {},
          "execution_count": 9
        }
      ]
    },
    {
      "cell_type": "code",
      "source": [
        "#combinando operaciones\n",
        "a+1, a/2, b**2"
      ],
      "metadata": {
        "colab": {
          "base_uri": "https://localhost:8080/"
        },
        "id": "7Vn7gYSbfe5j",
        "outputId": "8a7b7445-8a89-4715-db2d-11c0fe2e1262"
      },
      "execution_count": 11,
      "outputs": [
        {
          "output_type": "execute_result",
          "data": {
            "text/plain": [
              "(11, 5.0, 400)"
            ]
          },
          "metadata": {},
          "execution_count": 11
        }
      ]
    },
    {
      "cell_type": "code",
      "source": [
        "s = 12.3\n",
        "print(int(s))"
      ],
      "metadata": {
        "colab": {
          "base_uri": "https://localhost:8080/"
        },
        "id": "75iFCpw7ggES",
        "outputId": "c7440644-e050-415f-b7b7-3167132c13aa"
      },
      "execution_count": 16,
      "outputs": [
        {
          "output_type": "stream",
          "name": "stdout",
          "text": [
            "12\n"
          ]
        }
      ]
    },
    {
      "cell_type": "code",
      "source": [
        "#Comparaciones usando >, <, >= , !=, ==\n",
        "print (1>2)\n",
        "print (2.0>=1)\n",
        "a = 5\n",
        "b = 5\n",
        "print (a==b)\n",
        "print (a!=b)\n",
        "\n",
        "#combinaciones usando comparaciones true o false\n",
        "print (1 == 2<3)\n",
        "print (1==2 and 2<3)\n"
      ],
      "metadata": {
        "id": "zd6OI0RVlS_5",
        "outputId": "926a7a4e-137a-4169-aa5f-fe8e5e818249",
        "colab": {
          "base_uri": "https://localhost:8080/"
        }
      },
      "execution_count": 23,
      "outputs": [
        {
          "output_type": "stream",
          "name": "stdout",
          "text": [
            "False\n",
            "True\n",
            "True\n",
            "False\n",
            "False\n",
            "False\n"
          ]
        }
      ]
    }
  ]
}