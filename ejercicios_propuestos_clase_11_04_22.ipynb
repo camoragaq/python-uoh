{
  "nbformat": 4,
  "nbformat_minor": 0,
  "metadata": {
    "colab": {
      "name": "ejercicios-propuestos-clase-11-04-22.ipynb",
      "provenance": [],
      "collapsed_sections": [],
      "authorship_tag": "ABX9TyO7wEJ7tDecHu4Qp9AQBW/7",
      "include_colab_link": true
    },
    "kernelspec": {
      "name": "python3",
      "display_name": "Python 3"
    },
    "language_info": {
      "name": "python"
    }
  },
  "cells": [
    {
      "cell_type": "markdown",
      "metadata": {
        "id": "view-in-github",
        "colab_type": "text"
      },
      "source": [
        "<a href=\"https://colab.research.google.com/github/camoragaq/python-uoh/blob/main/ejercicios_propuestos_clase_11_04_22.ipynb\" target=\"_parent\"><img src=\"https://colab.research.google.com/assets/colab-badge.svg\" alt=\"Open In Colab\"/></a>"
      ]
    },
    {
      "cell_type": "markdown",
      "source": [
        "#Ejercicios propuestos clase Listas\n",
        "\n",
        "\n",
        "1. Guardar en una lista dinámica sus series de TV favoritas (minímo 10).\n",
        "2. Imprimir mensaje que diga: \"Mi serie favorita es \" usando la posición de está en la lista.\n",
        "3. Imprimir las 3 series favoritas usando mayusculas.\n",
        "4. Usar la función input() para preguntar por la serie favorita y mostrarla.\n",
        "5. Usar la función la sort() para ordenar la lista por orden alfabético.\n",
        "\n",
        "\n"
      ],
      "metadata": {
        "id": "qtUcHJs640uT"
      }
    }
  ]
}