{
  "nbformat": 4,
  "nbformat_minor": 0,
  "metadata": {
    "colab": {
      "name": "ejercicios-propuestos-clase-11-04-22.ipynb",
      "provenance": [],
      "collapsed_sections": [],
      "authorship_tag": "ABX9TyNrSYCmFqDqPqY0ggm+b46j",
      "include_colab_link": true
    },
    "kernelspec": {
      "name": "python3",
      "display_name": "Python 3"
    },
    "language_info": {
      "name": "python"
    }
  },
  "cells": [
    {
      "cell_type": "markdown",
      "metadata": {
        "id": "view-in-github",
        "colab_type": "text"
      },
      "source": [
        "<a href=\"https://colab.research.google.com/github/camoragaq/python-uoh/blob/main/ejercicios_propuestos_clase_11_04_22.ipynb\" target=\"_parent\"><img src=\"https://colab.research.google.com/assets/colab-badge.svg\" alt=\"Open In Colab\"/></a>"
      ]
    },
    {
      "cell_type": "markdown",
      "source": [
        "#Ejercicios propuestos clase Listas\n",
        "\n",
        "\n",
        "1. Guardar en una lista dinámica sus series de TV favoritas (minímo 10).\n",
        "2. Imprimir mensaje que diga: \"Mi serie favorita es \" usando la posición de está en la lista.\n",
        "3. Imprimir las 3 series favoritas usando mayusculas.\n",
        "4. Usar la función input() para preguntar por la serie favorita y mostrarla.\n",
        "5. Usar la función la sort() para ordenar la lista por orden alfabético.\n",
        "\n",
        "\n"
      ],
      "metadata": {
        "id": "qtUcHJs640uT"
      }
    },
    {
      "cell_type": "code",
      "source": [
        "#ejercicio 1\n",
        "series = [\"Lost\",\"breaking bad\",\"how I meet your mother?\",\"Dark\"]\n",
        "print (series)\n",
        "#ejercicio 2\n",
        "print (\"mi serie favorita es \"+ series[2])\n",
        "#ejercicio 3 \n",
        "print(\"Series:\",series[0].upper(),\"\\n\",series[1].upper(),\"\\n\",series[2].upper())\n",
        "# ejercicio 4\n",
        "print(\"cual es tu serie favorita?\")\n",
        "res=input()\n",
        "print(\"your favorite serie is :\"+res)\n",
        "#ejercicio 5 \n",
        "print(\"sorting list\")\n",
        "print(\"Unordered:\\n\",series)\n",
        "series.sort()\n",
        "print(\"Alphabetical order:\\n\",series)\n",
        "#reverse order\n",
        "series.sort(reverse=True)\n",
        "print(\"Reverse order:\\n\",series)"
      ],
      "metadata": {
        "colab": {
          "base_uri": "https://localhost:8080/"
        },
        "id": "ushD6k8XLLw_",
        "outputId": "7fcf785a-a60a-453e-8360-6c4de34b71da"
      },
      "execution_count": 16,
      "outputs": [
        {
          "output_type": "stream",
          "name": "stdout",
          "text": [
            "['Lost', 'breaking bad', 'how I meet your mother?', 'Dark']\n",
            "mi serie favorita es how I meet your mother?\n",
            "Series: LOST \n",
            " BREAKING BAD \n",
            " HOW I MEET YOUR MOTHER?\n",
            "cual es tu serie favorita?\n",
            "how i meet\n",
            "your favorite serie is :how i meet\n",
            "sorting list\n",
            "Unordered:\n",
            " ['Lost', 'breaking bad', 'how I meet your mother?', 'Dark']\n",
            "Alphabetical order:\n",
            " ['Dark', 'Lost', 'breaking bad', 'how I meet your mother?']\n",
            "Reverse order:\n",
            " ['how I meet your mother?', 'breaking bad', 'Lost', 'Dark']\n"
          ]
        }
      ]
    }
  ]
}