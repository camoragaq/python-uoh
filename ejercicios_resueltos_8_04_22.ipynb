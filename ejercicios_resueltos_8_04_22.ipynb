{
  "nbformat": 4,
  "nbformat_minor": 0,
  "metadata": {
    "colab": {
      "name": "ejercicios-resueltos-8-04-22.ipynb",
      "provenance": [],
      "collapsed_sections": [],
      "authorship_tag": "ABX9TyNtkXuK00OEhR0r1B0Z7py5",
      "include_colab_link": true
    },
    "kernelspec": {
      "name": "python3",
      "display_name": "Python 3"
    },
    "language_info": {
      "name": "python"
    }
  },
  "cells": [
    {
      "cell_type": "markdown",
      "metadata": {
        "id": "view-in-github",
        "colab_type": "text"
      },
      "source": [
        "<a href=\"https://colab.research.google.com/github/camoragaq/python-uoh/blob/main/ejercicios_resueltos_8_04_22.ipynb\" target=\"_parent\"><img src=\"https://colab.research.google.com/assets/colab-badge.svg\" alt=\"Open In Colab\"/></a>"
      ]
    },
    {
      "cell_type": "markdown",
      "source": [
        "ejercicio clase String\n",
        "- ejercicios propuestos:\n",
        "1. operaciones con ecuaciones algebraicas posibles que den como resultado 100.\n",
        "2. Imprimir mensaje que diga: \"Mi número favorito es 5.\"\n",
        "3. Escribir mensaje combinando string y números que diga: \" Hola Juanito Perez de 30 años!\"\n",
        "4. Escribir palíndromos usando [::-1]\n",
        "5. Guardar string con el abecedario e imprimir su nombre con mayúsculas. "
      ],
      "metadata": {
        "id": "nSnOwMoFIhro"
      }
    },
    {
      "cell_type": "code",
      "source": [
        "#nuestro primer codigo\n",
        "nombre = \"juanito perez\"\n",
        "apellido = \"perez\"\n",
        "edad = \"20\"\n",
        "\n",
        "mensaje = \"Hola \"+nombre.title()+\" de \"+edad+\" años!\"\n",
        "print(mensaje)"
      ],
      "metadata": {
        "colab": {
          "base_uri": "https://localhost:8080/"
        },
        "id": "AooEekzKIlmu",
        "outputId": "47e38b20-b7a3-41f4-bda8-9253e30bcd87"
      },
      "execution_count": 2,
      "outputs": [
        {
          "output_type": "stream",
          "name": "stdout",
          "text": [
            "Hola Juanito Perez de 20 años!\n"
          ]
        }
      ]
    },
    {
      "cell_type": "code",
      "source": [
        "#nuestro primer codigo\n",
        "nombre = \"juanito perez\"\n",
        "apellido = \"perez\"\n",
        "edad = \"30\"\n",
        "#edad=int(edad)\n",
        "\n",
        "\n",
        "mensaje = \"Hola \"+nombre.title()+\" de \"+edad+\" años!\"\n",
        "print(mensaje)"
      ],
      "metadata": {
        "colab": {
          "base_uri": "https://localhost:8080/"
        },
        "id": "Fd3jrIFVCQov",
        "outputId": "674d8b8f-11ec-420e-d9b8-060599169afb"
      },
      "execution_count": 9,
      "outputs": [
        {
          "output_type": "stream",
          "name": "stdout",
          "text": [
            "Hola Juanito Perez de 30 años!\n"
          ]
        }
      ]
    },
    {
      "cell_type": "code",
      "source": [
        "#combinando string con variables numéricas\n",
        "nombre = \"juanito perez\"\n",
        "apellido = \"perez\"\n",
        "edad = 20+10\n",
        "\n",
        "\n",
        "mensaje = \"Hola \"+nombre.title()+\" de \"+str(edad)+\" años!\"\n",
        "print(mensaje)"
      ],
      "metadata": {
        "colab": {
          "base_uri": "https://localhost:8080/"
        },
        "id": "0vAAzxOrCU5O",
        "outputId": "93382518-1c88-4856-8922-f698ebae1699"
      },
      "execution_count": 3,
      "outputs": [
        {
          "output_type": "stream",
          "name": "stdout",
          "text": [
            "Hola Juanito Perez de 30 años!\n"
          ]
        }
      ]
    },
    {
      "cell_type": "code",
      "source": [
        "print(\"Cual es tu numero favorito?\")\n",
        "numero= input()\n",
        "print(\"Tu número favorito es \",numero)"
      ],
      "metadata": {
        "colab": {
          "base_uri": "https://localhost:8080/"
        },
        "id": "VEnvq0oFDUyS",
        "outputId": "30917524-373a-44d4-f65c-427ac58f2284"
      },
      "execution_count": 2,
      "outputs": [
        {
          "output_type": "stream",
          "name": "stdout",
          "text": [
            "Cual es tu numero favorito?\n",
            "6\n",
            "Tu número favorito es  6\n"
          ]
        }
      ]
    },
    {
      "cell_type": "code",
      "source": [
        "s = 'abcdefghijklmnopqrstuvwxyz'\n",
        "nombre = s[2],s[0],s[-9], s[-12], s[11]\n",
        "print (nombre)\n",
        "print(\"\".join(nombre).upper())"
      ],
      "metadata": {
        "colab": {
          "base_uri": "https://localhost:8080/"
        },
        "id": "oitMs_I6DsKT",
        "outputId": "576bbc5f-ddab-4ba7-cae5-1ca02368cb8b"
      },
      "execution_count": 7,
      "outputs": [
        {
          "output_type": "stream",
          "name": "stdout",
          "text": [
            "('c', 'a', 'r', 'o', 'l')\n",
            "CAROL\n"
          ]
        }
      ]
    },
    {
      "cell_type": "code",
      "source": [
        "palabra = \"radar\"\n",
        "print(palabra[::-1])"
      ],
      "metadata": {
        "colab": {
          "base_uri": "https://localhost:8080/"
        },
        "id": "3P2Ul7gBEb6t",
        "outputId": "cc058860-84a9-4596-e43f-5aef8f17a9e6"
      },
      "execution_count": 6,
      "outputs": [
        {
          "output_type": "stream",
          "name": "stdout",
          "text": [
            "radar\n"
          ]
        }
      ]
    }
  ]
}