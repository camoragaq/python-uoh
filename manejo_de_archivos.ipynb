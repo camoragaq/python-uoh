{
  "nbformat": 4,
  "nbformat_minor": 0,
  "metadata": {
    "colab": {
      "name": "manejo-de-archivos.ipynb",
      "provenance": [],
      "collapsed_sections": [],
      "authorship_tag": "ABX9TyP2cgSr/ppbyKMIzId22XoW",
      "include_colab_link": true
    },
    "kernelspec": {
      "name": "python3",
      "display_name": "Python 3"
    },
    "language_info": {
      "name": "python"
    }
  },
  "cells": [
    {
      "cell_type": "markdown",
      "metadata": {
        "id": "view-in-github",
        "colab_type": "text"
      },
      "source": [
        "<a href=\"https://colab.research.google.com/github/camoragaq/python-uoh/blob/main/manejo_de_archivos.ipynb\" target=\"_parent\"><img src=\"https://colab.research.google.com/assets/colab-badge.svg\" alt=\"Open In Colab\"/></a>"
      ]
    },
    {
      "cell_type": "markdown",
      "source": [
        "#Manejando archivos en python"
      ],
      "metadata": {
        "id": "rAeMAi31_h_Y"
      }
    },
    {
      "cell_type": "markdown",
      "source": [
        "Preparé este Notebook especialmente para aprender a trabajar con archivos, así tus programas podrán analizar y exportar datos rápidamente."
      ],
      "metadata": {
        "id": "jS1LDTw53W7i"
      }
    },
    {
      "cell_type": "markdown",
      "source": [
        "1. Leer un archivo\n",
        "\n",
        "Existen distintas formas de leer un archivo y manipular esa información, acá veremos las más utilizadas y necesarias de saber manejar.\n"
      ],
      "metadata": {
        "id": "Zy339tLw3suj"
      }
    },
    {
      "cell_type": "markdown",
      "source": [
        "Lo primero que necesitamos saber es ocupar la función open() que nos permitirá abrir un archivo existente.\n",
        "Luego la función read() recibe el contenido del archivo almacenado en file y lo lee. Además, vemos la función close() que cierra nuestro archivo, un archivo que no se cierra puede perderse o dañarse por lo que es importante siempre después de leer un archivo cerrarlo con esta función."
      ],
      "metadata": {
        "id": "cTKUCqwO8FoJ"
      }
    },
    {
      "cell_type": "code",
      "source": [
        "#otra forma de usar read()\n",
        "file = open(\"file1.txt\", \"r\")\n",
        "print (file.read())\n",
        "\n",
        "file.close()"
      ],
      "metadata": {
        "colab": {
          "base_uri": "https://localhost:8080/"
        },
        "id": "3HeVVNvWAyG_",
        "outputId": "31b9a910-63df-4517-e075-54c877720f32"
      },
      "execution_count": 2,
      "outputs": [
        {
          "output_type": "stream",
          "name": "stdout",
          "text": [
            "hola\n",
            "como\n",
            "estan\n",
            "alumnos\n",
            "de\n",
            "programacion\n",
            "ING1302\n",
            "UOH\n",
            "\n"
          ]
        }
      ]
    },
    {
      "cell_type": "markdown",
      "source": [
        "Existe otra forma de abrir y leer un archivo, la función with+open()+as, que lee el archivo usando open() y lo almacena como un objeto (ya vimos lo que es la programación orientada a objetos):"
      ],
      "metadata": {
        "id": "Sud7wf1qBCmr"
      }
    },
    {
      "cell_type": "code",
      "execution_count": 3,
      "metadata": {
        "colab": {
          "base_uri": "https://localhost:8080/"
        },
        "id": "D6qbMDZyqcDh",
        "outputId": "2385903c-a132-42c9-b9d2-6c8075f8983b"
      },
      "outputs": [
        {
          "output_type": "stream",
          "name": "stdout",
          "text": [
            "carol\n",
            "fernanda\n",
            "luis\n",
            "gabriela\n",
            "maria\n",
            "gonzalo\n",
            "manuel\n",
            "ted\n",
            "liliana\n",
            "roberto\n",
            "\n"
          ]
        }
      ],
      "source": [
        "with open('nombres-alumnos.txt') as file_object:\n",
        "  contents = file_object.read()\n",
        "  print(contents)"
      ]
    },
    {
      "cell_type": "markdown",
      "source": [
        "Para leer el contenido del archivo podemos usar un bucle for:"
      ],
      "metadata": {
        "id": "DBwv56-aFC8I"
      }
    },
    {
      "cell_type": "code",
      "source": [
        "file = open('nombres-alumnos.txt', 'r')\n",
        "for each in file:\n",
        "    print (each)"
      ],
      "metadata": {
        "colab": {
          "base_uri": "https://localhost:8080/"
        },
        "id": "tv377Oue_Co-",
        "outputId": "8c41c1b9-8907-47aa-b5ea-d92e1e6c0521"
      },
      "execution_count": 66,
      "outputs": [
        {
          "output_type": "stream",
          "name": "stdout",
          "text": [
            "carol\n",
            "\n",
            "fernanda\n",
            "\n",
            "luis\n",
            "\n",
            "gabriela\n",
            "\n",
            "maria\n",
            "\n",
            "gonzalo\n",
            "\n",
            "manuel\n",
            "\n",
            "ted\n",
            "\n",
            "liliana\n",
            "\n",
            "roberto\n",
            "\n"
          ]
        }
      ]
    },
    {
      "cell_type": "markdown",
      "source": [
        "La línea blanca que aparece extra por los caracteres que están al final de cada línea, caracteres que no se ven como el salto de línea '\\n'. Para eliminar estos caracteres se ocupa rstrip() o lstrip() que hace lo mismo, pero saca el primer caracter a la derecha o el primero a la izquierda."
      ],
      "metadata": {
        "id": "vFf3oGr0FgyQ"
      }
    },
    {
      "cell_type": "code",
      "source": [
        "filename = 'nombres-alumnos.txt'\n",
        "with open(filename) as file_object:    \n",
        "     for line in file_object:\n",
        "        print(line.rstrip())"
      ],
      "metadata": {
        "colab": {
          "base_uri": "https://localhost:8080/"
        },
        "id": "wPPAx2O_FXoW",
        "outputId": "a049e061-349a-40b8-d872-cf3012f9e50b"
      },
      "execution_count": 5,
      "outputs": [
        {
          "output_type": "stream",
          "name": "stdout",
          "text": [
            "carol\n",
            "fernanda\n",
            "luis\n",
            "gabriela\n",
            "maria\n",
            "gonzalo\n",
            "manuel\n",
            "ted\n",
            "liliana\n",
            "roberto\n"
          ]
        }
      ]
    },
    {
      "cell_type": "markdown",
      "source": [
        "Acá introducimos una forma de lectura que es leer línea por línea el archivo, lectura directa o podemos almacenar las líneas en una lista para luego leerlas, para esto usamos la función readlines()."
      ],
      "metadata": {
        "id": "b6v34VQ6GbzC"
      }
    },
    {
      "cell_type": "code",
      "source": [
        "filename = 'nombres-alumnos.txt'\n",
        "with open(filename) as file_object:\n",
        "     lines = file_object.readlines()\n",
        "     \n",
        "for line in lines:\n",
        "     print(line.rstrip())"
      ],
      "metadata": {
        "colab": {
          "base_uri": "https://localhost:8080/"
        },
        "id": "XORun-h-GoQd",
        "outputId": "5028fd09-4379-40c6-92ca-e31090f80dba"
      },
      "execution_count": 6,
      "outputs": [
        {
          "output_type": "stream",
          "name": "stdout",
          "text": [
            "carol\n",
            "fernanda\n",
            "luis\n",
            "gabriela\n",
            "maria\n",
            "gonzalo\n",
            "manuel\n",
            "ted\n",
            "liliana\n",
            "roberto\n"
          ]
        }
      ]
    },
    {
      "cell_type": "markdown",
      "source": [
        "Siempre es mejor leer el contenido del archivo, cerrarlo para resguardar esta información, y luego trabajar el contenido como queramos. Cuando Python lee un archivo, automáticamente guarda esa información como un string, por lo que si son variables númericas debemos leer y transformar a entero o decimal usando las funciones int() y float()."
      ],
      "metadata": {
        "id": "xsfO4cmQG99P"
      }
    },
    {
      "cell_type": "code",
      "source": [
        "filename = 'pi_digits.txt'\n",
        "with open(filename) as file_object:\n",
        "     lines = file_object.readlines()\n",
        "pi_string = ''\n",
        "\n",
        "for line in lines:\n",
        "    pi_string += line.strip()\n",
        "     \n",
        "print(pi_string)\n",
        "print(len(pi_string))"
      ],
      "metadata": {
        "colab": {
          "base_uri": "https://localhost:8080/"
        },
        "id": "Edapl_o5HZsc",
        "outputId": "ba9838b0-f958-4ee8-bdec-cbefec00e80b"
      },
      "execution_count": 12,
      "outputs": [
        {
          "output_type": "stream",
          "name": "stdout",
          "text": [
            "3.141592653589793238462643383279\n",
            "32\n"
          ]
        }
      ]
    },
    {
      "cell_type": "markdown",
      "source": [
        "Como haríamos una suma de los valores almacenados en el archivo?"
      ],
      "metadata": {
        "id": "6YHohhqdJi_C"
      }
    },
    {
      "cell_type": "code",
      "source": [
        "filename = 'pi_digits.txt'\n",
        "with open(filename) as file_object:\n",
        "     lines = file_object.readlines()\n",
        "pi_string = ''\n",
        "suma = 0\n",
        "for line in lines:\n",
        "    pi_string += line.strip()+' '\n",
        "    suma+=float(line.strip())\n",
        "     \n",
        "print(pi_string)\n",
        "print(len(pi_string))\n",
        "print(suma)"
      ],
      "metadata": {
        "colab": {
          "base_uri": "https://localhost:8080/"
        },
        "id": "r1beIw-7I34x",
        "outputId": "6a4455e2-8a9b-40dc-985c-80672bea5339"
      },
      "execution_count": 11,
      "outputs": [
        {
          "output_type": "stream",
          "name": "stdout",
          "text": [
            "3.1415926535 8979323846 2643383279 \n",
            "35\n",
            "11622707128.141592\n"
          ]
        }
      ]
    },
    {
      "cell_type": "markdown",
      "source": [
        "Una forma sencilla de guardar datos, luego de leerlos y manipularlos, es almacenarlos en archivos. Primero para guardar en un archivo vacío, primero creamos el archivo usando la función open() y luego escribimos en el archivo usando la función write()."
      ],
      "metadata": {
        "id": "IHdIkdZ2KSHu"
      }
    },
    {
      "cell_type": "code",
      "source": [
        "file = open('new_file.txt','w')\n",
        "file.write(\"Aqui escribimos lo que queramos en nuestro archivo\\n\")\n",
        "file.write(\"podemos escribir más de una línea\\n\")\n",
        "file.close()"
      ],
      "metadata": {
        "id": "3hFBv4mpA-GP"
      },
      "execution_count": 17,
      "outputs": []
    },
    {
      "cell_type": "markdown",
      "source": [
        "También usando with+open()+as"
      ],
      "metadata": {
        "id": "aOcTk6BEK0uf"
      }
    },
    {
      "cell_type": "code",
      "source": [
        "filename = 'programar.txt'\n",
        "with open(filename, 'w') as file_object:\n",
        "    file_object.write(\"Me gusta Python!\")"
      ],
      "metadata": {
        "id": "ABxN4jWmK4YD"
      },
      "execution_count": 14,
      "outputs": []
    },
    {
      "cell_type": "markdown",
      "source": [
        "El modo append en open(file, 'a') sirve para agregar datos en un archivo existente, lo abre y agrega al final del archivo."
      ],
      "metadata": {
        "id": "ueI4D71GLIEC"
      }
    },
    {
      "cell_type": "code",
      "source": [
        "file = open('new_file.txt','a')\n",
        "file.write(\"Aqui escribimos lo que queramos en nuestro archivo\\n\")\n",
        "file.write(\"podemos escribir más de una línea\\n\")\n",
        "file.close()"
      ],
      "metadata": {
        "id": "kWlQkj0iLS6h"
      },
      "execution_count": 18,
      "outputs": []
    },
    {
      "cell_type": "markdown",
      "source": [
        "open() +'a' usando with+open()+as"
      ],
      "metadata": {
        "id": "FldFv1w6Onvt"
      }
    },
    {
      "cell_type": "code",
      "source": [
        "#el modo 'a' nos permite agregar múltiples líneas a un archivo\n",
        "with open(\"randomfile.txt\", \"a\") as o:\n",
        "    o.write('Hola ')\n",
        "    o.write('como ')\n",
        "    o.write('estas ')"
      ],
      "metadata": {
        "id": "1Tsq8tl3_B0k"
      },
      "execution_count": 8,
      "outputs": []
    },
    {
      "cell_type": "markdown",
      "source": [
        "Algunas operaciones a considerar:"
      ],
      "metadata": {
        "id": "S6Zzn1CXN4Nt"
      }
    },
    {
      "cell_type": "markdown",
      "source": [
        "Guardar el contenido en una lista, contador por línea y concatenar strings."
      ],
      "metadata": {
        "id": "knRUaeXnN9-F"
      }
    },
    {
      "cell_type": "code",
      "source": [
        "filename = 'nombres-alumnos.txt'\n",
        "with open(filename) as file_object:\n",
        "   lines = file_object.readlines()\n",
        "print(lines)\n",
        "nombres = ''\n",
        "i=0\n",
        "for line in lines:\n",
        "   i+=1\n",
        "   nombres += line.rstrip()+' '\n",
        "   print(i,line.rstrip())\n",
        "\n",
        "     \n",
        "print(nombres)\n",
        "print(len(nombres))#número de caracteres\n",
        "print(i)#número de líneas"
      ],
      "metadata": {
        "colab": {
          "base_uri": "https://localhost:8080/"
        },
        "id": "XjecVqCefGsk",
        "outputId": "ee89e624-e81e-46e6-ddee-50b117b53dac"
      },
      "execution_count": 19,
      "outputs": [
        {
          "output_type": "stream",
          "name": "stdout",
          "text": [
            "['carol\\n', 'fernanda\\n', 'luis\\n', 'gabriela\\n', 'maria\\n', 'gonzalo\\n', 'manuel\\n', 'ted\\n', 'liliana\\n', 'roberto\\n']\n",
            "1 carol\n",
            "2 fernanda\n",
            "3 luis\n",
            "4 gabriela\n",
            "5 maria\n",
            "6 gonzalo\n",
            "7 manuel\n",
            "8 ted\n",
            "9 liliana\n",
            "10 roberto\n",
            "carol fernanda luis gabriela maria gonzalo manuel ted liliana roberto \n",
            "70\n",
            "10\n"
          ]
        }
      ]
    },
    {
      "cell_type": "code",
      "source": [
        "filename = 'nombres-alumnos.txt'\n",
        "with open(filename) as file_object:\n",
        "   lines = file_object.read()\n",
        "print(lines)\n",
        "nombres = ''\n",
        "i=0\n",
        "for line in lines:\n",
        "   i+=1\n",
        "   nombres += line.strip()+' '\n",
        "\n",
        "     \n",
        "print(nombres)\n",
        "print(len(nombres))\n",
        "print(i)"
      ],
      "metadata": {
        "colab": {
          "base_uri": "https://localhost:8080/"
        },
        "id": "-i2HsDTV45zh",
        "outputId": "6f3534f6-24db-4da8-a4ab-0dfdc370040a"
      },
      "execution_count": 48,
      "outputs": [
        {
          "output_type": "stream",
          "name": "stdout",
          "text": [
            "carol\n",
            "fernanda\n",
            "luis\n",
            "gabriela\n",
            "maria\n",
            "gonzalo\n",
            "manuel\n",
            "ted\n",
            "liliana\n",
            "roberto\n",
            "\n",
            "carolfernandaluisgabrielamariagonzalomanueltedlilianaroberto\n",
            "60\n",
            "70\n"
          ]
        }
      ]
    },
    {
      "cell_type": "markdown",
      "source": [
        "vamos a leer y separar string por línea:"
      ],
      "metadata": {
        "id": "5iapALcKPCbL"
      }
    },
    {
      "cell_type": "code",
      "source": [
        "file='animales-cant.txt'\n",
        "animales=open(file,'r')\n",
        "suma=0\n",
        "#leer linea por linea\n",
        "for line in animales:\n",
        "  #sacamos salto de linea y separamos por doble \"-\"\n",
        "   line=line.rstrip()\n",
        "   a=line.split('--')\n",
        "   valor=int(a[1])\n",
        "   suma+=valor\n",
        "\n",
        "print(suma)"
      ],
      "metadata": {
        "colab": {
          "base_uri": "https://localhost:8080/"
        },
        "id": "sLVSutQxPGc6",
        "outputId": "28850cb3-8c32-4e39-a242-916f57c8ba61"
      },
      "execution_count": 41,
      "outputs": [
        {
          "output_type": "stream",
          "name": "stdout",
          "text": [
            "214\n"
          ]
        }
      ]
    },
    {
      "cell_type": "markdown",
      "source": [
        "Necesitamos leer un archivo con los animales y la cantidad, y contar el total de animales:"
      ],
      "metadata": {
        "id": "NJJeko5GRNPe"
      }
    },
    {
      "cell_type": "code",
      "source": [
        "file='animales-cant.txt'\n",
        "animales=open(file,'r')"
      ],
      "metadata": {
        "id": "i6R2sMPRRZKW"
      },
      "execution_count": null,
      "outputs": []
    },
    {
      "cell_type": "markdown",
      "source": [
        "Como usamos un bucle for para crear múltiples archivos?"
      ],
      "metadata": {
        "id": "QLrIf0mePqDT"
      }
    },
    {
      "cell_type": "code",
      "source": [
        "\n",
        "filenames = ['animal1.txt', 'animal2.txt']\n",
        "\n",
        "for f in filenames:\n",
        "    outfile = open(f,'w')\n",
        "    outfile.write('animal x es un mamifero y habita en... bla bla\\n')\n",
        "    outfile.close()\n"
      ],
      "metadata": {
        "id": "hN29o_oO16FK"
      },
      "execution_count": 25,
      "outputs": []
    },
    {
      "cell_type": "markdown",
      "source": [
        "Y si en vez de usar una lista, usamos un contador?"
      ],
      "metadata": {
        "id": "8acJFjcwQVn1"
      }
    },
    {
      "cell_type": "code",
      "source": [
        "i=0\n",
        "for i in range(10):\n",
        "    f = 'animal'+str(i)+'.txt'\n",
        "    outfile = open(f,'w')\n",
        "    outfile.write('animal x es un mamifero y habita en... bla bla\\n')\n",
        "    outfile.close()\n",
        "    i+=1\n",
        "  "
      ],
      "metadata": {
        "id": "r6cWJ2ys3dwr"
      },
      "execution_count": 26,
      "outputs": []
    },
    {
      "cell_type": "markdown",
      "source": [
        "Vamos a mezclar classes y manejo de archivos:"
      ],
      "metadata": {
        "id": "PbKAhcYjQgh-"
      }
    },
    {
      "cell_type": "code",
      "source": [
        "class Archivos():\n",
        "  def __init__(self, nombre_archivo):\n",
        "        self.leer_archivo = ''\n",
        "        print('Abriendo {} para lectura'.format(nombre_archivo))\n",
        "        self.archivo_contenido = open(nombre_archivo, 'r')\n",
        "\n",
        "  def create_file(self, nombre_nuevo, mensaje):\n",
        "        self.nuevo_archivo = nombre_nuevo\n",
        "        self.archivo_contenido = open(nombre_nuevo, 'w')\n",
        "        self.archivo_contenido.write(\"mensaje\")\n",
        "\n",
        "  def cuenta_lineas(self):\n",
        "        self.i = 0\n",
        "        for line in self.archivo_contenido:\n",
        "           self.i +=1\n",
        "        return self.i\n",
        "\n",
        "  \n",
        "\n",
        "        \n",
        "\n",
        "\n",
        "archivo1=Archivos('file1.txt')\n",
        "print(archivo1.cuenta_lineas())"
      ],
      "metadata": {
        "colab": {
          "base_uri": "https://localhost:8080/"
        },
        "id": "uQ5cIls8T21h",
        "outputId": "028a957a-caa0-45d8-acc9-d02a4f4fd195"
      },
      "execution_count": 43,
      "outputs": [
        {
          "output_type": "stream",
          "name": "stdout",
          "text": [
            "Abriendo file1.txt para lectura\n",
            "8\n"
          ]
        }
      ]
    }
  ]
}