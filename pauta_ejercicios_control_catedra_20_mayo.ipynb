{
  "nbformat": 4,
  "nbformat_minor": 0,
  "metadata": {
    "colab": {
      "name": "pauta-ejercicios-control-catedra-20-mayo.ipynb",
      "provenance": [],
      "collapsed_sections": [],
      "authorship_tag": "ABX9TyMabJ9PUyt8ora8x33xqa34",
      "include_colab_link": true
    },
    "kernelspec": {
      "name": "python3",
      "display_name": "Python 3"
    },
    "language_info": {
      "name": "python"
    }
  },
  "cells": [
    {
      "cell_type": "markdown",
      "metadata": {
        "id": "view-in-github",
        "colab_type": "text"
      },
      "source": [
        "<a href=\"https://colab.research.google.com/github/camoragaq/python-uoh/blob/main/pauta_ejercicios_control_catedra_20_mayo.ipynb\" target=\"_parent\"><img src=\"https://colab.research.google.com/assets/colab-badge.svg\" alt=\"Open In Colab\"/></a>"
      ]
    },
    {
      "cell_type": "markdown",
      "source": [
        "#Corrección Ejercicios Control de Cátedra 20 de mayo de 2022 "
      ],
      "metadata": {
        "id": "W_dmPCyjEg6D"
      }
    },
    {
      "cell_type": "markdown",
      "source": [
        "3. El siguiente código genera un KeyError de Excepción:"
      ],
      "metadata": {
        "id": "YGNltK5bEtx3"
      }
    },
    {
      "cell_type": "code",
      "execution_count": 1,
      "metadata": {
        "colab": {
          "base_uri": "https://localhost:8080/"
        },
        "id": "UMDnwB_aEf4K",
        "outputId": "f4e0ffa2-e079-4264-a2b9-d2ee31d60f13"
      },
      "outputs": [
        {
          "output_type": "stream",
          "name": "stdout",
          "text": [
            "ok\n"
          ]
        }
      ],
      "source": [
        "d={'a':0,'b':1,'c':0}\n",
        "if d['a']>0:\n",
        "  print('ok')\n",
        "elif d['b']>0:\n",
        "  print('ok')\n",
        "elif d['c']>0:\n",
        "  print('ok')\n",
        "elif d['d']>0:\n",
        "  print('ok')\n",
        "else:\n",
        "  print('not ok')"
      ]
    },
    {
      "cell_type": "markdown",
      "source": [
        "Falso, si bien la llave 'd' no existe y por ende no está declarada, esto no genera un error de Excepción al compilar. Sin embargo se dará puntaje a ambas respuestas, si fundamentaron bien su respuesta."
      ],
      "metadata": {
        "id": "NVlNHuxRE1UH"
      }
    },
    {
      "cell_type": "markdown",
      "source": [
        "4. Escribe un programa usando if/else que asigne el menor valor entre a y b a la variable m, dado:\n",
        "\n",
        "a = 100 \n",
        "b = 50"
      ],
      "metadata": {
        "id": "OcQYJj2DFui3"
      }
    },
    {
      "cell_type": "code",
      "source": [
        "a = 100\n",
        "b = 50\n",
        "if a<b:\n",
        "  m = a\n",
        "else:\n",
        "  m = b\n",
        "\n",
        "print (m)"
      ],
      "metadata": {
        "colab": {
          "base_uri": "https://localhost:8080/"
        },
        "id": "ayMWxrgQGH7D",
        "outputId": "6e3ada29-735b-411e-dc13-2c3ec76ce520"
      },
      "execution_count": 2,
      "outputs": [
        {
          "output_type": "stream",
          "name": "stdout",
          "text": [
            "50\n"
          ]
        }
      ]
    },
    {
      "cell_type": "markdown",
      "source": [
        "Revisar y dar puntaje según cada caso, dependiendo si uso if/else, independiente si no lo implemento bien, tendrá 2 puntos."
      ],
      "metadata": {
        "id": "6OVilGPTV40Q"
      }
    },
    {
      "cell_type": "markdown",
      "source": [
        "5. Dada la siguiente lista:\n",
        "\n",
        "x= [10,[3.141,20,[30,'baz',2.718]], 'foo']\n",
        "\n",
        "\n",
        "\n",
        "Qué instrucción en Python retorna list['baz', 2.718]?\n"
      ],
      "metadata": {
        "id": "ZQg6Ws96GaH5"
      }
    },
    {
      "cell_type": "code",
      "source": [
        "x= [10,[3.141,20,[30,'baz',2.718]], 'foo']\n",
        "\n",
        "print(x[1][2][1:3])\n"
      ],
      "metadata": {
        "colab": {
          "base_uri": "https://localhost:8080/"
        },
        "id": "MgjlszQGKIlM",
        "outputId": "ca6009a2-e984-4d88-925d-1370a5b8a11b"
      },
      "execution_count": 3,
      "outputs": [
        {
          "output_type": "stream",
          "name": "stdout",
          "text": [
            "['baz', 2.718]\n"
          ]
        }
      ]
    },
    {
      "cell_type": "markdown",
      "source": [
        "Revisar cada caso, pero si intento moverse en las posiciones para mostrar los valores pedidos, independiente si lo logró, tendrá 2 puntos."
      ],
      "metadata": {
        "id": "fPqGz_7KWHuE"
      }
    },
    {
      "cell_type": "markdown",
      "source": [
        "6. Dada la siguiente lista: \n",
        "\n",
        "a = [1, 2, 3, 4, 5]\n",
        "\n",
        "Seleccione las alternativas que eliminen el número 3 de la lista y genere la salida [1, 2, 4, 5]:"
      ],
      "metadata": {
        "id": "eMOxkgh0WTLD"
      }
    },
    {
      "cell_type": "code",
      "source": [
        "#alternativa a es correcta\n",
        "a = [1,2,3,4,5]\n",
        "del a[2]\n",
        "print(a)"
      ],
      "metadata": {
        "colab": {
          "base_uri": "https://localhost:8080/"
        },
        "id": "w5uv8k5gWSWj",
        "outputId": "c9638a55-0c96-4e43-a6fc-abdf9cf13205"
      },
      "execution_count": 1,
      "outputs": [
        {
          "output_type": "stream",
          "name": "stdout",
          "text": [
            "[1, 2, 4, 5]\n"
          ]
        }
      ]
    },
    {
      "cell_type": "code",
      "source": [
        "#alternativa b es correcta\n",
        "a = [1,2,3,4,5]\n",
        "a.remove(3)\n",
        "print(a)"
      ],
      "metadata": {
        "colab": {
          "base_uri": "https://localhost:8080/"
        },
        "id": "SbgjVRrDb8AT",
        "outputId": "4aa4a0e3-c0b2-4b65-e355-558b229f762f"
      },
      "execution_count": 2,
      "outputs": [
        {
          "output_type": "stream",
          "name": "stdout",
          "text": [
            "[1, 2, 4, 5]\n"
          ]
        }
      ]
    },
    {
      "cell_type": "code",
      "source": [
        "#alternativa c es correcta\n",
        "a = [1,2,3,4,5]\n",
        "a[2:3]=[]\n",
        "print(a)"
      ],
      "metadata": {
        "colab": {
          "base_uri": "https://localhost:8080/"
        },
        "id": "_c7PrE5ZcCeU",
        "outputId": "84dde07b-7feb-4a84-883f-5707a7a25039"
      },
      "execution_count": 3,
      "outputs": [
        {
          "output_type": "stream",
          "name": "stdout",
          "text": [
            "[1, 2, 4, 5]\n"
          ]
        }
      ]
    },
    {
      "cell_type": "markdown",
      "source": [
        "\n",
        "1.   Si responde solo 1 de las 3: 1 punto\n",
        "2.   Si responde 2 de 3: 1,5 puntos\n",
        "3.   Si responde las 3: 2 puntos"
      ],
      "metadata": {
        "id": "T7WpJWFycI0a"
      }
    },
    {
      "cell_type": "markdown",
      "source": [
        "7. Dada la siguiente tupla:\n",
        "\n",
        "t = ('foo','bar','baz')\n",
        "\n",
        "Escriba la instrucción que permita reemplazar el segundo elemento de la tupla por 'tar'."
      ],
      "metadata": {
        "id": "cHuc6p-PcUET"
      }
    },
    {
      "cell_type": "code",
      "source": [
        "t = ('foo','bar','baz')\n",
        "print(t)\n",
        "t = ('foo','tar','baz')\n",
        "print(t)"
      ],
      "metadata": {
        "colab": {
          "base_uri": "https://localhost:8080/"
        },
        "id": "wHcS3JLUcm_j",
        "outputId": "7b3baf3b-33c4-4999-a985-f50ad8a946bc"
      },
      "execution_count": 4,
      "outputs": [
        {
          "output_type": "stream",
          "name": "stdout",
          "text": [
            "('foo', 'bar', 'baz')\n",
            "('foo', 'tar', 'baz')\n"
          ]
        }
      ]
    },
    {
      "cell_type": "markdown",
      "source": [
        "\n",
        "1.   Si responde que no se puede reemplazar un elemento en una tupla: 3 puntos\n",
        "2.   Si además escribe la solución de arriba: 1 punto adicional\n",
        "\n",
        "\n",
        "\n"
      ],
      "metadata": {
        "id": "N0Lp0NT1c3cE"
      }
    },
    {
      "cell_type": "markdown",
      "source": [
        "8. Qué operación realiza el siguiente bloque de código:"
      ],
      "metadata": {
        "id": "bxiMQQ20dFRh"
      }
    },
    {
      "cell_type": "code",
      "source": [
        "x = 5\n",
        "y =-5\n",
        "x, y= (y, x)[::-1]\n",
        "print(x,y)"
      ],
      "metadata": {
        "colab": {
          "base_uri": "https://localhost:8080/"
        },
        "id": "JKJZfLojdLEG",
        "outputId": "4837596f-b45f-4a65-cddf-0d9c88ddb561"
      },
      "execution_count": 15,
      "outputs": [
        {
          "output_type": "stream",
          "name": "stdout",
          "text": [
            "5 -5\n"
          ]
        }
      ]
    },
    {
      "cell_type": "markdown",
      "source": [
        "Acá deben darse cuenta que la instrucción intenta dar vuelta/intercambiar los valores, pero luego con el [::-1] vuelven a quedar en la misma posición. \n",
        "\n",
        "1.   Si logran identificar ambos movimientos: 3 puntos\n",
        "2.   Si logran identificar al menos 1 de los 2: 2 puntos\n"
      ],
      "metadata": {
        "id": "mt_qTbFyeA09"
      }
    },
    {
      "cell_type": "markdown",
      "source": [
        "9. Dado el siguiente diccionario:\n",
        "\n",
        "Escriba la instrucción para borrar 'baz'"
      ],
      "metadata": {
        "id": "usUn7Ur0eWaD"
      }
    },
    {
      "cell_type": "code",
      "source": [
        "d={'foo':100,'bar':200,'baz':300}\n",
        "del d['baz']\n",
        "print(d)"
      ],
      "metadata": {
        "colab": {
          "base_uri": "https://localhost:8080/"
        },
        "id": "oIQTb9yjef-k",
        "outputId": "c8176699-51f8-43fb-eed3-3115273ebce1"
      },
      "execution_count": 16,
      "outputs": [
        {
          "output_type": "stream",
          "name": "stdout",
          "text": [
            "{'foo': 100, 'bar': 200}\n"
          ]
        }
      ]
    },
    {
      "cell_type": "markdown",
      "source": [
        "\n",
        "1.   Si lo borra: 3 puntos\n",
        "2.   Si lo intenta con errores: 1 punto"
      ],
      "metadata": {
        "id": "BFkSC3Uqeu-r"
      }
    },
    {
      "cell_type": "markdown",
      "source": [
        "10. Se ejecuta la línea 5 de este bloque de código:"
      ],
      "metadata": {
        "id": "oN_UPlBZe38z"
      }
    },
    {
      "cell_type": "code",
      "source": [
        "a=['foo','bar','baz','qux','corge']\n",
        "while a:\n",
        "  print(a.pop())\n",
        "else:\n",
        "  print('Done.')"
      ],
      "metadata": {
        "colab": {
          "base_uri": "https://localhost:8080/"
        },
        "id": "JpAOr6Tke9Ro",
        "outputId": "115039ca-7789-4ff7-b370-7aae8477b411"
      },
      "execution_count": 17,
      "outputs": [
        {
          "output_type": "stream",
          "name": "stdout",
          "text": [
            "corge\n",
            "qux\n",
            "baz\n",
            "bar\n",
            "foo\n",
            "Done.\n"
          ]
        }
      ]
    },
    {
      "cell_type": "markdown",
      "source": [
        "la respuesta es sí, porque terminará la lista y ya no se cumplirá el while, y pasará al else.\n",
        "\n",
        "\n",
        "1.   Si dice sí: 3 puntos.\n",
        "2.   Si dice no: 0 puntos.\n",
        "\n"
      ],
      "metadata": {
        "id": "W4qyXlhRfPgM"
      }
    },
    {
      "cell_type": "markdown",
      "source": [
        "11. Defina una función que reciba como argumento un string y retorne True si el string es un palíndromo, y false si el string no es un palíndromo (ex. Oso, salas, radar, etc.)"
      ],
      "metadata": {
        "id": "olOmEdH2gdZX"
      }
    },
    {
      "cell_type": "code",
      "source": [
        "def palindromo(palabra):\n",
        "  if palabra==palabra[::-1]:\n",
        "    return True\n",
        "  else:\n",
        "    return False\n",
        "\n",
        "print(palindromo('oso'))"
      ],
      "metadata": {
        "colab": {
          "base_uri": "https://localhost:8080/"
        },
        "id": "mozlhfpmgqfi",
        "outputId": "1925428f-1f39-460d-b314-6773bdd88aed"
      },
      "execution_count": 18,
      "outputs": [
        {
          "output_type": "stream",
          "name": "stdout",
          "text": [
            "True\n"
          ]
        }
      ]
    },
    {
      "cell_type": "markdown",
      "source": [
        "\n",
        "\n",
        "1.   Si logro hacerlo bien y sin errores: 5 puntos\n",
        "2.   Si logro definir la función, pero no funciona la idea: 3 puntos\n",
        "3.   Si logra identificar la estructura a hacer o intenta hacer algo: 2 puntos.\n",
        "\n",
        "\n"
      ],
      "metadata": {
        "id": "lwV8hcGeguZS"
      }
    },
    {
      "cell_type": "markdown",
      "source": [
        "12. Dada la siguiente función, defina lo que hace:"
      ],
      "metadata": {
        "id": "6GFi88crhGly"
      }
    },
    {
      "cell_type": "code",
      "source": [
        "def DNA_strand(dna):\n",
        "  strand=''\n",
        "  for d in dna:\n",
        "    if d=='A':\n",
        "       strand +='T'\n",
        "    elif d=='T':\n",
        "       strand +='A'\n",
        "    elif d=='C':\n",
        "       strand +='G'\n",
        "    elif d=='G':\n",
        "       strand +='C'\n",
        "  return strand\n",
        "\n",
        "\n",
        "print(DNA_strand('ACTGC'))\n",
        "    "
      ],
      "metadata": {
        "colab": {
          "base_uri": "https://localhost:8080/"
        },
        "id": "2GECUdd9hMXr",
        "outputId": "42547cc2-f962-4757-d5aa-8a59f995b6b1"
      },
      "execution_count": 22,
      "outputs": [
        {
          "output_type": "stream",
          "name": "stdout",
          "text": [
            "TGACG\n"
          ]
        }
      ]
    },
    {
      "cell_type": "markdown",
      "source": [
        "La respuesta es C: 2 puntos"
      ],
      "metadata": {
        "id": "n0ruRSxjihcN"
      }
    },
    {
      "cell_type": "markdown",
      "source": [
        "13. Diseña una función recursiva en Python que reciba un número natural entero y calcule la suma de todos los números hasta llegar a 0:\n",
        "\n",
        "\n",
        "suma()\n",
        "\n",
        "         Suma(de 1 a n)= 1                     , si n=1\n",
        "                       = n + Suma(de 1 a n-1)  , si n>1\n",
        "\n",
        "Diseña una función en Python recursiva que calcule la sumatorio de los n primeros números naturales."
      ],
      "metadata": {
        "id": "pSPiwtttil1L"
      }
    },
    {
      "cell_type": "code",
      "source": [
        "def suma(n):\n",
        "   if n==1:\n",
        "     resultado = 1\n",
        "   else:\n",
        "     resultado = n + suma(n-1)\n",
        "  \n",
        "   return resultado\n",
        "    \n",
        "suma(10)"
      ],
      "metadata": {
        "colab": {
          "base_uri": "https://localhost:8080/"
        },
        "id": "Buyt-rJfswxO",
        "outputId": "7ddbd4c9-817c-48fc-8dfc-263a5f080b4d"
      },
      "execution_count": 23,
      "outputs": [
        {
          "output_type": "execute_result",
          "data": {
            "text/plain": [
              "55"
            ]
          },
          "metadata": {},
          "execution_count": 23
        }
      ]
    },
    {
      "cell_type": "markdown",
      "source": [
        "\n",
        "1.   Si define la función de manera correcta: 5 puntos\n",
        "2.   Si define la función con errores pero implementa o intenta hacer una recursión: 3 puntos\n",
        "3.   Si define una función no recursiva: 2 puntos\n"
      ],
      "metadata": {
        "id": "K6XqNdCvtDU_"
      }
    },
    {
      "cell_type": "markdown",
      "source": [
        "14. La siguiente función tiene un error, puedes identificar cuál es y corregirlo?"
      ],
      "metadata": {
        "id": "KT8x4BREuGFn"
      }
    },
    {
      "cell_type": "code",
      "source": [
        "def factorial(n):\n",
        "   if n == 0 or n == 1:\n",
        "      resultado = 1\n",
        "   elif n > 1:\n",
        "      resultado = n * factorial(n-1)\n",
        "   return n\n",
        "\n",
        "\n",
        "print(factorial(5))"
      ],
      "metadata": {
        "colab": {
          "base_uri": "https://localhost:8080/"
        },
        "id": "oq9k1IJguM7w",
        "outputId": "823997f7-85ed-4760-fb9e-abed096eb8f9"
      },
      "execution_count": 24,
      "outputs": [
        {
          "output_type": "stream",
          "name": "stdout",
          "text": [
            "5\n"
          ]
        }
      ]
    },
    {
      "cell_type": "markdown",
      "source": [
        "\n",
        "1.   Si identifica que el error esta en lo que retorna la función: 3 puntos\n",
        "2.   Si intenta identificar pero no acierta: 1 punto\n",
        "\n"
      ],
      "metadata": {
        "id": "1YMsdLGluRNd"
      }
    }
  ]
}