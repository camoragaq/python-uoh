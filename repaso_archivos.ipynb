{
  "nbformat": 4,
  "nbformat_minor": 0,
  "metadata": {
    "kernelspec": {
      "display_name": "Python",
      "language": "python",
      "name": "conda-env-python-py"
    },
    "language_info": {
      "codemirror_mode": {
        "name": "ipython",
        "version": 3
      },
      "file_extension": ".py",
      "mimetype": "text/x-python",
      "name": "python",
      "nbconvert_exporter": "python",
      "pygments_lexer": "ipython3",
      "version": "3.6.7"
    },
    "colab": {
      "name": "repaso-archivos.ipynb",
      "provenance": [],
      "collapsed_sections": [],
      "include_colab_link": true
    }
  },
  "cells": [
    {
      "cell_type": "markdown",
      "metadata": {
        "id": "view-in-github",
        "colab_type": "text"
      },
      "source": [
        "<a href=\"https://colab.research.google.com/github/camoragaq/python-uoh/blob/main/repaso_archivos.ipynb\" target=\"_parent\"><img src=\"https://colab.research.google.com/assets/colab-badge.svg\" alt=\"Open In Colab\"/></a>"
      ]
    },
    {
      "cell_type": "markdown",
      "metadata": {
        "id": "0Cugy03Gx2-a"
      },
      "source": [
        "#Leyendo archivos en Python"
      ]
    },
    {
      "cell_type": "markdown",
      "metadata": {
        "id": "WjCaEu9zx2-r"
      },
      "source": [
        "Una manera de leer un archivo o escribir en él es usando la función open(), la función guarda un objeto donde lo asignemos y ese objeto contiene métodos y atributos de lectura, escritura, del contenido del archivo. Mire el ejemplo:\n"
      ]
    },
    {
      "cell_type": "markdown",
      "metadata": {
        "id": "gx6bax3kx2-s"
      },
      "source": [
        "<img src=\"https://s3-api.us-geo.objectstorage.softlayer.net/cf-courses-data/CognitiveClass/PY0101EN/Chapter%204/Images/ReadOpen.png\" width=\"500\" />"
      ]
    },
    {
      "cell_type": "markdown",
      "metadata": {
        "id": "6J6vmfE2x2-t"
      },
      "source": [
        "El modo de argumento si bien es opcional, el modo por defecto será \"r\". Sino podemos asignar \"r\" para lectura; \"w\" para escritura; y \"a\" para escribir en un archivo ya existente: \n",
        "<ul>\n",
        "    <li><b>r</b> modo lectura </li>\n",
        "    <li><b>w</b> modo escritura</li>\n",
        "    <li><b>a</b> modo escritura en archivo existente</li>\n",
        "</ul>"
      ]
    },
    {
      "cell_type": "markdown",
      "metadata": {
        "id": "67CzPp22x2-u"
      },
      "source": [
        "Para el siguiente ejemplo vamos a usar un archivo ejemplo.txt yque contenga lo siguiente:\n"
      ]
    },
    {
      "cell_type": "markdown",
      "source": [
        "<img src=\"https://s3-api.us-geo.objectstorage.softlayer.net/cf-courses-data/CognitiveClass/PY0101EN/Chapter%204/Images/ReadFile.png\" width=\"200\" />"
      ],
      "metadata": {
        "id": "7sBCxKULbbBU"
      }
    },
    {
      "cell_type": "markdown",
      "metadata": {
        "id": "MUfhCOjvx2-x"
      },
      "source": [
        "Primero leemos el archivo: "
      ]
    },
    {
      "cell_type": "code",
      "metadata": {
        "id": "uOd0hpZmx2-y"
      },
      "source": [
        "ejemplo = \"ejemplo.txt\"\n",
        "file = open(ejemplo, \"r\")"
      ],
      "execution_count": null,
      "outputs": []
    },
    {
      "cell_type": "markdown",
      "metadata": {
        "id": "bHdh_C9wx2-4"
      },
      "source": [
        "Podemos ver atributos del objeto archivo que acabamos de crear:"
      ]
    },
    {
      "cell_type": "markdown",
      "metadata": {
        "id": "lkChiC1px2-5"
      },
      "source": [
        "Nombre del archivo:"
      ]
    },
    {
      "cell_type": "code",
      "metadata": {
        "id": "7G9uJej4x2-6",
        "colab": {
          "base_uri": "https://localhost:8080/",
          "height": 35
        },
        "outputId": "68c1d60d-1bde-4e86-8c0b-b5cfebb25183"
      },
      "source": [
        "file.name"
      ],
      "execution_count": null,
      "outputs": [
        {
          "output_type": "execute_result",
          "data": {
            "text/plain": [
              "'ejemplo.txt'"
            ],
            "application/vnd.google.colaboratory.intrinsic+json": {
              "type": "string"
            }
          },
          "metadata": {},
          "execution_count": 2
        }
      ]
    },
    {
      "cell_type": "markdown",
      "metadata": {
        "id": "FVZbPpDAx2_A"
      },
      "source": [
        "\n",
        "El modo del archivo:"
      ]
    },
    {
      "cell_type": "code",
      "metadata": {
        "id": "ZkmPceh0x2_C",
        "colab": {
          "base_uri": "https://localhost:8080/",
          "height": 35
        },
        "outputId": "5416186e-2f65-47cc-f427-782577eb3bad"
      },
      "source": [
        "file.mode"
      ],
      "execution_count": null,
      "outputs": [
        {
          "output_type": "execute_result",
          "data": {
            "text/plain": [
              "'r'"
            ],
            "application/vnd.google.colaboratory.intrinsic+json": {
              "type": "string"
            }
          },
          "metadata": {},
          "execution_count": 4
        }
      ]
    },
    {
      "cell_type": "markdown",
      "metadata": {
        "id": "EEK36Uqnx2_L"
      },
      "source": [
        "Tambien podemos leer el archivo y asignar variables:"
      ]
    },
    {
      "cell_type": "code",
      "metadata": {
        "id": "ArrqzEmQx2_M",
        "colab": {
          "base_uri": "https://localhost:8080/"
        },
        "outputId": "c6609ef8-8620-4c7b-a3b9-cf8948594d32"
      },
      "source": [
        "FileContent = file.read()\n",
        "print(FileContent)"
      ],
      "execution_count": null,
      "outputs": [
        {
          "output_type": "stream",
          "name": "stdout",
          "text": [
            "this is line 1\n",
            "this is line 2\n",
            "this is line 3\n",
            "\n"
          ]
        }
      ]
    },
    {
      "cell_type": "markdown",
      "metadata": {
        "id": "KUnAAW8fx2_h"
      },
      "source": [
        "Luego cerramos el archivo:"
      ]
    },
    {
      "cell_type": "code",
      "metadata": {
        "jupyter": {
          "outputs_hidden": true
        },
        "id": "4npxswERx2_k"
      },
      "source": [
        "file.close()"
      ],
      "execution_count": null,
      "outputs": []
    },
    {
      "cell_type": "markdown",
      "metadata": {
        "id": "90tfqspZx2_q"
      },
      "source": [
        "<hr>"
      ]
    },
    {
      "cell_type": "markdown",
      "metadata": {
        "id": "Z7E_hj7Xx2_r"
      },
      "source": [
        "#Otra manera de abrir un archivo"
      ]
    },
    {
      "cell_type": "markdown",
      "metadata": {
        "id": "jkm5pZOkx2_s"
      },
      "source": [
        "Usando <code>with</code> abre y automaticamente cierra despues de leer:\n"
      ]
    },
    {
      "cell_type": "code",
      "metadata": {
        "id": "iksuKTaXx2_t",
        "colab": {
          "base_uri": "https://localhost:8080/"
        },
        "outputId": "2eb5ef0b-583d-473e-f160-d816eaca66e5"
      },
      "source": [
        "with open(\"ejemplo.txt\", \"r\") as file1:\n",
        "    FileContent = file1.read()\n",
        "print(FileContent)"
      ],
      "execution_count": null,
      "outputs": [
        {
          "output_type": "stream",
          "name": "stdout",
          "text": [
            "this is line 1\n",
            "this is line 2\n",
            "this is line 3\n",
            "\n"
          ]
        }
      ]
    },
    {
      "cell_type": "markdown",
      "metadata": {
        "id": "tmUsvFCFx2_9"
      },
      "source": [
        "Si la sintaxis es un poco confusa, acá en la figura se explica el paso a paso:"
      ]
    },
    {
      "cell_type": "markdown",
      "metadata": {
        "id": "f2BMjBjox2_-"
      },
      "source": [
        "<img src=\"https://s3-api.us-geo.objectstorage.softlayer.net/cf-courses-data/CognitiveClass/PY0101EN/Chapter%204/Images/ReadWith.png\" width=\"500\" />"
      ]
    },
    {
      "cell_type": "markdown",
      "metadata": {
        "id": "Cah-o9FJx3AZ"
      },
      "source": [
        " Para leer un archivo linea a linea usamos un for loop: \n"
      ]
    },
    {
      "cell_type": "code",
      "metadata": {
        "id": "CA34SNeyx3Aa",
        "colab": {
          "base_uri": "https://localhost:8080/"
        },
        "outputId": "47850abe-09e6-4dd2-90d2-b5960f158067"
      },
      "source": [
        "with open(\"ejemplo.txt\",\"r\") as file1:\n",
        "        i = 0;\n",
        "        for line in file1:\n",
        "            print(\"Iteration\", str(i), \": \", line)\n",
        "            i = i + 1;"
      ],
      "execution_count": null,
      "outputs": [
        {
          "output_type": "stream",
          "name": "stdout",
          "text": [
            "Iteration 0 :  this is line 1\n",
            "\n",
            "Iteration 1 :  this is line 2\n",
            "\n",
            "Iteration 2 :  this is line 3\n",
            "\n"
          ]
        }
      ]
    },
    {
      "cell_type": "markdown",
      "metadata": {
        "id": "gVsQHf_ax3Ae"
      },
      "source": [
        "También podemos usar el método <code>readlines()</code> para guardar el archivo en una lista:  "
      ]
    },
    {
      "cell_type": "code",
      "metadata": {
        "jupyter": {
          "outputs_hidden": true
        },
        "id": "PO7Wirhkx3Af",
        "colab": {
          "base_uri": "https://localhost:8080/"
        },
        "outputId": "b296d695-3273-4afd-8e78-829075d772b1"
      },
      "source": [
        "with open(\"ejemplo.txt\", \"r\") as file1:\n",
        "    FileasList = file1.readlines()\n",
        "\n",
        "print(FileasList)"
      ],
      "execution_count": null,
      "outputs": [
        {
          "output_type": "stream",
          "name": "stdout",
          "text": [
            "['this is line 1\\n', 'this is line 2\\n', 'this is line 3\\n']\n"
          ]
        }
      ]
    },
    {
      "cell_type": "markdown",
      "metadata": {
        "id": "8ux46zWqx3An"
      },
      "source": [
        "En donde cada elemento de la lista corresponde a cada línea del archivo:"
      ]
    },
    {
      "cell_type": "code",
      "metadata": {
        "id": "SEBA4whQx3Ao"
      },
      "source": [
        "FileasList[0]"
      ],
      "execution_count": null,
      "outputs": []
    },
    {
      "cell_type": "code",
      "metadata": {
        "id": "a_HqstSQx3Au"
      },
      "source": [
        "FileasList[1]"
      ],
      "execution_count": null,
      "outputs": []
    },
    {
      "cell_type": "code",
      "metadata": {
        "id": "j9NjOrIjx3Ay"
      },
      "source": [
        "FileasList[2]"
      ],
      "execution_count": null,
      "outputs": []
    }
  ]
}